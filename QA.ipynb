{
 "cells": [
  {
   "cell_type": "code",
   "execution_count": 1,
   "metadata": {
    "colab": {
     "base_uri": "https://localhost:8080/"
    },
    "executionInfo": {
     "elapsed": 20453,
     "status": "ok",
     "timestamp": 1618230570737,
     "user": {
      "displayName": "Jason F Petri",
      "photoUrl": "",
      "userId": "10231400164364138187"
     },
     "user_tz": 240
    },
    "id": "kNfkxa5157yY",
    "outputId": "a9ac20c4-3fdd-4729-9436-a5cc629ecef0"
   },
   "outputs": [
    {
     "name": "stdout",
     "output_type": "stream",
     "text": [
      "Mounted at /content/drive\n"
     ]
    },
    {
     "data": {
      "text/plain": [
       "['Christian.csv',\n",
       " 'Yuhan.csv',\n",
       " 'Nai.csv',\n",
       " 'Shan.csv',\n",
       " 'Jason.csv',\n",
       " 'ClassifiedNews.csv',\n",
       " 'test.pkl',\n",
       " 'Untitled0.ipynb']"
      ]
     },
     "execution_count": 1,
     "metadata": {
      "tags": []
     },
     "output_type": "execute_result"
    }
   ],
   "source": [
    "import os\n",
    "from google.colab import drive\n",
    "import pandas as pd\n",
    "\n",
    "\n",
    "drive.mount('/content/drive', force_remount=True)\n",
    "os.chdir('drive/MyDrive/Colab Notebooks/Q&A')\n",
    "os.listdir()"
   ]
  },
  {
   "cell_type": "code",
   "execution_count": 1,
   "metadata": {
    "executionInfo": {
     "elapsed": 3814,
     "status": "ok",
     "timestamp": 1618230570738,
     "user": {
      "displayName": "Jason F Petri",
      "photoUrl": "",
      "userId": "10231400164364138187"
     },
     "user_tz": 240
    },
    "id": "7yMnCZqKDA7j"
   },
   "outputs": [],
   "source": []
  },
  {
   "cell_type": "code",
   "execution_count": 2,
   "metadata": {
    "colab": {
     "base_uri": "https://localhost:8080/",
     "height": 227
    },
    "executionInfo": {
     "elapsed": 659,
     "status": "ok",
     "timestamp": 1618230572557,
     "user": {
      "displayName": "Jason F Petri",
      "photoUrl": "",
      "userId": "10231400164364138187"
     },
     "user_tz": 240
    },
    "id": "NobUIC5l7gA3",
    "outputId": "89ae2448-6855-438d-9fea-a79687a5f893"
   },
   "outputs": [
    {
     "data": {
      "text/html": [
       "<div>\n",
       "<style scoped>\n",
       "    .dataframe tbody tr th:only-of-type {\n",
       "        vertical-align: middle;\n",
       "    }\n",
       "\n",
       "    .dataframe tbody tr th {\n",
       "        vertical-align: top;\n",
       "    }\n",
       "\n",
       "    .dataframe thead th {\n",
       "        text-align: right;\n",
       "    }\n",
       "</style>\n",
       "<table border=\"1\" class=\"dataframe\">\n",
       "  <thead>\n",
       "    <tr style=\"text-align: right;\">\n",
       "      <th></th>\n",
       "      <th>text</th>\n",
       "      <th>true_buyer</th>\n",
       "      <th>true_seller</th>\n",
       "      <th>true_price</th>\n",
       "      <th>true_target</th>\n",
       "      <th>Reviewer</th>\n",
       "    </tr>\n",
       "    <tr>\n",
       "      <th>id</th>\n",
       "      <th></th>\n",
       "      <th></th>\n",
       "      <th></th>\n",
       "      <th></th>\n",
       "      <th></th>\n",
       "      <th></th>\n",
       "    </tr>\n",
       "  </thead>\n",
       "  <tbody>\n",
       "    <tr>\n",
       "      <th>5118</th>\n",
       "      <td>FM:Systems Gains Advanced Workspace Analytics ...</td>\n",
       "      <td>FM:Systems</td>\n",
       "      <td>Rifiniti</td>\n",
       "      <td>NaN</td>\n",
       "      <td>Rifiniti</td>\n",
       "      <td>Shan</td>\n",
       "    </tr>\n",
       "    <tr>\n",
       "      <th>5119</th>\n",
       "      <td>Premium Transportation Logistics Transfers Own...</td>\n",
       "      <td>Premium Transportation Logistics</td>\n",
       "      <td>Magnate Worldwide</td>\n",
       "      <td>NaN</td>\n",
       "      <td>Premium Transportation Logistics</td>\n",
       "      <td>Shan</td>\n",
       "    </tr>\n",
       "    <tr>\n",
       "      <th>5120</th>\n",
       "      <td>Chesapeake Eye Care Rebrands Platform as Visio...</td>\n",
       "      <td>NaN</td>\n",
       "      <td>NaN</td>\n",
       "      <td>NaN</td>\n",
       "      <td>NaN</td>\n",
       "      <td>Shan</td>\n",
       "    </tr>\n",
       "    <tr>\n",
       "      <th>5121</th>\n",
       "      <td>Ntiva Completes Strategic Acquisition of Highe...</td>\n",
       "      <td>Ntiva</td>\n",
       "      <td>Southfield Capital</td>\n",
       "      <td>NaN</td>\n",
       "      <td>HigherGround Managed Services</td>\n",
       "      <td>Shan</td>\n",
       "    </tr>\n",
       "    <tr>\n",
       "      <th>5122</th>\n",
       "      <td>Ksquare Acquires Great Wave Tech - Accelerates...</td>\n",
       "      <td>Ksquare</td>\n",
       "      <td>Great Wave Tech</td>\n",
       "      <td>NaN</td>\n",
       "      <td>Great Wave Tech</td>\n",
       "      <td>Shan</td>\n",
       "    </tr>\n",
       "  </tbody>\n",
       "</table>\n",
       "</div>"
      ],
      "text/plain": [
       "                                                   text  ... Reviewer\n",
       "id                                                       ...         \n",
       "5118  FM:Systems Gains Advanced Workspace Analytics ...  ...     Shan\n",
       "5119  Premium Transportation Logistics Transfers Own...  ...     Shan\n",
       "5120  Chesapeake Eye Care Rebrands Platform as Visio...  ...     Shan\n",
       "5121  Ntiva Completes Strategic Acquisition of Highe...  ...     Shan\n",
       "5122  Ksquare Acquires Great Wave Tech - Accelerates...  ...     Shan\n",
       "\n",
       "[5 rows x 6 columns]"
      ]
     },
     "execution_count": 2,
     "metadata": {
      "tags": []
     },
     "output_type": "execute_result"
    }
   ],
   "source": [
    "df = pd.read_csv('ClassifiedNews.csv', index_col=0)\n",
    "df.head()"
   ]
  },
  {
   "cell_type": "code",
   "execution_count": 11,
   "metadata": {
    "colab": {
     "base_uri": "https://localhost:8080/"
    },
    "executionInfo": {
     "elapsed": 190317,
     "status": "ok",
     "timestamp": 1618231467840,
     "user": {
      "displayName": "Jason F Petri",
      "photoUrl": "",
      "userId": "10231400164364138187"
     },
     "user_tz": 240
    },
    "id": "TOzjwEPR72XQ",
    "outputId": "379dfc82-763b-4e57-e99e-8f721b5eb37f"
   },
   "outputs": [
    {
     "name": "stdout",
     "output_type": "stream",
     "text": [
      "Collecting en_core_web_lg==2.2.5\n",
      "\u001b[?25l  Downloading https://github.com/explosion/spacy-models/releases/download/en_core_web_lg-2.2.5/en_core_web_lg-2.2.5.tar.gz (827.9MB)\n",
      "\u001b[K     |████████████████████████████████| 827.9MB 1.4MB/s \n",
      "\u001b[?25hRequirement already satisfied: spacy>=2.2.2 in /usr/local/lib/python3.7/dist-packages (from en_core_web_lg==2.2.5) (2.2.4)\n",
      "Requirement already satisfied: tqdm<5.0.0,>=4.38.0 in /usr/local/lib/python3.7/dist-packages (from spacy>=2.2.2->en_core_web_lg==2.2.5) (4.41.1)\n",
      "Requirement already satisfied: setuptools in /usr/local/lib/python3.7/dist-packages (from spacy>=2.2.2->en_core_web_lg==2.2.5) (54.2.0)\n",
      "Requirement already satisfied: cymem<2.1.0,>=2.0.2 in /usr/local/lib/python3.7/dist-packages (from spacy>=2.2.2->en_core_web_lg==2.2.5) (2.0.5)\n",
      "Requirement already satisfied: thinc==7.4.0 in /usr/local/lib/python3.7/dist-packages (from spacy>=2.2.2->en_core_web_lg==2.2.5) (7.4.0)\n",
      "Requirement already satisfied: numpy>=1.15.0 in /usr/local/lib/python3.7/dist-packages (from spacy>=2.2.2->en_core_web_lg==2.2.5) (1.18.0)\n",
      "Requirement already satisfied: requests<3.0.0,>=2.13.0 in /usr/local/lib/python3.7/dist-packages (from spacy>=2.2.2->en_core_web_lg==2.2.5) (2.22.0)\n",
      "Requirement already satisfied: srsly<1.1.0,>=1.0.2 in /usr/local/lib/python3.7/dist-packages (from spacy>=2.2.2->en_core_web_lg==2.2.5) (1.0.5)\n",
      "Requirement already satisfied: wasabi<1.1.0,>=0.4.0 in /usr/local/lib/python3.7/dist-packages (from spacy>=2.2.2->en_core_web_lg==2.2.5) (0.8.2)\n",
      "Requirement already satisfied: blis<0.5.0,>=0.4.0 in /usr/local/lib/python3.7/dist-packages (from spacy>=2.2.2->en_core_web_lg==2.2.5) (0.4.1)\n",
      "Requirement already satisfied: murmurhash<1.1.0,>=0.28.0 in /usr/local/lib/python3.7/dist-packages (from spacy>=2.2.2->en_core_web_lg==2.2.5) (1.0.5)\n",
      "Requirement already satisfied: preshed<3.1.0,>=3.0.2 in /usr/local/lib/python3.7/dist-packages (from spacy>=2.2.2->en_core_web_lg==2.2.5) (3.0.5)\n",
      "Requirement already satisfied: catalogue<1.1.0,>=0.0.7 in /usr/local/lib/python3.7/dist-packages (from spacy>=2.2.2->en_core_web_lg==2.2.5) (1.0.0)\n",
      "Requirement already satisfied: plac<1.2.0,>=0.9.6 in /usr/local/lib/python3.7/dist-packages (from spacy>=2.2.2->en_core_web_lg==2.2.5) (1.1.3)\n",
      "Requirement already satisfied: urllib3!=1.25.0,!=1.25.1,<1.26,>=1.21.1 in /usr/local/lib/python3.7/dist-packages (from requests<3.0.0,>=2.13.0->spacy>=2.2.2->en_core_web_lg==2.2.5) (1.24.3)\n",
      "Requirement already satisfied: certifi>=2017.4.17 in /usr/local/lib/python3.7/dist-packages (from requests<3.0.0,>=2.13.0->spacy>=2.2.2->en_core_web_lg==2.2.5) (2020.12.5)\n",
      "Requirement already satisfied: idna<2.9,>=2.5 in /usr/local/lib/python3.7/dist-packages (from requests<3.0.0,>=2.13.0->spacy>=2.2.2->en_core_web_lg==2.2.5) (2.8)\n",
      "Requirement already satisfied: chardet<3.1.0,>=3.0.2 in /usr/local/lib/python3.7/dist-packages (from requests<3.0.0,>=2.13.0->spacy>=2.2.2->en_core_web_lg==2.2.5) (3.0.4)\n",
      "Requirement already satisfied: importlib-metadata>=0.20; python_version < \"3.8\" in /usr/local/lib/python3.7/dist-packages (from catalogue<1.1.0,>=0.0.7->spacy>=2.2.2->en_core_web_lg==2.2.5) (3.8.1)\n",
      "Requirement already satisfied: zipp>=0.5 in /usr/local/lib/python3.7/dist-packages (from importlib-metadata>=0.20; python_version < \"3.8\"->catalogue<1.1.0,>=0.0.7->spacy>=2.2.2->en_core_web_lg==2.2.5) (3.4.1)\n",
      "Requirement already satisfied: typing-extensions>=3.6.4; python_version < \"3.8\" in /usr/local/lib/python3.7/dist-packages (from importlib-metadata>=0.20; python_version < \"3.8\"->catalogue<1.1.0,>=0.0.7->spacy>=2.2.2->en_core_web_lg==2.2.5) (3.7.4.3)\n",
      "Building wheels for collected packages: en-core-web-lg\n",
      "  Building wheel for en-core-web-lg (setup.py) ... \u001b[?25l\u001b[?25hdone\n",
      "  Created wheel for en-core-web-lg: filename=en_core_web_lg-2.2.5-cp37-none-any.whl size=829180944 sha256=5a5495d3e6ec72c0500968938d6190ca4b2dbe368f31eb5954b19ee20fec71e3\n",
      "  Stored in directory: /tmp/pip-ephem-wheel-cache-kz9szufz/wheels/2a/c1/a6/fc7a877b1efca9bc6a089d6f506f16d3868408f9ff89f8dbfc\n",
      "Successfully built en-core-web-lg\n",
      "Installing collected packages: en-core-web-lg\n",
      "Successfully installed en-core-web-lg-2.2.5\n",
      "\u001b[38;5;2m✔ Download and installation successful\u001b[0m\n",
      "You can now load the model via spacy.load('en_core_web_lg')\n"
     ]
    }
   ],
   "source": [
    "!python -m spacy download en_core_web_lg\n",
    "import spacy \n",
    "from spacy import displacy\n",
    "import en_core_web_lg\n",
    "# nlp = spacy.load(\"en_core_web_lg\")\n",
    "nlp = en_core_web_lg.load()"
   ]
  },
  {
   "cell_type": "code",
   "execution_count": null,
   "metadata": {
    "colab": {
     "base_uri": "https://localhost:8080/",
     "height": 123
    },
    "executionInfo": {
     "elapsed": 342,
     "status": "ok",
     "timestamp": 1618195310889,
     "user": {
      "displayName": "Jason F Petri",
      "photoUrl": "",
      "userId": "10231400164364138187"
     },
     "user_tz": 240
    },
    "id": "S0VRFXvL771Z",
    "outputId": "77a404fa-6543-4142-f818-c35504d11be3"
   },
   "outputs": [
    {
     "name": "stdout",
     "output_type": "stream",
     "text": [
      "[(Premium, 'ORG'), (Transportation, 'ORG'), (Logistics, 'ORG'), (Transfers, 'ORG'), (Ownership, 'ORG'), (TOLEDO, 'GPE'), (Ohio, 'GPE'), (July, 'DATE'), (1, 'DATE'), (,, 'DATE'), (2019, 'DATE'), (Premium, 'ORG'), (Transportation, 'ORG'), (Logistics, 'ORG'), (', 'ORG'), (PTL, 'WORK_OF_ART'), (Management, 'ORG'), (Team, 'ORG'), (Jeff, 'PERSON'), (Curry, 'PERSON'), (PTL, 'ORG'), (Keith, 'PERSON'), (Avery, 'PERSON'), (Brad, 'PERSON'), (Kelley, 'PERSON'), (today, 'DATE'), (PTL, 'ORG'), (PTL, 'ORG'), (North, 'LOC'), (America, 'LOC')]\n"
     ]
    },
    {
     "data": {
      "text/html": [
       "<span class=\"tex2jax_ignore\"><div class=\"entities\" style=\"line-height: 2.5; direction: ltr\">\n",
       "<mark class=\"entity\" style=\"background: #7aecec; padding: 0.45em 0.6em; margin: 0 0.25em; line-height: 1; border-radius: 0.35em;\">\n",
       "    Premium Transportation Logistics Transfers Ownership\n",
       "    <span style=\"font-size: 0.8em; font-weight: bold; line-height: 1; border-radius: 0.35em; text-transform: uppercase; vertical-align: middle; margin-left: 0.5rem\">ORG</span>\n",
       "</mark>\n",
       ". \n",
       "<mark class=\"entity\" style=\"background: #feca74; padding: 0.45em 0.6em; margin: 0 0.25em; line-height: 1; border-radius: 0.35em;\">\n",
       "    TOLEDO\n",
       "    <span style=\"font-size: 0.8em; font-weight: bold; line-height: 1; border-radius: 0.35em; text-transform: uppercase; vertical-align: middle; margin-left: 0.5rem\">GPE</span>\n",
       "</mark>\n",
       ", \n",
       "<mark class=\"entity\" style=\"background: #feca74; padding: 0.45em 0.6em; margin: 0 0.25em; line-height: 1; border-radius: 0.35em;\">\n",
       "    Ohio\n",
       "    <span style=\"font-size: 0.8em; font-weight: bold; line-height: 1; border-radius: 0.35em; text-transform: uppercase; vertical-align: middle; margin-left: 0.5rem\">GPE</span>\n",
       "</mark>\n",
       ", \n",
       "<mark class=\"entity\" style=\"background: #bfe1d9; padding: 0.45em 0.6em; margin: 0 0.25em; line-height: 1; border-radius: 0.35em;\">\n",
       "    July 1, 2019\n",
       "    <span style=\"font-size: 0.8em; font-weight: bold; line-height: 1; border-radius: 0.35em; text-transform: uppercase; vertical-align: middle; margin-left: 0.5rem\">DATE</span>\n",
       "</mark>\n",
       " /PRNewswire/ -- \n",
       "<mark class=\"entity\" style=\"background: #7aecec; padding: 0.45em 0.6em; margin: 0 0.25em; line-height: 1; border-radius: 0.35em;\">\n",
       "    Premium Transportation Logistics'\n",
       "    <span style=\"font-size: 0.8em; font-weight: bold; line-height: 1; border-radius: 0.35em; text-transform: uppercase; vertical-align: middle; margin-left: 0.5rem\">ORG</span>\n",
       "</mark>\n",
       " (&quot;\n",
       "<mark class=\"entity\" style=\"background: #f0d0ff; padding: 0.45em 0.6em; margin: 0 0.25em; line-height: 1; border-radius: 0.35em;\">\n",
       "    PTL\n",
       "    <span style=\"font-size: 0.8em; font-weight: bold; line-height: 1; border-radius: 0.35em; text-transform: uppercase; vertical-align: middle; margin-left: 0.5rem\">WORK_OF_ART</span>\n",
       "</mark>\n",
       "&quot;) Senior \n",
       "<mark class=\"entity\" style=\"background: #7aecec; padding: 0.45em 0.6em; margin: 0 0.25em; line-height: 1; border-radius: 0.35em;\">\n",
       "    Management Team\n",
       "    <span style=\"font-size: 0.8em; font-weight: bold; line-height: 1; border-radius: 0.35em; text-transform: uppercase; vertical-align: middle; margin-left: 0.5rem\">ORG</span>\n",
       "</mark>\n",
       ", comprised of current President, \n",
       "<mark class=\"entity\" style=\"background: #aa9cfc; padding: 0.45em 0.6em; margin: 0 0.25em; line-height: 1; border-radius: 0.35em;\">\n",
       "    Jeff Curry\n",
       "    <span style=\"font-size: 0.8em; font-weight: bold; line-height: 1; border-radius: 0.35em; text-transform: uppercase; vertical-align: middle; margin-left: 0.5rem\">PERSON</span>\n",
       "</mark>\n",
       ", longtime \n",
       "<mark class=\"entity\" style=\"background: #7aecec; padding: 0.45em 0.6em; margin: 0 0.25em; line-height: 1; border-radius: 0.35em;\">\n",
       "    PTL\n",
       "    <span style=\"font-size: 0.8em; font-weight: bold; line-height: 1; border-radius: 0.35em; text-transform: uppercase; vertical-align: middle; margin-left: 0.5rem\">ORG</span>\n",
       "</mark>\n",
       " Operations Manager, \n",
       "<mark class=\"entity\" style=\"background: #aa9cfc; padding: 0.45em 0.6em; margin: 0 0.25em; line-height: 1; border-radius: 0.35em;\">\n",
       "    Keith Avery\n",
       "    <span style=\"font-size: 0.8em; font-weight: bold; line-height: 1; border-radius: 0.35em; text-transform: uppercase; vertical-align: middle; margin-left: 0.5rem\">PERSON</span>\n",
       "</mark>\n",
       ", and expedited transportation sales veteran, \n",
       "<mark class=\"entity\" style=\"background: #aa9cfc; padding: 0.45em 0.6em; margin: 0 0.25em; line-height: 1; border-radius: 0.35em;\">\n",
       "    Brad Kelley\n",
       "    <span style=\"font-size: 0.8em; font-weight: bold; line-height: 1; border-radius: 0.35em; text-transform: uppercase; vertical-align: middle; margin-left: 0.5rem\">PERSON</span>\n",
       "</mark>\n",
       ", announced \n",
       "<mark class=\"entity\" style=\"background: #bfe1d9; padding: 0.45em 0.6em; margin: 0 0.25em; line-height: 1; border-radius: 0.35em;\">\n",
       "    today\n",
       "    <span style=\"font-size: 0.8em; font-weight: bold; line-height: 1; border-radius: 0.35em; text-transform: uppercase; vertical-align: middle; margin-left: 0.5rem\">DATE</span>\n",
       "</mark>\n",
       " that it has acquired \n",
       "<mark class=\"entity\" style=\"background: #7aecec; padding: 0.45em 0.6em; margin: 0 0.25em; line-height: 1; border-radius: 0.35em;\">\n",
       "    PTL\n",
       "    <span style=\"font-size: 0.8em; font-weight: bold; line-height: 1; border-radius: 0.35em; text-transform: uppercase; vertical-align: middle; margin-left: 0.5rem\">ORG</span>\n",
       "</mark>\n",
       " from Magnate Worldwide. \n",
       "<mark class=\"entity\" style=\"background: #7aecec; padding: 0.45em 0.6em; margin: 0 0.25em; line-height: 1; border-radius: 0.35em;\">\n",
       "    PTL\n",
       "    <span style=\"font-size: 0.8em; font-weight: bold; line-height: 1; border-radius: 0.35em; text-transform: uppercase; vertical-align: middle; margin-left: 0.5rem\">ORG</span>\n",
       "</mark>\n",
       " will continue to serve the ground expedite market in \n",
       "<mark class=\"entity\" style=\"background: #ff9561; padding: 0.45em 0.6em; margin: 0 0.25em; line-height: 1; border-radius: 0.35em;\">\n",
       "    North America\n",
       "    <span style=\"font-size: 0.8em; font-weight: bold; line-height: 1; border-radius: 0.35em; text-transform: uppercase; vertical-align: middle; margin-left: 0.5rem\">LOC</span>\n",
       "</mark>\n",
       ".\n",
       "</div></span>"
      ],
      "text/plain": [
       "<IPython.core.display.HTML object>"
      ]
     },
     "metadata": {
      "tags": []
     },
     "output_type": "display_data"
    }
   ],
   "source": [
    "newsfeed = df['text'].iloc[1]\n",
    "\n",
    "news_nlp = nlp(newsfeed)\n",
    "\n",
    "# print named entities in article\n",
    "print([(word, word.ent_type_) for word in news_nlp if word.ent_type_])\n",
    "\n",
    "# visualize named entities\n",
    "displacy.render(news_nlp, style='ent', jupyter=True)"
   ]
  },
  {
   "cell_type": "code",
   "execution_count": null,
   "metadata": {
    "colab": {
     "base_uri": "https://localhost:8080/"
    },
    "executionInfo": {
     "elapsed": 55598,
     "status": "ok",
     "timestamp": 1618198845339,
     "user": {
      "displayName": "Jason F Petri",
      "photoUrl": "",
      "userId": "10231400164364138187"
     },
     "user_tz": 240
    },
    "id": "4x5ALQSd9crZ",
    "outputId": "51e356bf-373f-406f-bc77-5447c508c080"
   },
   "outputs": [
    {
     "name": "stdout",
     "output_type": "stream",
     "text": [
      "\u001b[K     |████████████████████████████████| 993kB 5.2MB/s \n",
      "\u001b[K     |████████████████████████████████| 8.2MB 25.2MB/s \n",
      "\u001b[K     |████████████████████████████████| 71kB 5.3MB/s \n",
      "\u001b[K     |████████████████████████████████| 61kB 5.9MB/s \n",
      "\u001b[K     |████████████████████████████████| 2.1MB 50.7MB/s \n",
      "\u001b[K     |████████████████████████████████| 51kB 5.0MB/s \n",
      "\u001b[K     |████████████████████████████████| 51kB 4.8MB/s \n",
      "\u001b[K     |████████████████████████████████| 61kB 5.5MB/s \n",
      "\u001b[K     |████████████████████████████████| 860kB 51.8MB/s \n",
      "\u001b[K     |████████████████████████████████| 6.7MB 51.1MB/s \n",
      "\u001b[K     |████████████████████████████████| 10.4MB 41.2MB/s \n",
      "\u001b[K     |████████████████████████████████| 1.5MB 41.3MB/s \n",
      "\u001b[K     |████████████████████████████████| 20.1MB 1.3MB/s \n",
      "\u001b[K     |████████████████████████████████| 655kB 41.8MB/s \n",
      "\u001b[K     |████████████████████████████████| 7.3MB 58.2MB/s \n",
      "\u001b[K     |████████████████████████████████| 512kB 41.5MB/s \n",
      "\u001b[K     |████████████████████████████████| 51kB 4.3MB/s \n",
      "\u001b[K     |████████████████████████████████| 3.8MB 41.9MB/s \n",
      "\u001b[K     |████████████████████████████████| 51kB 5.2MB/s \n",
      "\u001b[K     |████████████████████████████████| 3.2MB 37.4MB/s \n",
      "\u001b[K     |████████████████████████████████| 51kB 5.0MB/s \n",
      "\u001b[K     |████████████████████████████████| 7.1MB 21.0MB/s \n",
      "\u001b[K     |████████████████████████████████| 61kB 5.5MB/s \n",
      "\u001b[K     |████████████████████████████████| 225kB 50.7MB/s \n",
      "\u001b[K     |████████████████████████████████| 81kB 6.9MB/s \n",
      "\u001b[K     |████████████████████████████████| 61kB 5.1MB/s \n",
      "\u001b[K     |████████████████████████████████| 296kB 46.6MB/s \n",
      "\u001b[K     |████████████████████████████████| 143kB 54.3MB/s \n",
      "\u001b[?25h  Building wheel for pytelegrambotapi (setup.py) ... \u001b[?25l\u001b[?25hdone\n",
      "  Building wheel for sacremoses (setup.py) ... \u001b[?25l\u001b[?25hdone\n",
      "  Building wheel for nltk (setup.py) ... \u001b[?25l\u001b[?25hdone\n",
      "  Building wheel for prometheus-client (setup.py) ... \u001b[?25l\u001b[?25hdone\n",
      "  Building wheel for overrides (setup.py) ... \u001b[?25l\u001b[?25hdone\n",
      "  Building wheel for starlette (setup.py) ... \u001b[?25l\u001b[?25hdone\n",
      "\u001b[31mERROR: tensorflow 2.4.1 has requirement numpy~=1.19.2, but you'll have numpy 1.18.0 which is incompatible.\u001b[0m\n",
      "\u001b[31mERROR: google-colab 1.0.0 has requirement pandas~=1.1.0; python_version >= \"3.0\", but you'll have pandas 0.25.3 which is incompatible.\u001b[0m\n",
      "\u001b[31mERROR: google-colab 1.0.0 has requirement requests~=2.23.0, but you'll have requests 2.22.0 which is incompatible.\u001b[0m\n",
      "\u001b[31mERROR: fbprophet 0.7.1 has requirement pandas>=1.0.4, but you'll have pandas 0.25.3 which is incompatible.\u001b[0m\n",
      "\u001b[31mERROR: datascience 0.10.6 has requirement folium==0.2.1, but you'll have folium 0.8.3 which is incompatible.\u001b[0m\n",
      "\u001b[31mERROR: albumentations 0.1.12 has requirement imgaug<0.2.7,>=0.2.5, but you'll have imgaug 0.2.9 which is incompatible.\u001b[0m\n"
     ]
    }
   ],
   "source": [
    "!pip install -q deeppavlov"
   ]
  },
  {
   "cell_type": "code",
   "execution_count": null,
   "metadata": {
    "id": "9A9eZn4t-kZZ"
   },
   "outputs": [],
   "source": [
    "word_frequency = {}\n",
    "\n",
    "for text in df.text:\n",
    "  word_list = text.split(' ')\n",
    "  for w in word_list:\n",
    "    if w in word_frequency.keys():\n",
    "      word_frequency[w] += 1\n",
    "    else:\n",
    "      word_frequency[w] = 1"
   ]
  },
  {
   "cell_type": "code",
   "execution_count": null,
   "metadata": {
    "colab": {
     "base_uri": "https://localhost:8080/"
    },
    "executionInfo": {
     "elapsed": 334,
     "status": "ok",
     "timestamp": 1618195995586,
     "user": {
      "displayName": "Jason F Petri",
      "photoUrl": "",
      "userId": "10231400164364138187"
     },
     "user_tz": 240
    },
    "id": "nGJ8nZHJ_C1k",
    "outputId": "2b01ddd9-323c-495e-bb00-dd1de12e8270"
   },
   "outputs": [
    {
     "data": {
      "text/plain": [
       "Index(['the', 'of', 'and', 'to', 'a', 'in', '2019', '/PRNewswire/', '--',\n",
       "       'announced', 'July', 'today', 'for', 'that', 'has', 'its', 'with',\n",
       "       'The', 'acquisition', 'Inc.', 'is', 'it', 'will', 'on', '(the',\n",
       "       'leading', 'June', 'by', 'an', 'as', '', 'Acquires', 'company',\n",
       "       'acquired', 'or', 'from', 'LLC', 'Acquisition', 'Announces', 'Group',\n",
       "       'transaction', 'agreement', 'Notes', '(NYSE:', 'Capital', 'acquire',\n",
       "       'at', 'provider', 'be', '1,', 'business', 'global', 'all', 'into',\n",
       "       'which', 'Aug.', 'Senior', 'services', 'NEW', 'purchase', 'Company',\n",
       "       'New', 'management', 'not', 'YORK,', 'outstanding', 'previously',\n",
       "       'completed', 'Partners', '2019,', 'shares', 'due', 'Energy', 'Tender',\n",
       "       '&', '-', 'common', 'definitive', 'Corporation', 'leader', 'solutions',\n",
       "       'million', 'cash', 'have', 'Offer', 'were', 'private', 'offer',\n",
       "       'approximately', 'under', 'investment', 'based', 'Group,', 'Acquire',\n",
       "       'assets', 'equity', 'new', 'Inc.,', 'firm', 'announce'],\n",
       "      dtype='object')"
      ]
     },
     "execution_count": 18,
     "metadata": {
      "tags": []
     },
     "output_type": "execute_result"
    }
   ],
   "source": [
    "df_word_frequency = pd.DataFrame(word_frequency.values(), index=word_frequency.keys())\n",
    "df_word_frequency.columns = ['count']\n",
    "df_word_frequency.sort_values(by='count', ascending=False)[:100].index"
   ]
  },
  {
   "cell_type": "code",
   "execution_count": 3,
   "metadata": {
    "colab": {
     "base_uri": "https://localhost:8080/"
    },
    "executionInfo": {
     "elapsed": 53541,
     "status": "ok",
     "timestamp": 1618230641572,
     "user": {
      "displayName": "Jason F Petri",
      "photoUrl": "",
      "userId": "10231400164364138187"
     },
     "user_tz": 240
    },
    "id": "r7Toi0gH4KBy",
    "outputId": "3855c20f-8ae8-4bdc-af1f-a3eb0a904926"
   },
   "outputs": [
    {
     "name": "stdout",
     "output_type": "stream",
     "text": [
      "\u001b[K     |████████████████████████████████| 993kB 6.0MB/s \n",
      "\u001b[K     |████████████████████████████████| 860kB 43.1MB/s \n",
      "\u001b[K     |████████████████████████████████| 2.1MB 48.7MB/s \n",
      "\u001b[K     |████████████████████████████████| 51kB 5.1MB/s \n",
      "\u001b[K     |████████████████████████████████| 51kB 5.5MB/s \n",
      "\u001b[K     |████████████████████████████████| 7.3MB 42.5MB/s \n",
      "\u001b[K     |████████████████████████████████| 61kB 6.3MB/s \n",
      "\u001b[K     |████████████████████████████████| 20.1MB 1.4MB/s \n",
      "\u001b[K     |████████████████████████████████| 61kB 5.5MB/s \n",
      "\u001b[K     |████████████████████████████████| 1.5MB 38.6MB/s \n",
      "\u001b[K     |████████████████████████████████| 3.8MB 37.8MB/s \n",
      "\u001b[K     |████████████████████████████████| 655kB 49.5MB/s \n",
      "\u001b[K     |████████████████████████████████| 8.2MB 45.4MB/s \n",
      "\u001b[K     |████████████████████████████████| 6.7MB 45.5MB/s \n",
      "\u001b[K     |████████████████████████████████| 512kB 44.8MB/s \n",
      "\u001b[K     |████████████████████████████████| 10.4MB 35.6MB/s \n",
      "\u001b[K     |████████████████████████████████| 71kB 7.0MB/s \n",
      "\u001b[K     |████████████████████████████████| 51kB 5.4MB/s \n",
      "\u001b[K     |████████████████████████████████| 51kB 5.6MB/s \n",
      "\u001b[K     |████████████████████████████████| 51kB 5.3MB/s \n",
      "\u001b[K     |████████████████████████████████| 296kB 38.0MB/s \n",
      "\u001b[K     |████████████████████████████████| 61kB 6.1MB/s \n",
      "\u001b[K     |████████████████████████████████| 3.2MB 40.6MB/s \n",
      "\u001b[K     |████████████████████████████████| 7.1MB 30.0MB/s \n",
      "\u001b[K     |████████████████████████████████| 225kB 49.9MB/s \n",
      "\u001b[K     |████████████████████████████████| 61kB 6.2MB/s \n",
      "\u001b[K     |████████████████████████████████| 81kB 8.0MB/s \n",
      "\u001b[K     |████████████████████████████████| 143kB 48.0MB/s \n",
      "\u001b[?25h  Building wheel for sacremoses (setup.py) ... \u001b[?25l\u001b[?25hdone\n",
      "  Building wheel for nltk (setup.py) ... \u001b[?25l\u001b[?25hdone\n",
      "  Building wheel for overrides (setup.py) ... \u001b[?25l\u001b[?25hdone\n",
      "  Building wheel for pytelegrambotapi (setup.py) ... \u001b[?25l\u001b[?25hdone\n",
      "  Building wheel for prometheus-client (setup.py) ... \u001b[?25l\u001b[?25hdone\n",
      "  Building wheel for starlette (setup.py) ... \u001b[?25l\u001b[?25hdone\n",
      "\u001b[31mERROR: tensorflow 2.4.1 has requirement numpy~=1.19.2, but you'll have numpy 1.18.0 which is incompatible.\u001b[0m\n",
      "\u001b[31mERROR: google-colab 1.0.0 has requirement pandas~=1.1.0; python_version >= \"3.0\", but you'll have pandas 0.25.3 which is incompatible.\u001b[0m\n",
      "\u001b[31mERROR: google-colab 1.0.0 has requirement requests~=2.23.0, but you'll have requests 2.22.0 which is incompatible.\u001b[0m\n",
      "\u001b[31mERROR: fbprophet 0.7.1 has requirement pandas>=1.0.4, but you'll have pandas 0.25.3 which is incompatible.\u001b[0m\n",
      "\u001b[31mERROR: datascience 0.10.6 has requirement folium==0.2.1, but you'll have folium 0.8.3 which is incompatible.\u001b[0m\n",
      "\u001b[31mERROR: albumentations 0.1.12 has requirement imgaug<0.2.7,>=0.2.5, but you'll have imgaug 0.2.9 which is incompatible.\u001b[0m\n"
     ]
    }
   ],
   "source": [
    "!pip install -q deeppavlov"
   ]
  },
  {
   "cell_type": "code",
   "execution_count": 4,
   "metadata": {
    "colab": {
     "base_uri": "https://localhost:8080/"
    },
    "executionInfo": {
     "elapsed": 114167,
     "status": "ok",
     "timestamp": 1618230704448,
     "user": {
      "displayName": "Jason F Petri",
      "photoUrl": "",
      "userId": "10231400164364138187"
     },
     "user_tz": 240
    },
    "id": "zA5PNAOlArPI",
    "outputId": "7c4a6ebf-7e84-4715-a44b-78bb884c06f5"
   },
   "outputs": [
    {
     "name": "stdout",
     "output_type": "stream",
     "text": [
      "2021-04-12 12:30:42.887 INFO in 'deeppavlov.core.common.file'['file'] at line 32: Interpreting 'squad_bert' as '/usr/local/lib/python3.7/dist-packages/deeppavlov/configs/squad/squad_bert.json'\n",
      "Collecting git+https://github.com/deepmipt/bert.git@feat/multi_gpu\n",
      "  Cloning https://github.com/deepmipt/bert.git (to revision feat/multi_gpu) to /tmp/pip-req-build-jyl1le2q\n",
      "  Running command git clone -q https://github.com/deepmipt/bert.git /tmp/pip-req-build-jyl1le2q\n",
      "Building wheels for collected packages: bert-dp\n",
      "  Building wheel for bert-dp (setup.py) ... \u001b[?25l\u001b[?25hdone\n",
      "  Created wheel for bert-dp: filename=bert_dp-1.0-cp37-none-any.whl size=23581 sha256=9f138f263b34a7937d8974ab4f071a5fdf1fdf18a0a214a69d6ab3c83a9c280c\n",
      "  Stored in directory: /tmp/pip-ephem-wheel-cache-l9d_n_30/wheels/1e/41/94/886107eaf932532594886fd8bfc9cb9d4db632e94add49d326\n",
      "Successfully built bert-dp\n",
      "Installing collected packages: bert-dp\n",
      "Successfully installed bert-dp-1.0\n",
      "Collecting tensorflow==1.15.2\n",
      "\u001b[?25l  Downloading https://files.pythonhosted.org/packages/5b/81/84fb7a323f9723f81edfc796d89e89aa95a9446ed7353c144195b3a3a3ba/tensorflow-1.15.2-cp37-cp37m-manylinux2010_x86_64.whl (110.5MB)\n",
      "\u001b[K     |████████████████████████████████| 110.5MB 100kB/s \n",
      "\u001b[?25hRequirement already satisfied: opt-einsum>=2.3.2 in /usr/local/lib/python3.7/dist-packages (from tensorflow==1.15.2) (3.3.0)\n",
      "Requirement already satisfied: termcolor>=1.1.0 in /usr/local/lib/python3.7/dist-packages (from tensorflow==1.15.2) (1.1.0)\n",
      "Collecting tensorflow-estimator==1.15.1\n",
      "\u001b[?25l  Downloading https://files.pythonhosted.org/packages/de/62/2ee9cd74c9fa2fa450877847ba560b260f5d0fb70ee0595203082dafcc9d/tensorflow_estimator-1.15.1-py2.py3-none-any.whl (503kB)\n",
      "\u001b[K     |████████████████████████████████| 512kB 29.5MB/s \n",
      "\u001b[?25hRequirement already satisfied: wrapt>=1.11.1 in /usr/local/lib/python3.7/dist-packages (from tensorflow==1.15.2) (1.12.1)\n",
      "Requirement already satisfied: google-pasta>=0.1.6 in /usr/local/lib/python3.7/dist-packages (from tensorflow==1.15.2) (0.2.0)\n",
      "Requirement already satisfied: six>=1.10.0 in /usr/local/lib/python3.7/dist-packages (from tensorflow==1.15.2) (1.15.0)\n",
      "Requirement already satisfied: grpcio>=1.8.6 in /usr/local/lib/python3.7/dist-packages (from tensorflow==1.15.2) (1.32.0)\n",
      "Requirement already satisfied: keras-preprocessing>=1.0.5 in /usr/local/lib/python3.7/dist-packages (from tensorflow==1.15.2) (1.1.2)\n",
      "Collecting gast==0.2.2\n",
      "  Downloading https://files.pythonhosted.org/packages/4e/35/11749bf99b2d4e3cceb4d55ca22590b0d7c2c62b9de38ac4a4a7f4687421/gast-0.2.2.tar.gz\n",
      "Collecting tensorboard<1.16.0,>=1.15.0\n",
      "\u001b[?25l  Downloading https://files.pythonhosted.org/packages/1e/e9/d3d747a97f7188f48aa5eda486907f3b345cd409f0a0850468ba867db246/tensorboard-1.15.0-py3-none-any.whl (3.8MB)\n",
      "\u001b[K     |████████████████████████████████| 3.8MB 13.1MB/s \n",
      "\u001b[?25hRequirement already satisfied: astor>=0.6.0 in /usr/local/lib/python3.7/dist-packages (from tensorflow==1.15.2) (0.8.1)\n",
      "Requirement already satisfied: numpy<2.0,>=1.16.0 in /usr/local/lib/python3.7/dist-packages (from tensorflow==1.15.2) (1.18.0)\n",
      "Collecting keras-applications>=1.0.8\n",
      "\u001b[?25l  Downloading https://files.pythonhosted.org/packages/71/e3/19762fdfc62877ae9102edf6342d71b28fbfd9dea3d2f96a882ce099b03f/Keras_Applications-1.0.8-py3-none-any.whl (50kB)\n",
      "\u001b[K     |████████████████████████████████| 51kB 3.3MB/s \n",
      "\u001b[?25hRequirement already satisfied: wheel>=0.26; python_version >= \"3\" in /usr/local/lib/python3.7/dist-packages (from tensorflow==1.15.2) (0.36.2)\n",
      "Requirement already satisfied: absl-py>=0.7.0 in /usr/local/lib/python3.7/dist-packages (from tensorflow==1.15.2) (0.12.0)\n",
      "Requirement already satisfied: protobuf>=3.6.1 in /usr/local/lib/python3.7/dist-packages (from tensorflow==1.15.2) (3.12.4)\n",
      "Requirement already satisfied: setuptools>=41.0.0 in /usr/local/lib/python3.7/dist-packages (from tensorboard<1.16.0,>=1.15.0->tensorflow==1.15.2) (54.2.0)\n",
      "Requirement already satisfied: werkzeug>=0.11.15 in /usr/local/lib/python3.7/dist-packages (from tensorboard<1.16.0,>=1.15.0->tensorflow==1.15.2) (1.0.1)\n",
      "Requirement already satisfied: markdown>=2.6.8 in /usr/local/lib/python3.7/dist-packages (from tensorboard<1.16.0,>=1.15.0->tensorflow==1.15.2) (3.3.4)\n",
      "Requirement already satisfied: h5py in /usr/local/lib/python3.7/dist-packages (from keras-applications>=1.0.8->tensorflow==1.15.2) (2.10.0)\n",
      "Requirement already satisfied: importlib-metadata; python_version < \"3.8\" in /usr/local/lib/python3.7/dist-packages (from markdown>=2.6.8->tensorboard<1.16.0,>=1.15.0->tensorflow==1.15.2) (3.8.1)\n",
      "Requirement already satisfied: typing-extensions>=3.6.4; python_version < \"3.8\" in /usr/local/lib/python3.7/dist-packages (from importlib-metadata; python_version < \"3.8\"->markdown>=2.6.8->tensorboard<1.16.0,>=1.15.0->tensorflow==1.15.2) (3.7.4.3)\n",
      "Requirement already satisfied: zipp>=0.5 in /usr/local/lib/python3.7/dist-packages (from importlib-metadata; python_version < \"3.8\"->markdown>=2.6.8->tensorboard<1.16.0,>=1.15.0->tensorflow==1.15.2) (3.4.1)\n",
      "Building wheels for collected packages: gast\n",
      "  Building wheel for gast (setup.py) ... \u001b[?25l\u001b[?25hdone\n",
      "  Created wheel for gast: filename=gast-0.2.2-cp37-none-any.whl size=7540 sha256=b6531a45c4391b4f91d8db3bcb4029d23dfcf44e8d41f79bd882a5b7ea7763cb\n",
      "  Stored in directory: /root/.cache/pip/wheels/5c/2e/7e/a1d4d4fcebe6c381f378ce7743a3ced3699feb89bcfbdadadd\n",
      "Successfully built gast\n",
      "\u001b[31mERROR: tensorflow-probability 0.12.1 has requirement gast>=0.3.2, but you'll have gast 0.2.2 which is incompatible.\u001b[0m\n",
      "Installing collected packages: tensorflow-estimator, gast, tensorboard, keras-applications, tensorflow\n",
      "  Found existing installation: tensorflow-estimator 2.4.0\n",
      "    Uninstalling tensorflow-estimator-2.4.0:\n",
      "      Successfully uninstalled tensorflow-estimator-2.4.0\n",
      "  Found existing installation: gast 0.3.3\n",
      "    Uninstalling gast-0.3.3:\n",
      "      Successfully uninstalled gast-0.3.3\n",
      "  Found existing installation: tensorboard 2.4.1\n",
      "    Uninstalling tensorboard-2.4.1:\n",
      "      Successfully uninstalled tensorboard-2.4.1\n",
      "  Found existing installation: tensorflow 2.4.1\n",
      "    Uninstalling tensorflow-2.4.1:\n",
      "      Successfully uninstalled tensorflow-2.4.1\n",
      "Successfully installed gast-0.2.2 keras-applications-1.0.8 tensorboard-1.15.0 tensorflow-1.15.2 tensorflow-estimator-1.15.1\n"
     ]
    }
   ],
   "source": [
    "!python -m deeppavlov install squad_bert"
   ]
  },
  {
   "cell_type": "code",
   "execution_count": 5,
   "metadata": {
    "colab": {
     "base_uri": "https://localhost:8080/"
    },
    "executionInfo": {
     "elapsed": 269888,
     "status": "ok",
     "timestamp": 1618230863756,
     "user": {
      "displayName": "Jason F Petri",
      "photoUrl": "",
      "userId": "10231400164364138187"
     },
     "user_tz": 240
    },
    "id": "IaKNRdwsRg0k",
    "outputId": "6e3f6ec6-d614-4399-e995-e59858a77426"
   },
   "outputs": [
    {
     "name": "stderr",
     "output_type": "stream",
     "text": [
      "2021-04-12 12:31:45.468 INFO in 'deeppavlov.core.data.utils'['utils'] at line 94: Downloading from http://files.deeppavlov.ai/deeppavlov_data/squad_bert.tar.gz to /root/.deeppavlov/squad_bert.tar.gz\n",
      "100%|██████████| 402M/402M [01:04<00:00, 6.20MB/s]\n",
      "2021-04-12 12:32:51.354 INFO in 'deeppavlov.core.data.utils'['utils'] at line 268: Extracting /root/.deeppavlov/squad_bert.tar.gz archive into /root/.deeppavlov/models\n",
      "2021-04-12 12:32:56.790 INFO in 'deeppavlov.core.data.utils'['utils'] at line 94: Downloading from http://files.deeppavlov.ai/deeppavlov_data/bert/cased_L-12_H-768_A-12.zip to /root/.deeppavlov/downloads/cased_L-12_H-768_A-12.zip\n",
      "100%|██████████| 404M/404M [00:54<00:00, 7.36MB/s]\n",
      "2021-04-12 12:33:52.715 INFO in 'deeppavlov.core.data.utils'['utils'] at line 268: Extracting /root/.deeppavlov/downloads/cased_L-12_H-768_A-12.zip archive into /root/.deeppavlov/downloads/bert_models\n",
      "[nltk_data] Downloading package punkt to /root/nltk_data...\n",
      "[nltk_data]   Unzipping tokenizers/punkt.zip.\n",
      "[nltk_data] Downloading package stopwords to /root/nltk_data...\n",
      "[nltk_data]   Unzipping corpora/stopwords.zip.\n",
      "[nltk_data] Downloading package perluniprops to /root/nltk_data...\n",
      "[nltk_data]   Unzipping misc/perluniprops.zip.\n",
      "[nltk_data] Downloading package nonbreaking_prefixes to\n",
      "[nltk_data]     /root/nltk_data...\n",
      "[nltk_data]   Unzipping corpora/nonbreaking_prefixes.zip.\n"
     ]
    },
    {
     "name": "stdout",
     "output_type": "stream",
     "text": [
      "WARNING:tensorflow:From /usr/local/lib/python3.7/dist-packages/bert_dp/tokenization.py:125: The name tf.gfile.GFile is deprecated. Please use tf.io.gfile.GFile instead.\n",
      "\n",
      "WARNING:tensorflow:From /usr/local/lib/python3.7/dist-packages/deeppavlov/core/models/tf_model.py:37: The name tf.Session is deprecated. Please use tf.compat.v1.Session instead.\n",
      "\n",
      "WARNING:tensorflow:From /usr/local/lib/python3.7/dist-packages/deeppavlov/core/models/tf_model.py:222: The name tf.placeholder is deprecated. Please use tf.compat.v1.placeholder instead.\n",
      "\n",
      "WARNING:tensorflow:From /usr/local/lib/python3.7/dist-packages/deeppavlov/core/models/tf_model.py:222: The name tf.train.Optimizer is deprecated. Please use tf.compat.v1.train.Optimizer instead.\n",
      "\n",
      "WARNING:tensorflow:From /usr/local/lib/python3.7/dist-packages/deeppavlov/core/models/tf_model.py:193: The name tf.train.AdamOptimizer is deprecated. Please use tf.compat.v1.train.AdamOptimizer instead.\n",
      "\n",
      "WARNING:tensorflow:From /usr/local/lib/python3.7/dist-packages/deeppavlov/models/bert/bert_squad.py:81: The name tf.ConfigProto is deprecated. Please use tf.compat.v1.ConfigProto instead.\n",
      "\n",
      "WARNING:tensorflow:From /usr/local/lib/python3.7/dist-packages/deeppavlov/models/bert/bert_squad.py:178: The name tf.placeholder_with_default is deprecated. Please use tf.compat.v1.placeholder_with_default instead.\n",
      "\n",
      "WARNING:tensorflow:From /usr/local/lib/python3.7/dist-packages/bert_dp/modeling.py:178: The name tf.variable_scope is deprecated. Please use tf.compat.v1.variable_scope instead.\n",
      "\n",
      "WARNING:tensorflow:From /usr/local/lib/python3.7/dist-packages/bert_dp/modeling.py:418: The name tf.get_variable is deprecated. Please use tf.compat.v1.get_variable instead.\n",
      "\n",
      "WARNING:tensorflow:From /usr/local/lib/python3.7/dist-packages/bert_dp/modeling.py:499: The name tf.assert_less_equal is deprecated. Please use tf.compat.v1.assert_less_equal instead.\n",
      "\n",
      "WARNING:tensorflow:\n",
      "The TensorFlow contrib module will not be included in TensorFlow 2.0.\n",
      "For more information, please see:\n",
      "  * https://github.com/tensorflow/community/blob/master/rfcs/20180907-contrib-sunset.md\n",
      "  * https://github.com/tensorflow/addons\n",
      "  * https://github.com/tensorflow/io (for I/O related ops)\n",
      "If you depend on functionality not listed there, please file an issue.\n",
      "\n",
      "WARNING:tensorflow:From /usr/local/lib/python3.7/dist-packages/bert_dp/modeling.py:366: calling dropout (from tensorflow.python.ops.nn_ops) with keep_prob is deprecated and will be removed in a future version.\n",
      "Instructions for updating:\n",
      "Please use `rate` instead of `keep_prob`. Rate should be set to `rate = 1 - keep_prob`.\n",
      "WARNING:tensorflow:From /usr/local/lib/python3.7/dist-packages/bert_dp/modeling.py:680: dense (from tensorflow.python.layers.core) is deprecated and will be removed in a future version.\n",
      "Instructions for updating:\n",
      "Use keras.layers.Dense instead.\n",
      "WARNING:tensorflow:From /usr/local/lib/python3.7/dist-packages/tensorflow_core/python/layers/core.py:187: Layer.apply (from tensorflow.python.keras.engine.base_layer) is deprecated and will be removed in a future version.\n",
      "Instructions for updating:\n",
      "Please use `layer.__call__` method instead.\n",
      "WARNING:tensorflow:From /usr/local/lib/python3.7/dist-packages/bert_dp/modeling.py:283: The name tf.erf is deprecated. Please use tf.math.erf instead.\n",
      "\n",
      "WARNING:tensorflow:From /usr/local/lib/python3.7/dist-packages/deeppavlov/models/bert/bert_squad.py:154: The name tf.matrix_band_part is deprecated. Please use tf.linalg.band_part instead.\n",
      "\n",
      "WARNING:tensorflow:From /usr/local/lib/python3.7/dist-packages/deeppavlov/models/bert/bert_squad.py:166: softmax_cross_entropy_with_logits (from tensorflow.python.ops.nn_ops) is deprecated and will be removed in a future version.\n",
      "Instructions for updating:\n",
      "\n",
      "Future major versions of TensorFlow will allow gradients to flow\n",
      "into the labels input on backprop by default.\n",
      "\n",
      "See `tf.nn.softmax_cross_entropy_with_logits_v2`.\n",
      "\n",
      "WARNING:tensorflow:From /usr/local/lib/python3.7/dist-packages/deeppavlov/core/models/tf_model.py:234: The name tf.train.AdadeltaOptimizer is deprecated. Please use tf.compat.v1.train.AdadeltaOptimizer instead.\n",
      "\n",
      "WARNING:tensorflow:From /usr/local/lib/python3.7/dist-packages/deeppavlov/core/models/tf_model.py:127: The name tf.get_collection is deprecated. Please use tf.compat.v1.get_collection instead.\n",
      "\n",
      "WARNING:tensorflow:From /usr/local/lib/python3.7/dist-packages/deeppavlov/core/models/tf_model.py:127: The name tf.GraphKeys is deprecated. Please use tf.compat.v1.GraphKeys instead.\n",
      "\n",
      "WARNING:tensorflow:From /usr/local/lib/python3.7/dist-packages/deeppavlov/models/bert/bert_squad.py:89: The name tf.global_variables_initializer is deprecated. Please use tf.compat.v1.global_variables_initializer instead.\n",
      "\n",
      "WARNING:tensorflow:From /usr/local/lib/python3.7/dist-packages/deeppavlov/models/bert/bert_squad.py:94: checkpoint_exists (from tensorflow.python.training.checkpoint_management) is deprecated and will be removed in a future version.\n",
      "Instructions for updating:\n",
      "Use standard file APIs to check for files with this prefix.\n"
     ]
    },
    {
     "name": "stderr",
     "output_type": "stream",
     "text": [
      "2021-04-12 12:34:21.725 INFO in 'deeppavlov.core.models.tf_model'['tf_model'] at line 51: [loading model from /root/.deeppavlov/models/squad_bert/model]\n"
     ]
    },
    {
     "name": "stdout",
     "output_type": "stream",
     "text": [
      "WARNING:tensorflow:From /usr/local/lib/python3.7/dist-packages/deeppavlov/core/models/tf_model.py:54: The name tf.train.Saver is deprecated. Please use tf.compat.v1.train.Saver instead.\n",
      "\n",
      "INFO:tensorflow:Restoring parameters from /root/.deeppavlov/models/squad_bert/model\n"
     ]
    }
   ],
   "source": [
    "from deeppavlov import configs\n",
    "from deeppavlov.core.common.file import read_json\n",
    "from deeppavlov.core.commands.infer import build_model\n",
    "\n",
    "faq = build_model(configs.squad.squad_bert, download = True)"
   ]
  },
  {
   "cell_type": "code",
   "execution_count": 6,
   "metadata": {
    "colab": {
     "base_uri": "https://localhost:8080/"
    },
    "executionInfo": {
     "elapsed": 3650,
     "status": "ok",
     "timestamp": 1618230874456,
     "user": {
      "displayName": "Jason F Petri",
      "photoUrl": "",
      "userId": "10231400164364138187"
     },
     "user_tz": 240
    },
    "id": "7TXD9VA6Sw1j",
    "outputId": "4de672c4-84b9-40cb-9196-90e815372b3b"
   },
   "outputs": [
    {
     "name": "stdout",
     "output_type": "stream",
     "text": [
      "Apple bought tesla in 2019 When did apple buy tesla? 2019 164461.734375\n"
     ]
    }
   ],
   "source": [
    "context = 'Apple bought tesla in 2019'\n",
    "question = 'When did apple buy tesla?'\n",
    "query = faq([context], [question])\n",
    "answer = query[0][0]\n",
    "confidence = query[2][0]\n",
    "print(context, question, answer, confidence)\n",
    "\n",
    "def get_answer(context, question):\n",
    "  query = faq([context], [question])\n",
    "  answer = query[0][0]\n",
    "  return answer\n",
    "\n",
    "def get_confidence(context, question):\n",
    "  query = faq([context], [question])\n",
    "  confidence = query[2][0]\n",
    "  return confidence\n",
    "\n",
    "def ask_question(context, question):\n",
    "  query = faq([context], [question])\n",
    "  confidence = query[2][0]\n",
    "  answer = query[0][0]\n",
    "  return answer, confidence\n",
    "\n"
   ]
  },
  {
   "cell_type": "code",
   "execution_count": 10,
   "metadata": {
    "executionInfo": {
     "elapsed": 787,
     "status": "ok",
     "timestamp": 1618230170623,
     "user": {
      "displayName": "Jason F Petri",
      "photoUrl": "",
      "userId": "10231400164364138187"
     },
     "user_tz": 240
    },
    "id": "ekpZyMVNBOPA"
   },
   "outputs": [],
   "source": []
  },
  {
   "cell_type": "code",
   "execution_count": 8,
   "metadata": {
    "colab": {
     "base_uri": "https://localhost:8080/"
    },
    "executionInfo": {
     "elapsed": 7038,
     "status": "ok",
     "timestamp": 1618230919330,
     "user": {
      "displayName": "Jason F Petri",
      "photoUrl": "",
      "userId": "10231400164364138187"
     },
     "user_tz": 240
    },
    "id": "oRRS2BUjVCLj",
    "outputId": "eaa79b14-3882-4100-8eb8-d07eba9b5121"
   },
   "outputs": [
    {
     "name": "stdout",
     "output_type": "stream",
     "text": [
      "Rifiniti 15.395082473754883\n",
      "Rifiniti 0.5696964859962463\n",
      "Rifiniti 754.9598999023438\n"
     ]
    }
   ],
   "source": [
    "sample_text = df.text.iloc[0]\n",
    "\n",
    "q1 = ask_question(sample_text, 'Who was bought')\n",
    "print(q1[0], q1[1])\n",
    "\n",
    "q2 = ask_question(sample_text, 'Who was sold')\n",
    "print(q2[0], q2[1])\n",
    "\n",
    "q3 = ask_question(sample_text, 'Who was acquired')\n",
    "print(q3[0], q3[1])\n"
   ]
  },
  {
   "cell_type": "code",
   "execution_count": null,
   "metadata": {
    "colab": {
     "base_uri": "https://localhost:8080/",
     "height": 227
    },
    "executionInfo": {
     "elapsed": 460,
     "status": "ok",
     "timestamp": 1618202258057,
     "user": {
      "displayName": "Jason F Petri",
      "photoUrl": "",
      "userId": "10231400164364138187"
     },
     "user_tz": 240
    },
    "id": "Mu-q61wzTtDT",
    "outputId": "02d7c36d-ccfe-4a0c-c3bd-eb3d8d6fc2b8"
   },
   "outputs": [
    {
     "data": {
      "text/html": [
       "<div>\n",
       "<style scoped>\n",
       "    .dataframe tbody tr th:only-of-type {\n",
       "        vertical-align: middle;\n",
       "    }\n",
       "\n",
       "    .dataframe tbody tr th {\n",
       "        vertical-align: top;\n",
       "    }\n",
       "\n",
       "    .dataframe thead th {\n",
       "        text-align: right;\n",
       "    }\n",
       "</style>\n",
       "<table border=\"1\" class=\"dataframe\">\n",
       "  <thead>\n",
       "    <tr style=\"text-align: right;\">\n",
       "      <th></th>\n",
       "      <th>text</th>\n",
       "      <th>true_buyer</th>\n",
       "      <th>true_seller</th>\n",
       "      <th>true_price</th>\n",
       "      <th>true_target</th>\n",
       "      <th>Reviewer</th>\n",
       "    </tr>\n",
       "    <tr>\n",
       "      <th>id</th>\n",
       "      <th></th>\n",
       "      <th></th>\n",
       "      <th></th>\n",
       "      <th></th>\n",
       "      <th></th>\n",
       "      <th></th>\n",
       "    </tr>\n",
       "  </thead>\n",
       "  <tbody>\n",
       "    <tr>\n",
       "      <th>5118</th>\n",
       "      <td>FM:Systems Gains Advanced Workspace Analytics ...</td>\n",
       "      <td>FM:Systems</td>\n",
       "      <td>Rifiniti</td>\n",
       "      <td>NaN</td>\n",
       "      <td>Rifiniti</td>\n",
       "      <td>Shan</td>\n",
       "    </tr>\n",
       "    <tr>\n",
       "      <th>5119</th>\n",
       "      <td>Premium Transportation Logistics Transfers Own...</td>\n",
       "      <td>Premium Transportation Logistics</td>\n",
       "      <td>Magnate Worldwide</td>\n",
       "      <td>NaN</td>\n",
       "      <td>Premium Transportation Logistics</td>\n",
       "      <td>Shan</td>\n",
       "    </tr>\n",
       "    <tr>\n",
       "      <th>5120</th>\n",
       "      <td>Chesapeake Eye Care Rebrands Platform as Visio...</td>\n",
       "      <td>NaN</td>\n",
       "      <td>NaN</td>\n",
       "      <td>NaN</td>\n",
       "      <td>NaN</td>\n",
       "      <td>Shan</td>\n",
       "    </tr>\n",
       "    <tr>\n",
       "      <th>5121</th>\n",
       "      <td>Ntiva Completes Strategic Acquisition of Highe...</td>\n",
       "      <td>Ntiva</td>\n",
       "      <td>Southfield Capital</td>\n",
       "      <td>NaN</td>\n",
       "      <td>HigherGround Managed Services</td>\n",
       "      <td>Shan</td>\n",
       "    </tr>\n",
       "    <tr>\n",
       "      <th>5122</th>\n",
       "      <td>Ksquare Acquires Great Wave Tech - Accelerates...</td>\n",
       "      <td>Ksquare</td>\n",
       "      <td>Great Wave Tech</td>\n",
       "      <td>NaN</td>\n",
       "      <td>Great Wave Tech</td>\n",
       "      <td>Shan</td>\n",
       "    </tr>\n",
       "  </tbody>\n",
       "</table>\n",
       "</div>"
      ],
      "text/plain": [
       "                                                   text  ... Reviewer\n",
       "id                                                       ...         \n",
       "5118  FM:Systems Gains Advanced Workspace Analytics ...  ...     Shan\n",
       "5119  Premium Transportation Logistics Transfers Own...  ...     Shan\n",
       "5120  Chesapeake Eye Care Rebrands Platform as Visio...  ...     Shan\n",
       "5121  Ntiva Completes Strategic Acquisition of Highe...  ...     Shan\n",
       "5122  Ksquare Acquires Great Wave Tech - Accelerates...  ...     Shan\n",
       "\n",
       "[5 rows x 6 columns]"
      ]
     },
     "execution_count": 51,
     "metadata": {
      "tags": []
     },
     "output_type": "execute_result"
    }
   ],
   "source": [
    "df.head()"
   ]
  },
  {
   "cell_type": "code",
   "execution_count": null,
   "metadata": {
    "colab": {
     "base_uri": "https://localhost:8080/",
     "height": 227
    },
    "executionInfo": {
     "elapsed": 1747338,
     "status": "ok",
     "timestamp": 1618204033103,
     "user": {
      "displayName": "Jason F Petri",
      "photoUrl": "",
      "userId": "10231400164364138187"
     },
     "user_tz": 240
    },
    "id": "aK17gXtMWe4O",
    "outputId": "c9082ac5-8ffe-4651-dc0c-7b421201fa00"
   },
   "outputs": [
    {
     "data": {
      "text/html": [
       "<div>\n",
       "<style scoped>\n",
       "    .dataframe tbody tr th:only-of-type {\n",
       "        vertical-align: middle;\n",
       "    }\n",
       "\n",
       "    .dataframe tbody tr th {\n",
       "        vertical-align: top;\n",
       "    }\n",
       "\n",
       "    .dataframe thead th {\n",
       "        text-align: right;\n",
       "    }\n",
       "</style>\n",
       "<table border=\"1\" class=\"dataframe\">\n",
       "  <thead>\n",
       "    <tr style=\"text-align: right;\">\n",
       "      <th></th>\n",
       "      <th>text</th>\n",
       "      <th>true_buyer</th>\n",
       "      <th>true_seller</th>\n",
       "      <th>true_price</th>\n",
       "      <th>true_target</th>\n",
       "      <th>Reviewer</th>\n",
       "      <th>bought_answer</th>\n",
       "      <th>bought_confidence</th>\n",
       "    </tr>\n",
       "    <tr>\n",
       "      <th>id</th>\n",
       "      <th></th>\n",
       "      <th></th>\n",
       "      <th></th>\n",
       "      <th></th>\n",
       "      <th></th>\n",
       "      <th></th>\n",
       "      <th></th>\n",
       "      <th></th>\n",
       "    </tr>\n",
       "  </thead>\n",
       "  <tbody>\n",
       "    <tr>\n",
       "      <th>5118</th>\n",
       "      <td>FM:Systems Gains Advanced Workspace Analytics ...</td>\n",
       "      <td>FM:Systems</td>\n",
       "      <td>Rifiniti</td>\n",
       "      <td>NaN</td>\n",
       "      <td>Rifiniti</td>\n",
       "      <td>Shan</td>\n",
       "      <td>Rifiniti</td>\n",
       "      <td>67.764389</td>\n",
       "    </tr>\n",
       "    <tr>\n",
       "      <th>5119</th>\n",
       "      <td>Premium Transportation Logistics Transfers Own...</td>\n",
       "      <td>Premium Transportation Logistics</td>\n",
       "      <td>Magnate Worldwide</td>\n",
       "      <td>NaN</td>\n",
       "      <td>Premium Transportation Logistics</td>\n",
       "      <td>Shan</td>\n",
       "      <td>Brad Kelley</td>\n",
       "      <td>0.942525</td>\n",
       "    </tr>\n",
       "    <tr>\n",
       "      <th>5120</th>\n",
       "      <td>Chesapeake Eye Care Rebrands Platform as Visio...</td>\n",
       "      <td>NaN</td>\n",
       "      <td>NaN</td>\n",
       "      <td>NaN</td>\n",
       "      <td>NaN</td>\n",
       "      <td>Shan</td>\n",
       "      <td></td>\n",
       "      <td>0.834298</td>\n",
       "    </tr>\n",
       "    <tr>\n",
       "      <th>5121</th>\n",
       "      <td>Ntiva Completes Strategic Acquisition of Highe...</td>\n",
       "      <td>Ntiva</td>\n",
       "      <td>Southfield Capital</td>\n",
       "      <td>NaN</td>\n",
       "      <td>HigherGround Managed Services</td>\n",
       "      <td>Shan</td>\n",
       "      <td>HigherGround Managed Services</td>\n",
       "      <td>322.843079</td>\n",
       "    </tr>\n",
       "    <tr>\n",
       "      <th>5122</th>\n",
       "      <td>Ksquare Acquires Great Wave Tech - Accelerates...</td>\n",
       "      <td>Ksquare</td>\n",
       "      <td>Great Wave Tech</td>\n",
       "      <td>NaN</td>\n",
       "      <td>Great Wave Tech</td>\n",
       "      <td>Shan</td>\n",
       "      <td>Great Wave Tech</td>\n",
       "      <td>63.413654</td>\n",
       "    </tr>\n",
       "  </tbody>\n",
       "</table>\n",
       "</div>"
      ],
      "text/plain": [
       "                                                   text  ... bought_confidence\n",
       "id                                                       ...                  \n",
       "5118  FM:Systems Gains Advanced Workspace Analytics ...  ...         67.764389\n",
       "5119  Premium Transportation Logistics Transfers Own...  ...          0.942525\n",
       "5120  Chesapeake Eye Care Rebrands Platform as Visio...  ...          0.834298\n",
       "5121  Ntiva Completes Strategic Acquisition of Highe...  ...        322.843079\n",
       "5122  Ksquare Acquires Great Wave Tech - Accelerates...  ...         63.413654\n",
       "\n",
       "[5 rows x 8 columns]"
      ]
     },
     "execution_count": 53,
     "metadata": {
      "tags": []
     },
     "output_type": "execute_result"
    }
   ],
   "source": [
    "\n",
    "\n",
    "df['bought_answer'], df['bought_confidence'] = zip(*df['text'].apply(lambda x: ask_question(context=x, question='Who was bought?')))\n",
    "df.head()"
   ]
  },
  {
   "cell_type": "code",
   "execution_count": null,
   "metadata": {
    "colab": {
     "base_uri": "https://localhost:8080/",
     "height": 436
    },
    "executionInfo": {
     "elapsed": 812,
     "status": "ok",
     "timestamp": 1618204303859,
     "user": {
      "displayName": "Jason F Petri",
      "photoUrl": "",
      "userId": "10231400164364138187"
     },
     "user_tz": 240
    },
    "id": "DsCrPp4NaukV",
    "outputId": "13e51686-f2db-4017-e179-f08921cf447a"
   },
   "outputs": [
    {
     "data": {
      "text/html": [
       "<div>\n",
       "<style scoped>\n",
       "    .dataframe tbody tr th:only-of-type {\n",
       "        vertical-align: middle;\n",
       "    }\n",
       "\n",
       "    .dataframe tbody tr th {\n",
       "        vertical-align: top;\n",
       "    }\n",
       "\n",
       "    .dataframe thead th {\n",
       "        text-align: right;\n",
       "    }\n",
       "</style>\n",
       "<table border=\"1\" class=\"dataframe\">\n",
       "  <thead>\n",
       "    <tr style=\"text-align: right;\">\n",
       "      <th></th>\n",
       "      <th>true_buyer</th>\n",
       "      <th>bought_answer</th>\n",
       "      <th>bought_confidence</th>\n",
       "    </tr>\n",
       "    <tr>\n",
       "      <th>id</th>\n",
       "      <th></th>\n",
       "      <th></th>\n",
       "      <th></th>\n",
       "    </tr>\n",
       "  </thead>\n",
       "  <tbody>\n",
       "    <tr>\n",
       "      <th>5118</th>\n",
       "      <td>FM:Systems</td>\n",
       "      <td>Rifiniti</td>\n",
       "      <td>67.764389</td>\n",
       "    </tr>\n",
       "    <tr>\n",
       "      <th>5119</th>\n",
       "      <td>Premium Transportation Logistics</td>\n",
       "      <td>Brad Kelley</td>\n",
       "      <td>0.942525</td>\n",
       "    </tr>\n",
       "    <tr>\n",
       "      <th>5120</th>\n",
       "      <td>NaN</td>\n",
       "      <td></td>\n",
       "      <td>0.834298</td>\n",
       "    </tr>\n",
       "    <tr>\n",
       "      <th>5121</th>\n",
       "      <td>Ntiva</td>\n",
       "      <td>HigherGround Managed Services</td>\n",
       "      <td>322.843079</td>\n",
       "    </tr>\n",
       "    <tr>\n",
       "      <th>5122</th>\n",
       "      <td>Ksquare</td>\n",
       "      <td>Great Wave Tech</td>\n",
       "      <td>63.413654</td>\n",
       "    </tr>\n",
       "    <tr>\n",
       "      <th>...</th>\n",
       "      <td>...</td>\n",
       "      <td>...</td>\n",
       "      <td>...</td>\n",
       "    </tr>\n",
       "    <tr>\n",
       "      <th>7006</th>\n",
       "      <td>NaN</td>\n",
       "      <td></td>\n",
       "      <td>0.257628</td>\n",
       "    </tr>\n",
       "    <tr>\n",
       "      <th>7007</th>\n",
       "      <td>NaN</td>\n",
       "      <td>Insitumed GmbH</td>\n",
       "      <td>35.067268</td>\n",
       "    </tr>\n",
       "    <tr>\n",
       "      <th>7008</th>\n",
       "      <td>NaN</td>\n",
       "      <td>Thoughtonomy</td>\n",
       "      <td>0.859541</td>\n",
       "    </tr>\n",
       "    <tr>\n",
       "      <th>7009</th>\n",
       "      <td>NaN</td>\n",
       "      <td>Molecular Infusions (Mi)</td>\n",
       "      <td>95.975143</td>\n",
       "    </tr>\n",
       "    <tr>\n",
       "      <th>7010</th>\n",
       "      <td>NaN</td>\n",
       "      <td></td>\n",
       "      <td>2.349298</td>\n",
       "    </tr>\n",
       "  </tbody>\n",
       "</table>\n",
       "<p>819 rows × 3 columns</p>\n",
       "</div>"
      ],
      "text/plain": [
       "                            true_buyer  ... bought_confidence\n",
       "id                                      ...                  \n",
       "5118                        FM:Systems  ...         67.764389\n",
       "5119  Premium Transportation Logistics  ...          0.942525\n",
       "5120                               NaN  ...          0.834298\n",
       "5121                             Ntiva  ...        322.843079\n",
       "5122                           Ksquare  ...         63.413654\n",
       "...                                ...  ...               ...\n",
       "7006                               NaN  ...          0.257628\n",
       "7007                               NaN  ...         35.067268\n",
       "7008                               NaN  ...          0.859541\n",
       "7009                               NaN  ...         95.975143\n",
       "7010                               NaN  ...          2.349298\n",
       "\n",
       "[819 rows x 3 columns]"
      ]
     },
     "execution_count": 58,
     "metadata": {
      "tags": []
     },
     "output_type": "execute_result"
    }
   ],
   "source": [
    "df[['true_buyer', 'bought_answer', 'bought_confidence']]"
   ]
  },
  {
   "cell_type": "code",
   "execution_count": null,
   "metadata": {
    "id": "jjoE58HUeqG3"
   },
   "outputs": [],
   "source": [
    "df.to_pickle('test.pkl')"
   ]
  },
  {
   "cell_type": "code",
   "execution_count": null,
   "metadata": {
    "colab": {
     "base_uri": "https://localhost:8080/",
     "height": 436
    },
    "executionInfo": {
     "elapsed": 635,
     "status": "ok",
     "timestamp": 1618205986348,
     "user": {
      "displayName": "Jason F Petri",
      "photoUrl": "",
      "userId": "10231400164364138187"
     },
     "user_tz": 240
    },
    "id": "vRAf54QzlHiZ",
    "outputId": "7bc9723b-bf29-4f36-d7f5-e7cd2292bfb0"
   },
   "outputs": [
    {
     "data": {
      "text/html": [
       "<div>\n",
       "<style scoped>\n",
       "    .dataframe tbody tr th:only-of-type {\n",
       "        vertical-align: middle;\n",
       "    }\n",
       "\n",
       "    .dataframe tbody tr th {\n",
       "        vertical-align: top;\n",
       "    }\n",
       "\n",
       "    .dataframe thead th {\n",
       "        text-align: right;\n",
       "    }\n",
       "</style>\n",
       "<table border=\"1\" class=\"dataframe\">\n",
       "  <thead>\n",
       "    <tr style=\"text-align: right;\">\n",
       "      <th></th>\n",
       "      <th>text</th>\n",
       "      <th>true_buyer</th>\n",
       "      <th>true_seller</th>\n",
       "      <th>true_price</th>\n",
       "      <th>true_target</th>\n",
       "      <th>Reviewer</th>\n",
       "      <th>bought_answer</th>\n",
       "      <th>bought_confidence</th>\n",
       "    </tr>\n",
       "    <tr>\n",
       "      <th>id</th>\n",
       "      <th></th>\n",
       "      <th></th>\n",
       "      <th></th>\n",
       "      <th></th>\n",
       "      <th></th>\n",
       "      <th></th>\n",
       "      <th></th>\n",
       "      <th></th>\n",
       "    </tr>\n",
       "  </thead>\n",
       "  <tbody>\n",
       "    <tr>\n",
       "      <th>5118</th>\n",
       "      <td>FM:Systems Gains Advanced Workspace Analytics ...</td>\n",
       "      <td>FM:Systems</td>\n",
       "      <td>Rifiniti</td>\n",
       "      <td>NaN</td>\n",
       "      <td>Rifiniti</td>\n",
       "      <td>Shan</td>\n",
       "      <td>Rifiniti</td>\n",
       "      <td>67.764389</td>\n",
       "    </tr>\n",
       "    <tr>\n",
       "      <th>5119</th>\n",
       "      <td>Premium Transportation Logistics Transfers Own...</td>\n",
       "      <td>Premium Transportation Logistics</td>\n",
       "      <td>Magnate Worldwide</td>\n",
       "      <td>NaN</td>\n",
       "      <td>Premium Transportation Logistics</td>\n",
       "      <td>Shan</td>\n",
       "      <td>Brad Kelley</td>\n",
       "      <td>0.942525</td>\n",
       "    </tr>\n",
       "    <tr>\n",
       "      <th>5120</th>\n",
       "      <td>Chesapeake Eye Care Rebrands Platform as Visio...</td>\n",
       "      <td>NaN</td>\n",
       "      <td>NaN</td>\n",
       "      <td>NaN</td>\n",
       "      <td>NaN</td>\n",
       "      <td>Shan</td>\n",
       "      <td></td>\n",
       "      <td>0.834298</td>\n",
       "    </tr>\n",
       "    <tr>\n",
       "      <th>5121</th>\n",
       "      <td>Ntiva Completes Strategic Acquisition of Highe...</td>\n",
       "      <td>Ntiva</td>\n",
       "      <td>Southfield Capital</td>\n",
       "      <td>NaN</td>\n",
       "      <td>HigherGround Managed Services</td>\n",
       "      <td>Shan</td>\n",
       "      <td>HigherGround Managed Services</td>\n",
       "      <td>322.843079</td>\n",
       "    </tr>\n",
       "    <tr>\n",
       "      <th>5122</th>\n",
       "      <td>Ksquare Acquires Great Wave Tech - Accelerates...</td>\n",
       "      <td>Ksquare</td>\n",
       "      <td>Great Wave Tech</td>\n",
       "      <td>NaN</td>\n",
       "      <td>Great Wave Tech</td>\n",
       "      <td>Shan</td>\n",
       "      <td>Great Wave Tech</td>\n",
       "      <td>63.413654</td>\n",
       "    </tr>\n",
       "    <tr>\n",
       "      <th>...</th>\n",
       "      <td>...</td>\n",
       "      <td>...</td>\n",
       "      <td>...</td>\n",
       "      <td>...</td>\n",
       "      <td>...</td>\n",
       "      <td>...</td>\n",
       "      <td>...</td>\n",
       "      <td>...</td>\n",
       "    </tr>\n",
       "    <tr>\n",
       "      <th>7006</th>\n",
       "      <td>MeritorÂ® Reports Third-Quarter Fiscal Year 20...</td>\n",
       "      <td>NaN</td>\n",
       "      <td>NaN</td>\n",
       "      <td>NaN</td>\n",
       "      <td>NaN</td>\n",
       "      <td>NaN</td>\n",
       "      <td></td>\n",
       "      <td>0.257628</td>\n",
       "    </tr>\n",
       "    <tr>\n",
       "      <th>7007</th>\n",
       "      <td>Key Surgical Signs Agreement To Acquire Insitu...</td>\n",
       "      <td>NaN</td>\n",
       "      <td>NaN</td>\n",
       "      <td>NaN</td>\n",
       "      <td>NaN</td>\n",
       "      <td>NaN</td>\n",
       "      <td>Insitumed GmbH</td>\n",
       "      <td>35.067268</td>\n",
       "    </tr>\n",
       "    <tr>\n",
       "      <th>7008</th>\n",
       "      <td>Blue Prism Closes Thoughtonomy Acquisition; Bo...</td>\n",
       "      <td>NaN</td>\n",
       "      <td>NaN</td>\n",
       "      <td>NaN</td>\n",
       "      <td>NaN</td>\n",
       "      <td>NaN</td>\n",
       "      <td>Thoughtonomy</td>\n",
       "      <td>0.859541</td>\n",
       "    </tr>\n",
       "    <tr>\n",
       "      <th>7009</th>\n",
       "      <td>Surterra Wellness Acquires Molecular Infusions...</td>\n",
       "      <td>NaN</td>\n",
       "      <td>NaN</td>\n",
       "      <td>NaN</td>\n",
       "      <td>NaN</td>\n",
       "      <td>NaN</td>\n",
       "      <td>Molecular Infusions (Mi)</td>\n",
       "      <td>95.975143</td>\n",
       "    </tr>\n",
       "    <tr>\n",
       "      <th>7010</th>\n",
       "      <td>UK-Based CODA Agency Formally Becomes Paradigm...</td>\n",
       "      <td>NaN</td>\n",
       "      <td>NaN</td>\n",
       "      <td>NaN</td>\n",
       "      <td>NaN</td>\n",
       "      <td>NaN</td>\n",
       "      <td></td>\n",
       "      <td>2.349298</td>\n",
       "    </tr>\n",
       "  </tbody>\n",
       "</table>\n",
       "<p>819 rows × 8 columns</p>\n",
       "</div>"
      ],
      "text/plain": [
       "                                                   text  ... bought_confidence\n",
       "id                                                       ...                  \n",
       "5118  FM:Systems Gains Advanced Workspace Analytics ...  ...         67.764389\n",
       "5119  Premium Transportation Logistics Transfers Own...  ...          0.942525\n",
       "5120  Chesapeake Eye Care Rebrands Platform as Visio...  ...          0.834298\n",
       "5121  Ntiva Completes Strategic Acquisition of Highe...  ...        322.843079\n",
       "5122  Ksquare Acquires Great Wave Tech - Accelerates...  ...         63.413654\n",
       "...                                                 ...  ...               ...\n",
       "7006  MeritorÂ® Reports Third-Quarter Fiscal Year 20...  ...          0.257628\n",
       "7007  Key Surgical Signs Agreement To Acquire Insitu...  ...         35.067268\n",
       "7008  Blue Prism Closes Thoughtonomy Acquisition; Bo...  ...          0.859541\n",
       "7009  Surterra Wellness Acquires Molecular Infusions...  ...         95.975143\n",
       "7010  UK-Based CODA Agency Formally Becomes Paradigm...  ...          2.349298\n",
       "\n",
       "[819 rows x 8 columns]"
      ]
     },
     "execution_count": 63,
     "metadata": {
      "tags": []
     },
     "output_type": "execute_result"
    }
   ],
   "source": [
    "pd.read_pickle('test.pkl')"
   ]
  },
  {
   "cell_type": "markdown",
   "metadata": {
    "id": "jPSZs2npCbD9"
   },
   "source": [
    "# Testing different questions"
   ]
  },
  {
   "cell_type": "code",
   "execution_count": 10,
   "metadata": {
    "colab": {
     "base_uri": "https://localhost:8080/",
     "height": 881
    },
    "executionInfo": {
     "elapsed": 65327,
     "status": "ok",
     "timestamp": 1618231119678,
     "user": {
      "displayName": "Jason F Petri",
      "photoUrl": "",
      "userId": "10231400164364138187"
     },
     "user_tz": 240
    },
    "id": "dplxC5bU30Ip",
    "outputId": "916fae7e-7641-47f6-e969-c5ad16d4c1dd"
   },
   "outputs": [
    {
     "name": "stderr",
     "output_type": "stream",
     "text": [
      "/usr/local/lib/python3.7/dist-packages/ipykernel_launcher.py:2: SettingWithCopyWarning: \n",
      "A value is trying to be set on a copy of a slice from a DataFrame.\n",
      "Try using .loc[row_indexer,col_indexer] = value instead\n",
      "\n",
      "See the caveats in the documentation: https://pandas.pydata.org/pandas-docs/stable/user_guide/indexing.html#returning-a-view-versus-a-copy\n",
      "  \n",
      "/usr/local/lib/python3.7/dist-packages/ipykernel_launcher.py:3: SettingWithCopyWarning: \n",
      "A value is trying to be set on a copy of a slice from a DataFrame.\n",
      "Try using .loc[row_indexer,col_indexer] = value instead\n",
      "\n",
      "See the caveats in the documentation: https://pandas.pydata.org/pandas-docs/stable/user_guide/indexing.html#returning-a-view-versus-a-copy\n",
      "  This is separate from the ipykernel package so we can avoid doing imports until\n",
      "/usr/local/lib/python3.7/dist-packages/ipykernel_launcher.py:4: SettingWithCopyWarning: \n",
      "A value is trying to be set on a copy of a slice from a DataFrame.\n",
      "Try using .loc[row_indexer,col_indexer] = value instead\n",
      "\n",
      "See the caveats in the documentation: https://pandas.pydata.org/pandas-docs/stable/user_guide/indexing.html#returning-a-view-versus-a-copy\n",
      "  after removing the cwd from sys.path.\n"
     ]
    },
    {
     "data": {
      "text/html": [
       "<div>\n",
       "<style scoped>\n",
       "    .dataframe tbody tr th:only-of-type {\n",
       "        vertical-align: middle;\n",
       "    }\n",
       "\n",
       "    .dataframe tbody tr th {\n",
       "        vertical-align: top;\n",
       "    }\n",
       "\n",
       "    .dataframe thead th {\n",
       "        text-align: right;\n",
       "    }\n",
       "</style>\n",
       "<table border=\"1\" class=\"dataframe\">\n",
       "  <thead>\n",
       "    <tr style=\"text-align: right;\">\n",
       "      <th></th>\n",
       "      <th>text</th>\n",
       "      <th>true_buyer</th>\n",
       "      <th>true_seller</th>\n",
       "      <th>true_price</th>\n",
       "      <th>true_target</th>\n",
       "      <th>Reviewer</th>\n",
       "      <th>bought_answer</th>\n",
       "      <th>bought_confidence</th>\n",
       "      <th>acquired_answer</th>\n",
       "      <th>acquired_confidence</th>\n",
       "      <th>sold_answer</th>\n",
       "      <th>sold_confidence</th>\n",
       "    </tr>\n",
       "    <tr>\n",
       "      <th>id</th>\n",
       "      <th></th>\n",
       "      <th></th>\n",
       "      <th></th>\n",
       "      <th></th>\n",
       "      <th></th>\n",
       "      <th></th>\n",
       "      <th></th>\n",
       "      <th></th>\n",
       "      <th></th>\n",
       "      <th></th>\n",
       "      <th></th>\n",
       "      <th></th>\n",
       "    </tr>\n",
       "  </thead>\n",
       "  <tbody>\n",
       "    <tr>\n",
       "      <th>5118</th>\n",
       "      <td>FM:Systems Gains Advanced Workspace Analytics ...</td>\n",
       "      <td>FM:Systems</td>\n",
       "      <td>Rifiniti</td>\n",
       "      <td>NaN</td>\n",
       "      <td>Rifiniti</td>\n",
       "      <td>Shan</td>\n",
       "      <td>Rifiniti</td>\n",
       "      <td>67.764389</td>\n",
       "      <td>Rifiniti</td>\n",
       "      <td>7.628334e+02</td>\n",
       "      <td>Rifiniti</td>\n",
       "      <td>19.437239</td>\n",
       "    </tr>\n",
       "    <tr>\n",
       "      <th>5119</th>\n",
       "      <td>Premium Transportation Logistics Transfers Own...</td>\n",
       "      <td>Premium Transportation Logistics</td>\n",
       "      <td>Magnate Worldwide</td>\n",
       "      <td>NaN</td>\n",
       "      <td>Premium Transportation Logistics</td>\n",
       "      <td>Shan</td>\n",
       "      <td>Brad Kelley</td>\n",
       "      <td>0.942525</td>\n",
       "      <td>Brad Kelley</td>\n",
       "      <td>1.806796e+01</td>\n",
       "      <td></td>\n",
       "      <td>0.289936</td>\n",
       "    </tr>\n",
       "    <tr>\n",
       "      <th>5120</th>\n",
       "      <td>Chesapeake Eye Care Rebrands Platform as Visio...</td>\n",
       "      <td>NaN</td>\n",
       "      <td>NaN</td>\n",
       "      <td>NaN</td>\n",
       "      <td>NaN</td>\n",
       "      <td>Shan</td>\n",
       "      <td></td>\n",
       "      <td>0.834298</td>\n",
       "      <td></td>\n",
       "      <td>1.153849e+00</td>\n",
       "      <td></td>\n",
       "      <td>0.931882</td>\n",
       "    </tr>\n",
       "    <tr>\n",
       "      <th>5121</th>\n",
       "      <td>Ntiva Completes Strategic Acquisition of Highe...</td>\n",
       "      <td>Ntiva</td>\n",
       "      <td>Southfield Capital</td>\n",
       "      <td>NaN</td>\n",
       "      <td>HigherGround Managed Services</td>\n",
       "      <td>Shan</td>\n",
       "      <td>HigherGround Managed Services</td>\n",
       "      <td>322.843079</td>\n",
       "      <td>HigherGround Managed Services (\"HigherGround\")</td>\n",
       "      <td>3.715127e+03</td>\n",
       "      <td>HigherGround Managed Services</td>\n",
       "      <td>14.010670</td>\n",
       "    </tr>\n",
       "    <tr>\n",
       "      <th>5122</th>\n",
       "      <td>Ksquare Acquires Great Wave Tech - Accelerates...</td>\n",
       "      <td>Ksquare</td>\n",
       "      <td>Great Wave Tech</td>\n",
       "      <td>NaN</td>\n",
       "      <td>Great Wave Tech</td>\n",
       "      <td>Shan</td>\n",
       "      <td>Great Wave Tech</td>\n",
       "      <td>63.413654</td>\n",
       "      <td>Great Wave Tech</td>\n",
       "      <td>9.725536e+01</td>\n",
       "      <td>Great Wave Tech</td>\n",
       "      <td>0.906730</td>\n",
       "    </tr>\n",
       "    <tr>\n",
       "      <th>5123</th>\n",
       "      <td>ATW acquires BWise Manufacturing. RICHARDSON, ...</td>\n",
       "      <td>ATW</td>\n",
       "      <td>BWise Manufacturing</td>\n",
       "      <td>NaN</td>\n",
       "      <td>BWise Manufacturing</td>\n",
       "      <td>Shan</td>\n",
       "      <td>BWise Manufacturing</td>\n",
       "      <td>9236.933594</td>\n",
       "      <td>BWise Manufacturing</td>\n",
       "      <td>4.881704e+06</td>\n",
       "      <td>BWise Manufacturing</td>\n",
       "      <td>43.253284</td>\n",
       "    </tr>\n",
       "    <tr>\n",
       "      <th>5124</th>\n",
       "      <td>Cox Media Group to Sell Radio Portfolio, CoxRe...</td>\n",
       "      <td>Apollo Global Management</td>\n",
       "      <td>Cox Media Group</td>\n",
       "      <td>NaN</td>\n",
       "      <td>Cox Media Group's Radio station portfolio, Cox...</td>\n",
       "      <td>Shan</td>\n",
       "      <td>Cox Media Group's broadcast television group</td>\n",
       "      <td>131.194305</td>\n",
       "      <td>Cox Media Group's broadcast television group</td>\n",
       "      <td>7.277088e+02</td>\n",
       "      <td>Cox Media Group</td>\n",
       "      <td>104.771729</td>\n",
       "    </tr>\n",
       "    <tr>\n",
       "      <th>5125</th>\n",
       "      <td>Scout Completes Power Purchase Agreement (PPA)...</td>\n",
       "      <td>NaN</td>\n",
       "      <td>NaN</td>\n",
       "      <td>NaN</td>\n",
       "      <td>NaN</td>\n",
       "      <td>Shan</td>\n",
       "      <td>Constellation for the Bitter Ridge Wind Farm</td>\n",
       "      <td>0.120296</td>\n",
       "      <td>Constellation for the Bitter Ridge Wind Farm</td>\n",
       "      <td>2.669021e+00</td>\n",
       "      <td></td>\n",
       "      <td>0.663900</td>\n",
       "    </tr>\n",
       "    <tr>\n",
       "      <th>5126</th>\n",
       "      <td>eCobalt Shareholders Approve Plan of Arrangeme...</td>\n",
       "      <td>NaN</td>\n",
       "      <td>NaN</td>\n",
       "      <td>NaN</td>\n",
       "      <td>NaN</td>\n",
       "      <td>Shan</td>\n",
       "      <td></td>\n",
       "      <td>1.902300</td>\n",
       "      <td>Jervois</td>\n",
       "      <td>1.110889e+02</td>\n",
       "      <td></td>\n",
       "      <td>2.307532</td>\n",
       "    </tr>\n",
       "    <tr>\n",
       "      <th>5162</th>\n",
       "      <td>Muinzer Acquires Four Properties Near Purdue U...</td>\n",
       "      <td>Muinzer</td>\n",
       "      <td>NaN</td>\n",
       "      <td>$2.6+ million</td>\n",
       "      <td>four assets near Purdue University</td>\n",
       "      <td>Shan</td>\n",
       "      <td></td>\n",
       "      <td>0.266820</td>\n",
       "      <td>Opportunity Zone Holdings</td>\n",
       "      <td>9.484013e-01</td>\n",
       "      <td></td>\n",
       "      <td>0.421293</td>\n",
       "    </tr>\n",
       "  </tbody>\n",
       "</table>\n",
       "</div>"
      ],
      "text/plain": [
       "                                                   text  ... sold_confidence\n",
       "id                                                       ...                \n",
       "5118  FM:Systems Gains Advanced Workspace Analytics ...  ...       19.437239\n",
       "5119  Premium Transportation Logistics Transfers Own...  ...        0.289936\n",
       "5120  Chesapeake Eye Care Rebrands Platform as Visio...  ...        0.931882\n",
       "5121  Ntiva Completes Strategic Acquisition of Highe...  ...       14.010670\n",
       "5122  Ksquare Acquires Great Wave Tech - Accelerates...  ...        0.906730\n",
       "5123  ATW acquires BWise Manufacturing. RICHARDSON, ...  ...       43.253284\n",
       "5124  Cox Media Group to Sell Radio Portfolio, CoxRe...  ...      104.771729\n",
       "5125  Scout Completes Power Purchase Agreement (PPA)...  ...        0.663900\n",
       "5126  eCobalt Shareholders Approve Plan of Arrangeme...  ...        2.307532\n",
       "5162  Muinzer Acquires Four Properties Near Purdue U...  ...        0.421293\n",
       "\n",
       "[10 rows x 12 columns]"
      ]
     },
     "execution_count": 10,
     "metadata": {
      "tags": []
     },
     "output_type": "execute_result"
    }
   ],
   "source": [
    "news = df[:10]\n",
    "news['bought_answer'], news['bought_confidence'] = zip(*news['text'].apply(lambda x: ask_question(context=x, question='Who was bought?')))\n",
    "news['acquired_answer'], news['acquired_confidence'] = zip(*news['text'].apply(lambda x: ask_question(context=x, question='Who was acquired?')))\n",
    "news['sold_answer'], news['sold_confidence'] = zip(*news['text'].apply(lambda x: ask_question(context=x, question='Who was sold?')))\n",
    "news"
   ]
  },
  {
   "cell_type": "markdown",
   "metadata": {
    "id": "Q4ulcn4XHPkh"
   },
   "source": [
    "# Strip out parts of speech"
   ]
  },
  {
   "cell_type": "markdown",
   "metadata": {
    "id": "WdsWPt80KvDg"
   },
   "source": [
    "### For example, text *\\\"Apple buys Tesla for \\$100 million. Elon Musk is happy.\\\"* becomes *\\\"org1 buys org2 for $100 million. person1 is happy.\\\"*"
   ]
  },
  {
   "cell_type": "code",
   "execution_count": 23,
   "metadata": {
    "colab": {
     "base_uri": "https://localhost:8080/",
     "height": 51
    },
    "executionInfo": {
     "elapsed": 342,
     "status": "ok",
     "timestamp": 1618232659247,
     "user": {
      "displayName": "Jason F Petri",
      "photoUrl": "",
      "userId": "10231400164364138187"
     },
     "user_tz": 240
    },
    "id": "Jz_d4svHLjWl",
    "outputId": "bb974eb9-97b0-4161-cf97-b89a70abfee7"
   },
   "outputs": [
    {
     "data": {
      "text/html": [
       "<span class=\"tex2jax_ignore\"><div class=\"entities\" style=\"line-height: 2.5; direction: ltr\">\n",
       "<mark class=\"entity\" style=\"background: #7aecec; padding: 0.45em 0.6em; margin: 0 0.25em; line-height: 1; border-radius: 0.35em;\">\n",
       "    Apple\n",
       "    <span style=\"font-size: 0.8em; font-weight: bold; line-height: 1; border-radius: 0.35em; text-transform: uppercase; vertical-align: middle; margin-left: 0.5rem\">ORG</span>\n",
       "</mark>\n",
       " buys \n",
       "<mark class=\"entity\" style=\"background: #bfeeb7; padding: 0.45em 0.6em; margin: 0 0.25em; line-height: 1; border-radius: 0.35em;\">\n",
       "    Tesla\n",
       "    <span style=\"font-size: 0.8em; font-weight: bold; line-height: 1; border-radius: 0.35em; text-transform: uppercase; vertical-align: middle; margin-left: 0.5rem\">PRODUCT</span>\n",
       "</mark>\n",
       " for \n",
       "<mark class=\"entity\" style=\"background: #e4e7d2; padding: 0.45em 0.6em; margin: 0 0.25em; line-height: 1; border-radius: 0.35em;\">\n",
       "    $100 million\n",
       "    <span style=\"font-size: 0.8em; font-weight: bold; line-height: 1; border-radius: 0.35em; text-transform: uppercase; vertical-align: middle; margin-left: 0.5rem\">MONEY</span>\n",
       "</mark>\n",
       ". \n",
       "<mark class=\"entity\" style=\"background: #aa9cfc; padding: 0.45em 0.6em; margin: 0 0.25em; line-height: 1; border-radius: 0.35em;\">\n",
       "    Elon Musk\n",
       "    <span style=\"font-size: 0.8em; font-weight: bold; line-height: 1; border-radius: 0.35em; text-transform: uppercase; vertical-align: middle; margin-left: 0.5rem\">PERSON</span>\n",
       "</mark>\n",
       " is happy.</div></span>"
      ],
      "text/plain": [
       "<IPython.core.display.HTML object>"
      ]
     },
     "metadata": {
      "tags": []
     },
     "output_type": "display_data"
    }
   ],
   "source": [
    "displacy.render(nlp('Apple buys Tesla for $100 million. Elon Musk is happy.'), style='ent', jupyter=True)"
   ]
  },
  {
   "cell_type": "code",
   "execution_count": 52,
   "metadata": {
    "executionInfo": {
     "elapsed": 371,
     "status": "ok",
     "timestamp": 1618236202780,
     "user": {
      "displayName": "Jason F Petri",
      "photoUrl": "",
      "userId": "10231400164364138187"
     },
     "user_tz": 240
    },
    "id": "Xyn1xhnuFJK4"
   },
   "outputs": [],
   "source": [
    "def stripped_question(x, question):\n",
    "  news_nlp = nlp(x)\n",
    "  person_count = 0\n",
    "  org_count = 0\n",
    "  text = x\n",
    "  mapping = {}\n",
    "  for entity in news_nlp.ents:\n",
    "    if entity.label_ == 'ORG':\n",
    "      text = text.replace(entity.text, f'org{org_count}', 1)\n",
    "      mapping[f'org{org_count}'] = entity.text\n",
    "      org_count += 1\n",
    "    if entity.label_ == 'PERSON':\n",
    "      text = text.replace(entity.text, f'person{person_count}', 1)\n",
    "      mapping[f'person{person_count}'] = entity.text\n",
    "      person_count += 1\n",
    "\n",
    "  result = ask_question(text, question)\n",
    "  if result[0] != '':\n",
    "    try:\n",
    "      # print(mapping[result[0]])\n",
    "      return mapping[result[0]]\n",
    "    except KeyError:\n",
    "      # NLP did not classify the organization\n",
    "      res = result[0]\n",
    "      for w in result[0].split(' '):\n",
    "        if w in mapping.keys():\n",
    "          res = res.replace(w, mapping[w], 1)\n",
    "      return res\n",
    "  else:\n",
    "    return ''\n",
    "\n",
    "# stripped_question(news['text'].iloc[0], 'Who was bought?')\n",
    "# stripped_question(news['text'].iloc[1], 'Who was bought?')\n",
    "# stripped_question(news['text'].iloc[2], 'Who was bought?')"
   ]
  },
  {
   "cell_type": "markdown",
   "metadata": {
    "id": "nL4UecGuLz8x"
   },
   "source": [
    "# Strip out parts of speech, all capital letters."
   ]
  },
  {
   "cell_type": "markdown",
   "metadata": {
    "id": "7xldMR-jOTQu"
   },
   "source": [
    "This makes the results awful!"
   ]
  },
  {
   "cell_type": "code",
   "execution_count": 36,
   "metadata": {
    "colab": {
     "base_uri": "https://localhost:8080/"
    },
    "executionInfo": {
     "elapsed": 6829,
     "status": "ok",
     "timestamp": 1618235081110,
     "user": {
      "displayName": "Jason F Petri",
      "photoUrl": "",
      "userId": "10231400164364138187"
     },
     "user_tz": 240
    },
    "id": "8MS6DHv1L5EU",
    "outputId": "d7e910ed-2b30-4964-8d21-d4cd32a8e252"
   },
   "outputs": [
    {
     "name": "stdout",
     "output_type": "stream",
     "text": [
      "('', 1.963996171951294)\n",
      "('', 0.30378302931785583)\n",
      "('', 0.6013373136520386)\n"
     ]
    }
   ],
   "source": [
    "def stripped_question_upper(x, question):\n",
    "  news_nlp = nlp(x)\n",
    "  person_count = 0\n",
    "  org_count = 0\n",
    "  text = x\n",
    "  mapping = {}\n",
    "  for entity in news_nlp.ents:\n",
    "    if entity.label_ == 'ORG':\n",
    "      text = text.replace(entity.text, f'org{org_count}', 1)\n",
    "      mapping[f'org{org_count}'] = entity.text\n",
    "      org_count += 1\n",
    "    if entity.label_ == 'PERSON':\n",
    "      text = text.replace(entity.text, f'person{person_count}', 1)\n",
    "      mapping[f'person{person_count}'] = entity.text\n",
    "      person_count += 1\n",
    "\n",
    "  result = ask_question(text.upper(), question)\n",
    "  print(result)\n",
    "  if result[0] != '':\n",
    "    try:\n",
    "      print(mapping[result[0]])\n",
    "    except KeyError:\n",
    "      # NLP did not classify the organization\n",
    "      print(result[0])\n",
    "\n",
    "\n",
    "stripped_question_upper(news['text'].iloc[0], 'Who was bought?')\n",
    "stripped_question_upper(news['text'].iloc[1], 'Who was bought?')\n",
    "stripped_question_upper(news['text'].iloc[2], 'Who was bought?')"
   ]
  },
  {
   "cell_type": "markdown",
   "metadata": {
    "id": "vqC8B1lPOaC9"
   },
   "source": [
    "# Strip out parts of speech, all lower-case letters."
   ]
  },
  {
   "cell_type": "markdown",
   "metadata": {
    "id": "2S2VUxRqOmh-"
   },
   "source": [
    "Seems like this does nothing as well..."
   ]
  },
  {
   "cell_type": "code",
   "execution_count": 40,
   "metadata": {
    "colab": {
     "base_uri": "https://localhost:8080/"
    },
    "executionInfo": {
     "elapsed": 7367,
     "status": "ok",
     "timestamp": 1618235411154,
     "user": {
      "displayName": "Jason F Petri",
      "photoUrl": "",
      "userId": "10231400164364138187"
     },
     "user_tz": 240
    },
    "id": "MR0BOfe1OZYA",
    "outputId": "48b95276-3683-4449-8e58-eb4f9ae19eeb"
   },
   "outputs": [
    {
     "name": "stdout",
     "output_type": "stream",
     "text": [
      "('org1', 92.604736328125)\n",
      "Rifiniti\n",
      "('magnate worldwide', 2.643852710723877)\n",
      "magnate worldwide\n",
      "('', 0.6866555213928223)\n"
     ]
    }
   ],
   "source": [
    "def stripped_question_lower(x, question):\n",
    "  news_nlp = nlp(x)\n",
    "  person_count = 0\n",
    "  org_count = 0\n",
    "  text = x\n",
    "  mapping = {}\n",
    "  for entity in news_nlp.ents:\n",
    "    if entity.label_ == 'ORG':\n",
    "      text = text.replace(entity.text, f'org{org_count}', 1)\n",
    "      mapping[f'org{org_count}'] = entity.text\n",
    "      org_count += 1\n",
    "    if entity.label_ == 'PERSON':\n",
    "      text = text.replace(entity.text, f'person{person_count}', 1)\n",
    "      mapping[f'person{person_count}'] = entity.text\n",
    "      person_count += 1\n",
    "\n",
    "  result = ask_question(text.lower(), question)\n",
    "  print(result)\n",
    "  if result[0] != '':\n",
    "    try:\n",
    "      print(mapping[result[0]])\n",
    "    except KeyError:\n",
    "      # NLP did not classify the organization\n",
    "      res = result[0]\n",
    "      for w in result[0].split(' '):\n",
    "\n",
    "      print(result[0])\n",
    "\n",
    "stripped_question_lower(news['text'].iloc[0], 'Who was bought?')\n",
    "stripped_question_lower(news['text'].iloc[1], 'Who was bought?')\n",
    "stripped_question_lower(news['text'].iloc[2], 'Who was bought?')"
   ]
  },
  {
   "cell_type": "code",
   "execution_count": 54,
   "metadata": {
    "colab": {
     "base_uri": "https://localhost:8080/"
    },
    "executionInfo": {
     "elapsed": 12760,
     "status": "ok",
     "timestamp": 1618236585903,
     "user": {
      "displayName": "Jason F Petri",
      "photoUrl": "",
      "userId": "10231400164364138187"
     },
     "user_tz": 240
    },
    "id": "zQmhi-5QOt_D",
    "outputId": "8d2cbb98-8758-46de-896b-f0d8a37254fd"
   },
   "outputs": [
    {
     "name": "stdout",
     "output_type": "stream",
     "text": [
      "Actual: Rifiniti Predicted: Rifiniti\n",
      "Similarity of Predicted vs. Actual: 1.0\n",
      "Actual: Magnate Worldwide Predicted: PTL\n",
      "Similarity of Predicted vs. Actual: 0.04517114935551715\n",
      "Actual: Southfield Capital Predicted: HigherGround Managed Services\n",
      "Similarity of Predicted vs. Actual: 0.24360557265550653\n",
      "Actual: Great Wave Tech Predicted: Great Wave Tech\n",
      "Similarity of Predicted vs. Actual: 1.0\n",
      "Actual:  BWise Manufacturing Predicted: BWise Manufacturing\n",
      "Similarity of Predicted vs. Actual: 0.999999965955948\n",
      "Actual: Cox Media Group Predicted: Cox Media Group's broadcast television group\n",
      "Similarity of Predicted vs. Actual: 0.8741246037607355\n",
      "Total correct: 4 out of 6 ... 66.67\n"
     ]
    }
   ],
   "source": [
    "train = news[~news['true_seller'].isnull()]\n",
    "\n",
    "correct_count = 0\n",
    "for index, row in train.iterrows():\n",
    "  actual_seller = row['true_seller']\n",
    "  doc1 = nlp(actual_seller)\n",
    "  result = stripped_question(row['text'], 'Who was bought?')\n",
    "  predicted_company = result\n",
    "\n",
    "  similarity = doc1.similarity(nlp(predicted_company))\n",
    "  if similarity > 0.7:\n",
    "    correct_count += 1\n",
    "\n",
    "  print(f'Actual: {actual_seller} Predicted: {predicted_company}')\n",
    "  print(f'Similarity of Predicted vs. Actual: {doc1.similarity(nlp(predicted_company))}')\n",
    "\n",
    "print(f'Total correct: {correct_count} out of {len(train)} ... {round((correct_count / len(train)) * 100, 2)}%')"
   ]
  },
  {
   "cell_type": "markdown",
   "metadata": {
    "id": "gk9OY5jjj-vo"
   },
   "source": [
    "# Ground-truth testing (replacing of organizations and people)\n",
    "- *Who was the seller?*\n",
    "- Total correct: 86 out of 176 ... 48.86%"
   ]
  },
  {
   "cell_type": "code",
   "execution_count": 55,
   "metadata": {
    "colab": {
     "base_uri": "https://localhost:8080/"
    },
    "executionInfo": {
     "elapsed": 368522,
     "status": "ok",
     "timestamp": 1618237006170,
     "user": {
      "displayName": "Jason F Petri",
      "photoUrl": "",
      "userId": "10231400164364138187"
     },
     "user_tz": 240
    },
    "id": "cHZCOccGUCJq",
    "outputId": "b4244956-81c9-465b-c44c-92fef38c4d95"
   },
   "outputs": [
    {
     "name": "stdout",
     "output_type": "stream",
     "text": [
      "Actual: Rifiniti Predicted: Rifiniti\n",
      "Similarity of Predicted vs. Actual: 1.0\n",
      "Actual: Magnate Worldwide Predicted: PTL\n",
      "Similarity of Predicted vs. Actual: 0.04517114935551715\n",
      "Actual: Southfield Capital Predicted: HigherGround Managed Services\n",
      "Similarity of Predicted vs. Actual: 0.24360557265550653\n",
      "Actual: Great Wave Tech Predicted: Great Wave Tech\n",
      "Similarity of Predicted vs. Actual: 1.0\n",
      "Actual:  BWise Manufacturing Predicted: BWise Manufacturing\n",
      "Similarity of Predicted vs. Actual: 0.999999965955948\n",
      "Actual: Cox Media Group Predicted: Cox Media Group's broadcast television group\n",
      "Similarity of Predicted vs. Actual: 0.8741246037607355\n",
      "Actual: O'Keefe Elevator Predicted: O'Keefe Elevator Company\n",
      "Similarity of Predicted vs. Actual: 0.8448396298089168\n",
      "Actual: G3 Comms Predicted: G3\n",
      "Similarity of Predicted vs. Actual: 0.7939693455881965\n"
     ]
    },
    {
     "name": "stderr",
     "output_type": "stream",
     "text": [
      "/usr/lib/python3.7/runpy.py:193: UserWarning: [W008] Evaluating Doc.similarity based on empty vectors.\n",
      "  \"__main__\", mod_spec)\n",
      "/usr/lib/python3.7/runpy.py:193: UserWarning: [W008] Evaluating Doc.similarity based on empty vectors.\n",
      "  \"__main__\", mod_spec)\n"
     ]
    },
    {
     "name": "stdout",
     "output_type": "stream",
     "text": [
      "Actual: Covia Predicted: Covia (org3: org4)\n",
      "Similarity of Predicted vs. Actual: 0.0\n",
      "Actual: Geezeo Predicted: Geezeo\n",
      "Similarity of Predicted vs. Actual: 1.0\n",
      "Actual: Blue Harbour Group Predicted: GWR\n",
      "Similarity of Predicted vs. Actual: -0.05992148061136329\n",
      "Actual: Pure Multi-Family Predicted: Pure Multi-Family\n",
      "Similarity of Predicted vs. Actual: 1.0\n",
      "Actual: Knight Point Systems Predicted: org4, LLC (org6)\n",
      "Similarity of Predicted vs. Actual: 0.32777104405579166\n"
     ]
    },
    {
     "name": "stderr",
     "output_type": "stream",
     "text": [
      "/usr/lib/python3.7/runpy.py:193: UserWarning: [W008] Evaluating Doc.similarity based on empty vectors.\n",
      "  \"__main__\", mod_spec)\n",
      "/usr/lib/python3.7/runpy.py:193: UserWarning: [W008] Evaluating Doc.similarity based on empty vectors.\n",
      "  \"__main__\", mod_spec)\n"
     ]
    },
    {
     "name": "stdout",
     "output_type": "stream",
     "text": [
      "Actual:  Gilliam Insurance Agency Predicted: \n",
      "Similarity of Predicted vs. Actual: 0.0\n",
      "Actual: Twistlock Predicted: Twistlock\n",
      "Similarity of Predicted vs. Actual: 1.0\n",
      "Actual: The Referral Depot Predicted: The Referral Depot (org5)\n",
      "Similarity of Predicted vs. Actual: 0.7668135656965296\n",
      "Actual: Bloom Energy Corporation Predicted: Bloom Energy Corporation (org5: BE)\n",
      "Similarity of Predicted vs. Actual: 0.7465778925654022\n",
      "Actual: Global Transport Logistics, Am Trans Expedite Predicted: Global Transport Logistics, Inc. (\"GTLi\") and Am Trans Expedite, Inc. (\"Am Trans\")\n",
      "Similarity of Predicted vs. Actual: 0.7566512606845534\n",
      "Actual: ALKOS Group Predicted: ALKOS Group\n",
      "Similarity of Predicted vs. Actual: 1.0\n",
      "Actual: Crius Energy Trust Predicted: Crius Energy\n",
      "Similarity of Predicted vs. Actual: 0.8520025206411871\n",
      "Actual: MPL Holdings Predicted: MPL Holdings\n",
      "Similarity of Predicted vs. Actual: 1.0\n",
      "Actual: SGS Predicted: Petroleum Service Corporation\n",
      "Similarity of Predicted vs. Actual: 0.05521522075343481\n",
      "Actual: Aerohive Networks Predicted: all outstanding shares of common stock of Aerohive Networks, Inc.\n",
      "Similarity of Predicted vs. Actual: 0.5020058534763636\n",
      "Actual: Intimates Online Predicted: Intimates Online, Inc.\n",
      "Similarity of Predicted vs. Actual: 0.8253176095948186\n",
      "Actual: Connect Media Predicted: General Counsel Summit\n",
      "Similarity of Predicted vs. Actual: 0.35985554984182505\n",
      "Actual: Bombshell Technologies Predicted: Bombshell Technologies\n",
      "Similarity of Predicted vs. Actual: 1.0\n",
      "Actual: GBST Holdings Limited Predicted: GBST Holdings Limited (ASX:org2, \"org5\")\n",
      "Similarity of Predicted vs. Actual: 0.5234011241430024\n",
      "Actual: Pfingsten Partners Predicted: ZSi-Foster Acquisition Corporation (\"ZSi-Foster\")\n",
      "Similarity of Predicted vs. Actual: 0.4418079750026578\n"
     ]
    },
    {
     "name": "stderr",
     "output_type": "stream",
     "text": [
      "/usr/lib/python3.7/runpy.py:193: UserWarning: [W008] Evaluating Doc.similarity based on empty vectors.\n",
      "  \"__main__\", mod_spec)\n",
      "/usr/lib/python3.7/runpy.py:193: UserWarning: [W008] Evaluating Doc.similarity based on empty vectors.\n",
      "  \"__main__\", mod_spec)\n"
     ]
    },
    {
     "name": "stdout",
     "output_type": "stream",
     "text": [
      "Actual: OpenConnect Predicted: OpenConnect Inc\n",
      "Similarity of Predicted vs. Actual: 0.0\n"
     ]
    },
    {
     "name": "stderr",
     "output_type": "stream",
     "text": [
      "/usr/lib/python3.7/runpy.py:193: UserWarning: [W008] Evaluating Doc.similarity based on empty vectors.\n",
      "  \"__main__\", mod_spec)\n",
      "/usr/lib/python3.7/runpy.py:193: UserWarning: [W008] Evaluating Doc.similarity based on empty vectors.\n",
      "  \"__main__\", mod_spec)\n"
     ]
    },
    {
     "name": "stdout",
     "output_type": "stream",
     "text": [
      "Actual: Twin River Worldwide Holdings Predicted: \n",
      "Similarity of Predicted vs. Actual: 0.0\n"
     ]
    },
    {
     "name": "stderr",
     "output_type": "stream",
     "text": [
      "/usr/lib/python3.7/runpy.py:193: UserWarning: [W008] Evaluating Doc.similarity based on empty vectors.\n",
      "  \"__main__\", mod_spec)\n",
      "/usr/lib/python3.7/runpy.py:193: UserWarning: [W008] Evaluating Doc.similarity based on empty vectors.\n",
      "  \"__main__\", mod_spec)\n"
     ]
    },
    {
     "name": "stdout",
     "output_type": "stream",
     "text": [
      "Actual: KeaLeaf Life Sciences Predicted: \n",
      "Similarity of Predicted vs. Actual: 0.0\n",
      "Actual: Thrive Autism Solutions Predicted: St. Louis, MO based Thrive Autism Solutions (Thrive)\n",
      "Similarity of Predicted vs. Actual: 0.7521846029347627\n",
      "Actual: The Hain Celestial Group Predicted: Hain Pure Protein (the \"Company\")\n",
      "Similarity of Predicted vs. Actual: 0.5423481719813636\n",
      "Actual: Shan Shan Outlets Predicted: the Sellers\n",
      "Similarity of Predicted vs. Actual: 0.09535629077431289\n",
      "Actual: Alpine Group Predicted: Alpine Group's Vancouver Island Solid Waste Business\n",
      "Similarity of Predicted vs. Actual: 0.6753030342177494\n",
      "Actual: Industrial Property Trust Inc. Predicted: Industrial Property Trust Inc. (org5)\n",
      "Similarity of Predicted vs. Actual: 0.8631847819932426\n"
     ]
    },
    {
     "name": "stderr",
     "output_type": "stream",
     "text": [
      "/usr/lib/python3.7/runpy.py:193: UserWarning: [W008] Evaluating Doc.similarity based on empty vectors.\n",
      "  \"__main__\", mod_spec)\n",
      "/usr/lib/python3.7/runpy.py:193: UserWarning: [W008] Evaluating Doc.similarity based on empty vectors.\n",
      "  \"__main__\", mod_spec)\n"
     ]
    },
    {
     "name": "stdout",
     "output_type": "stream",
     "text": [
      "Actual: Entuity Predicted: Park Place Technologies\n",
      "Similarity of Predicted vs. Actual: 0.0\n",
      "Actual: RHA Health Services, LLC Predicted: the parent company\n",
      "Similarity of Predicted vs. Actual: 0.45594902633870527\n",
      "Actual: Magic Steel Sales Predicted: Magic Steel family\n",
      "Similarity of Predicted vs. Actual: 0.8189188008905546\n",
      "Actual: Acuon Capital Predicted: Acuon Capital\n",
      "Similarity of Predicted vs. Actual: 1.0\n",
      "Actual: Keystone Biologicals, Inc Predicted: Keystone Biologicals\n",
      "Similarity of Predicted vs. Actual: 0.7999182414730563\n",
      "Actual: The Crichton Group Predicted: person0, Brandon, Jackson & Ward, Inc.\n",
      "Similarity of Predicted vs. Actual: 0.23386121116332273\n"
     ]
    },
    {
     "name": "stderr",
     "output_type": "stream",
     "text": [
      "/usr/lib/python3.7/runpy.py:193: UserWarning: [W008] Evaluating Doc.similarity based on empty vectors.\n",
      "  \"__main__\", mod_spec)\n",
      "/usr/lib/python3.7/runpy.py:193: UserWarning: [W008] Evaluating Doc.similarity based on empty vectors.\n",
      "  \"__main__\", mod_spec)\n"
     ]
    },
    {
     "name": "stdout",
     "output_type": "stream",
     "text": [
      "Actual: Diginex Limited Predicted: Diginex\n",
      "Similarity of Predicted vs. Actual: 0.0\n",
      "Actual: Confirmation Predicted: Confirmation\n",
      "Similarity of Predicted vs. Actual: 1.0\n"
     ]
    },
    {
     "name": "stderr",
     "output_type": "stream",
     "text": [
      "/usr/lib/python3.7/runpy.py:193: UserWarning: [W008] Evaluating Doc.similarity based on empty vectors.\n",
      "  \"__main__\", mod_spec)\n",
      "/usr/lib/python3.7/runpy.py:193: UserWarning: [W008] Evaluating Doc.similarity based on empty vectors.\n",
      "  \"__main__\", mod_spec)\n"
     ]
    },
    {
     "name": "stdout",
     "output_type": "stream",
     "text": [
      "Actual: American Mortgage Consultants Predicted: \n",
      "Similarity of Predicted vs. Actual: 0.0\n",
      "Actual: Singular Bio, Inc Predicted: Singular Bio, Inc\n",
      "Similarity of Predicted vs. Actual: 1.0\n"
     ]
    },
    {
     "name": "stderr",
     "output_type": "stream",
     "text": [
      "/usr/lib/python3.7/runpy.py:193: UserWarning: [W008] Evaluating Doc.similarity based on empty vectors.\n",
      "  \"__main__\", mod_spec)\n",
      "/usr/lib/python3.7/runpy.py:193: UserWarning: [W008] Evaluating Doc.similarity based on empty vectors.\n",
      "  \"__main__\", mod_spec)\n"
     ]
    },
    {
     "name": "stdout",
     "output_type": "stream",
     "text": [
      "Actual: BB&T Predicted: \n",
      "Similarity of Predicted vs. Actual: 0.0\n",
      "Actual: Shopkick Predicted: Shopkick to Bridge the Gap Between Mobile and Physical Worlds of Retail\n",
      "Similarity of Predicted vs. Actual: 0.08955242298829523\n",
      "Actual: Tectoweld Predicted: Tectoweld\n",
      "Similarity of Predicted vs. Actual: 1.0\n",
      "Actual: Terra Technologies, LLC Predicted: org2, LLC\n",
      "Similarity of Predicted vs. Actual: 0.7797147969991454\n",
      "Actual: Rayonier Advanced Materials Predicted: the 270,000 tpa Matane high yield hardwood pulp mill\n",
      "Similarity of Predicted vs. Actual: 0.44788220989966776\n",
      "Actual: Competentum Predicted: Competentum\n",
      "Similarity of Predicted vs. Actual: 1.0\n",
      "Actual: Sierra Income Corporation, Medley Capital Corporation, Medley Management Inc Predicted: MDLY and its existing asset management business\n",
      "Similarity of Predicted vs. Actual: 0.6771998625801954\n",
      "Actual: Zoosk, Inc Predicted: org3, Inc.\n",
      "Similarity of Predicted vs. Actual: 0.5407923639144828\n",
      "Actual: L Catterton Predicted: Cracker Barrel\n",
      "Similarity of Predicted vs. Actual: 0.05432995369280777\n"
     ]
    },
    {
     "name": "stderr",
     "output_type": "stream",
     "text": [
      "/usr/lib/python3.7/runpy.py:193: UserWarning: [W008] Evaluating Doc.similarity based on empty vectors.\n",
      "  \"__main__\", mod_spec)\n",
      "/usr/lib/python3.7/runpy.py:193: UserWarning: [W008] Evaluating Doc.similarity based on empty vectors.\n",
      "  \"__main__\", mod_spec)\n"
     ]
    },
    {
     "name": "stdout",
     "output_type": "stream",
     "text": [
      "Actual: Llantrisant Predicted: Llantrisant, Wales-based Adjusting Associates LLP\n",
      "Similarity of Predicted vs. Actual: 0.0\n",
      "Actual: Advantor Systems Corporation Predicted: Advantor Systems Corporation\n",
      "Similarity of Predicted vs. Actual: 1.0\n"
     ]
    },
    {
     "name": "stderr",
     "output_type": "stream",
     "text": [
      "/usr/lib/python3.7/runpy.py:193: UserWarning: [W008] Evaluating Doc.similarity based on empty vectors.\n",
      "  \"__main__\", mod_spec)\n",
      "/usr/lib/python3.7/runpy.py:193: UserWarning: [W008] Evaluating Doc.similarity based on empty vectors.\n",
      "  \"__main__\", mod_spec)\n"
     ]
    },
    {
     "name": "stdout",
     "output_type": "stream",
     "text": [
      "Actual: Perrigo Predicted: \n",
      "Similarity of Predicted vs. Actual: 0.0\n",
      "Actual: SevaMed Institute Predicted: SevaMed Institute\n",
      "Similarity of Predicted vs. Actual: 1.0\n",
      "Actual: $475 million Predicted: Senior Secured Second Lien Notes\n",
      "Similarity of Predicted vs. Actual: 0.2876542823132523\n"
     ]
    },
    {
     "name": "stderr",
     "output_type": "stream",
     "text": [
      "/usr/lib/python3.7/runpy.py:193: UserWarning: [W008] Evaluating Doc.similarity based on empty vectors.\n",
      "  \"__main__\", mod_spec)\n",
      "/usr/lib/python3.7/runpy.py:193: UserWarning: [W008] Evaluating Doc.similarity based on empty vectors.\n",
      "  \"__main__\", mod_spec)\n"
     ]
    },
    {
     "name": "stdout",
     "output_type": "stream",
     "text": [
      "Actual: The Solaris Group, LLC Predicted: \n",
      "Similarity of Predicted vs. Actual: 0.0\n",
      "Actual: Kellogg Predicted: Keebler cookies\n",
      "Similarity of Predicted vs. Actual: 0.35025894734332325\n"
     ]
    },
    {
     "name": "stderr",
     "output_type": "stream",
     "text": [
      "/usr/lib/python3.7/runpy.py:193: UserWarning: [W008] Evaluating Doc.similarity based on empty vectors.\n",
      "  \"__main__\", mod_spec)\n",
      "/usr/lib/python3.7/runpy.py:193: UserWarning: [W008] Evaluating Doc.similarity based on empty vectors.\n",
      "  \"__main__\", mod_spec)\n"
     ]
    },
    {
     "name": "stdout",
     "output_type": "stream",
     "text": [
      "Actual: Illinois Gastroenterology Group Predicted: \n",
      "Similarity of Predicted vs. Actual: 0.0\n",
      "Actual: Prism Predicted: Prism\n",
      "Similarity of Predicted vs. Actual: 1.0\n"
     ]
    },
    {
     "name": "stderr",
     "output_type": "stream",
     "text": [
      "/usr/lib/python3.7/runpy.py:193: UserWarning: [W008] Evaluating Doc.similarity based on empty vectors.\n",
      "  \"__main__\", mod_spec)\n",
      "/usr/lib/python3.7/runpy.py:193: UserWarning: [W008] Evaluating Doc.similarity based on empty vectors.\n",
      "  \"__main__\", mod_spec)\n"
     ]
    },
    {
     "name": "stdout",
     "output_type": "stream",
     "text": [
      "Actual: WellFence Predicted: WellFence LLC (WellFence)\n",
      "Similarity of Predicted vs. Actual: 0.0\n",
      "Actual: Acreage Predicted: Acreage &amp\n",
      "Similarity of Predicted vs. Actual: 0.5776423457647216\n",
      "Actual: NA Engineering Associates Predicted: NA Engineering Associates Inc.\n",
      "Similarity of Predicted vs. Actual: 0.940704256610339\n",
      "Actual: Choice Bancorp Predicted: Choice and its wholly-owned banking subsidiary, Choice Bank\n",
      "Similarity of Predicted vs. Actual: 0.3244260131491391\n",
      "Actual: Nabobil Predicted: Nabobil\n",
      "Similarity of Predicted vs. Actual: 1.0\n",
      "Actual: Schlicher-Kratz Institute Predicted: Hondros Education Group\n",
      "Similarity of Predicted vs. Actual: 0.2801299402127151\n",
      "Actual: Bain Capital Predicted: a majority equity stake in Waystar\n",
      "Similarity of Predicted vs. Actual: 0.4037177516311974\n"
     ]
    },
    {
     "name": "stderr",
     "output_type": "stream",
     "text": [
      "/usr/lib/python3.7/runpy.py:193: UserWarning: [W008] Evaluating Doc.similarity based on empty vectors.\n",
      "  \"__main__\", mod_spec)\n",
      "/usr/lib/python3.7/runpy.py:193: UserWarning: [W008] Evaluating Doc.similarity based on empty vectors.\n",
      "  \"__main__\", mod_spec)\n"
     ]
    },
    {
     "name": "stdout",
     "output_type": "stream",
     "text": [
      "Actual: Accrofab Predicted: Accrofab Limited (\"org4\")\n",
      "Similarity of Predicted vs. Actual: 0.0\n",
      "Actual: Arena BogotÃ¡ Predicted: Arena BogotÃ¡\n",
      "Similarity of Predicted vs. Actual: 1.0\n",
      "Actual: Blue Water Plastic Transport Predicted: Blue Water Plastic Transport, LLC\n",
      "Similarity of Predicted vs. Actual: 0.9397321068831374\n",
      "Actual: Texas Coin and Commercial Laundry Predicted: Texas Coin and Commercial Laundry\n",
      "Similarity of Predicted vs. Actual: 1.0\n",
      "Actual: BC Partners Predicted: a passive, minority investment\n",
      "Similarity of Predicted vs. Actual: 0.44936502287069385\n",
      "Actual: HBC Predicted: minority shareholders\n",
      "Similarity of Predicted vs. Actual: -0.04235438011694191\n",
      "Actual: BioHemp Naturals Predicted: BioHemp Naturals\n",
      "Similarity of Predicted vs. Actual: 1.0\n",
      "Actual: RapidILL Predicted: RapidILL\n",
      "Similarity of Predicted vs. Actual: 1.0\n",
      "Actual: Texas Beauty Labs Predicted: Texas Beauty Labs\n",
      "Similarity of Predicted vs. Actual: 1.0\n",
      "Actual: Wintech Testing and Certification Predicted: Wintech Testing and Certification\n",
      "Similarity of Predicted vs. Actual: 1.0\n",
      "Actual: Assured Software Predicted: Assured Software and Pluribus Technologies Inc.\n",
      "\n",
      "Similarity of Predicted vs. Actual: 0.7513438202560889\n",
      "Actual: Gateway Bobcat Predicted: org8, LLC (\"Gateway Bobcat\" or the \"Company\")\n",
      "Similarity of Predicted vs. Actual: 0.37000146150054647\n",
      "Actual: Senior Insurance Brokers Predicted: Senior Insurance Brokers founder Jake Bailey\n",
      "Similarity of Predicted vs. Actual: 0.8405148457040917\n",
      "Actual: AxleTech Predicted: AxleTech\n",
      "Similarity of Predicted vs. Actual: 1.0\n",
      "Actual: Advisor Group Predicted: Advisor Group, Inc.\n",
      "Similarity of Predicted vs. Actual: 0.8442544361994242\n",
      "Actual: Mr. Delivery Predicted: Mr. Delivery\n",
      "Similarity of Predicted vs. Actual: 1.0\n",
      "Actual: Physicians Financial Advisors Predicted: Physicians Financial Advisors, Inc.\n",
      "Similarity of Predicted vs. Actual: 0.9213400565849653\n"
     ]
    },
    {
     "name": "stderr",
     "output_type": "stream",
     "text": [
      "/usr/lib/python3.7/runpy.py:193: UserWarning: [W008] Evaluating Doc.similarity based on empty vectors.\n",
      "  \"__main__\", mod_spec)\n",
      "/usr/lib/python3.7/runpy.py:193: UserWarning: [W008] Evaluating Doc.similarity based on empty vectors.\n",
      "  \"__main__\", mod_spec)\n"
     ]
    },
    {
     "name": "stdout",
     "output_type": "stream",
     "text": [
      "Actual: Achaogen Predicted: org5's assets\n",
      "Similarity of Predicted vs. Actual: 0.0\n",
      "Actual: QxBranch Predicted: QxBranch\n",
      "Similarity of Predicted vs. Actual: 1.0\n",
      "Actual: The Hydroseeding Company LLC dba Epic Manufacturing Predicted: The Hydroseeding Company LLC dba Epic Manufacturing\n",
      "Similarity of Predicted vs. Actual: 1.0\n",
      "Actual: Lake Point Business Center Predicted: Lake Point Business Center\n",
      "Similarity of Predicted vs. Actual: 1.0\n",
      "Actual: Freije-RSC Predicted: Freije-RSC\n",
      "Similarity of Predicted vs. Actual: 1.0\n"
     ]
    },
    {
     "name": "stderr",
     "output_type": "stream",
     "text": [
      "/usr/lib/python3.7/runpy.py:193: UserWarning: [W008] Evaluating Doc.similarity based on empty vectors.\n",
      "  \"__main__\", mod_spec)\n",
      "/usr/lib/python3.7/runpy.py:193: UserWarning: [W008] Evaluating Doc.similarity based on empty vectors.\n",
      "  \"__main__\", mod_spec)\n"
     ]
    },
    {
     "name": "stdout",
     "output_type": "stream",
     "text": [
      "Actual: Paytime Predicted: Paydayta, Inc.\n",
      "Similarity of Predicted vs. Actual: 0.0\n",
      "Actual: Dunn's River  Predicted: controlling interest in Temple Turmeric, Inc.\n",
      "Similarity of Predicted vs. Actual: 0.34323347897310413\n"
     ]
    },
    {
     "name": "stderr",
     "output_type": "stream",
     "text": [
      "/usr/lib/python3.7/runpy.py:193: UserWarning: [W008] Evaluating Doc.similarity based on empty vectors.\n",
      "  \"__main__\", mod_spec)\n",
      "/usr/lib/python3.7/runpy.py:193: UserWarning: [W008] Evaluating Doc.similarity based on empty vectors.\n",
      "  \"__main__\", mod_spec)\n"
     ]
    },
    {
     "name": "stdout",
     "output_type": "stream",
     "text": [
      "Actual: EverCommerce Predicted: Silver Lake will acquire a significant ownership stake in the Company\n",
      "Similarity of Predicted vs. Actual: 0.0\n",
      "Actual: Brunswick Predicted: Brunswick Corporation's Fitness business and related brands, including Life Fitness\n",
      "Similarity of Predicted vs. Actual: 0.25132287858649394\n",
      "Actual: Ultima Health Products Predicted: Ultima Health Products, Inc.\n",
      "Similarity of Predicted vs. Actual: 0.9036899910505111\n"
     ]
    },
    {
     "name": "stderr",
     "output_type": "stream",
     "text": [
      "/usr/lib/python3.7/runpy.py:193: UserWarning: [W008] Evaluating Doc.similarity based on empty vectors.\n",
      "  \"__main__\", mod_spec)\n",
      "/usr/lib/python3.7/runpy.py:193: UserWarning: [W008] Evaluating Doc.similarity based on empty vectors.\n",
      "  \"__main__\", mod_spec)\n"
     ]
    },
    {
     "name": "stdout",
     "output_type": "stream",
     "text": [
      "Actual: Direct Machinery Corporation Predicted: \n",
      "Similarity of Predicted vs. Actual: 0.0\n"
     ]
    },
    {
     "name": "stderr",
     "output_type": "stream",
     "text": [
      "/usr/lib/python3.7/runpy.py:193: UserWarning: [W008] Evaluating Doc.similarity based on empty vectors.\n",
      "  \"__main__\", mod_spec)\n",
      "/usr/lib/python3.7/runpy.py:193: UserWarning: [W008] Evaluating Doc.similarity based on empty vectors.\n",
      "  \"__main__\", mod_spec)\n"
     ]
    },
    {
     "name": "stdout",
     "output_type": "stream",
     "text": [
      "Actual: BB&T, Suntrust Predicted: \n",
      "Similarity of Predicted vs. Actual: 0.0\n",
      "Actual: Employment Technology Fund Predicted: the Employment Technology Fund (ETF)\n",
      "Similarity of Predicted vs. Actual: 0.846258466355582\n"
     ]
    },
    {
     "name": "stderr",
     "output_type": "stream",
     "text": [
      "/usr/lib/python3.7/runpy.py:193: UserWarning: [W008] Evaluating Doc.similarity based on empty vectors.\n",
      "  \"__main__\", mod_spec)\n",
      "/usr/lib/python3.7/runpy.py:193: UserWarning: [W008] Evaluating Doc.similarity based on empty vectors.\n",
      "  \"__main__\", mod_spec)\n"
     ]
    },
    {
     "name": "stdout",
     "output_type": "stream",
     "text": [
      "Actual: ZEFR Predicted: ZEFR Assets, RightsID and ChannelID\n",
      "Similarity of Predicted vs. Actual: 0.0\n",
      "Actual: iKentoo Predicted: iKentoo\n",
      "Similarity of Predicted vs. Actual: 1.0\n",
      "Actual: Whirlpool Predicted: Embraco business unit\n",
      "Similarity of Predicted vs. Actual: 0.2113406170945315\n",
      "Actual: Clayton, Dubilier & Rice Predicted: Willis Towers Watson\n",
      "Similarity of Predicted vs. Actual: 0.3394645965734387\n"
     ]
    },
    {
     "name": "stderr",
     "output_type": "stream",
     "text": [
      "/usr/lib/python3.7/runpy.py:193: UserWarning: [W008] Evaluating Doc.similarity based on empty vectors.\n",
      "  \"__main__\", mod_spec)\n",
      "/usr/lib/python3.7/runpy.py:193: UserWarning: [W008] Evaluating Doc.similarity based on empty vectors.\n",
      "  \"__main__\", mod_spec)\n"
     ]
    },
    {
     "name": "stdout",
     "output_type": "stream",
     "text": [
      "Actual: Windward Software Predicted: \n",
      "Similarity of Predicted vs. Actual: 0.0\n",
      "Actual: Apache Supply, Inc. and Coastal Contractor Supply Predicted: Apache Supply, Inc. and Coastal Contractor Supply\n",
      "Similarity of Predicted vs. Actual: 1.0\n",
      "Actual: StaffRehab Predicted: StaffRehab\n",
      "Similarity of Predicted vs. Actual: 1.0\n",
      "Actual: TACVO, Inc. Predicted: TAVCO, Inc.\n",
      "Similarity of Predicted vs. Actual: 1.0000000073401127\n",
      "Actual: Prevalent, Inc. and Axcension, Inc. Predicted: Prevalent, Inc. (Prevalent) and Axcension, Inc. (Axcension)\n",
      "Similarity of Predicted vs. Actual: 0.8225955221011475\n",
      "Actual: Ranir Global Holdings LLC Predicted: Ranir Global Holdings LLC (\"Ranir\")\n",
      "Similarity of Predicted vs. Actual: 0.6706758521039298\n"
     ]
    },
    {
     "name": "stderr",
     "output_type": "stream",
     "text": [
      "/usr/lib/python3.7/runpy.py:193: UserWarning: [W008] Evaluating Doc.similarity based on empty vectors.\n",
      "  \"__main__\", mod_spec)\n",
      "/usr/lib/python3.7/runpy.py:193: UserWarning: [W008] Evaluating Doc.similarity based on empty vectors.\n",
      "  \"__main__\", mod_spec)\n"
     ]
    },
    {
     "name": "stdout",
     "output_type": "stream",
     "text": [
      "Actual: Foster Pepper PLLC, Garvey Barer, PC Predicted: \n",
      "Similarity of Predicted vs. Actual: 0.0\n",
      "Actual: 3-Phase Electrical Ltd. Predicted: 3-Phase Electrical Ltd. (\"person0\")\n",
      "Similarity of Predicted vs. Actual: 0.5474360162589236\n",
      "Actual: Acquire Revolution Predicted: Revolution\n",
      "Similarity of Predicted vs. Actual: 0.7553075692687927\n",
      "Actual: BMW/MINI dealerships Predicted: two BMW/MINI dealerships\n",
      "Similarity of Predicted vs. Actual: 0.9575717709200575\n",
      "Actual: Stanbury Uniforms Predicted: Stanbury Uniforms\n",
      "Similarity of Predicted vs. Actual: 1.0\n",
      "Actual: Crystal River Anesthesia Associates Predicted: Crystal River Anesthesia\n",
      "Similarity of Predicted vs. Actual: 0.9378001774774265\n",
      "Actual: Sundin Mezs SIA Predicted: Sundin Mezs SIA\n",
      "Similarity of Predicted vs. Actual: 1.0\n",
      "Actual: Majure Data Predicted: Majure Data\n",
      "Similarity of Predicted vs. Actual: 1.0\n",
      "Actual: Shorenstein Properties LLC Predicted: Drawbridge Realty Management\n",
      "Similarity of Predicted vs. Actual: 0.54616257733967\n",
      "Actual: Jungla Inc. Predicted: Jungla Inc.\n",
      "Similarity of Predicted vs. Actual: 1.0\n",
      "Actual: Carrefour China Predicted: Carrefour China\n",
      "Similarity of Predicted vs. Actual: 1.0\n"
     ]
    },
    {
     "name": "stderr",
     "output_type": "stream",
     "text": [
      "/usr/lib/python3.7/runpy.py:193: UserWarning: [W008] Evaluating Doc.similarity based on empty vectors.\n",
      "  \"__main__\", mod_spec)\n",
      "/usr/lib/python3.7/runpy.py:193: UserWarning: [W008] Evaluating Doc.similarity based on empty vectors.\n",
      "  \"__main__\", mod_spec)\n"
     ]
    },
    {
     "name": "stdout",
     "output_type": "stream",
     "text": [
      "Actual: Treasure Island - TI Hotel & Casino Predicted: \n",
      "Similarity of Predicted vs. Actual: 0.0\n",
      "Actual: Bulldog Solutions Predicted: Bulldog Solutions\n",
      "Similarity of Predicted vs. Actual: 1.0\n",
      "Actual: Amberly Adhesive Labels Ltd Predicted: a company based in Dorset, UK\n",
      "Similarity of Predicted vs. Actual: 0.2606360684181952\n"
     ]
    },
    {
     "name": "stderr",
     "output_type": "stream",
     "text": [
      "/usr/lib/python3.7/runpy.py:193: UserWarning: [W008] Evaluating Doc.similarity based on empty vectors.\n",
      "  \"__main__\", mod_spec)\n",
      "/usr/lib/python3.7/runpy.py:193: UserWarning: [W008] Evaluating Doc.similarity based on empty vectors.\n",
      "  \"__main__\", mod_spec)\n"
     ]
    },
    {
     "name": "stdout",
     "output_type": "stream",
     "text": [
      "Actual: Situs Group Holdings Corp., American Mortgage Consultatnts, Inc. Predicted: \n",
      "Similarity of Predicted vs. Actual: 0.0\n",
      "Actual: FREO, Oaktree Capital Management Predicted: Spanish Offices Portfolio\n",
      "Similarity of Predicted vs. Actual: 0.4612464196751623\n"
     ]
    },
    {
     "name": "stderr",
     "output_type": "stream",
     "text": [
      "/usr/lib/python3.7/runpy.py:193: UserWarning: [W008] Evaluating Doc.similarity based on empty vectors.\n",
      "  \"__main__\", mod_spec)\n",
      "/usr/lib/python3.7/runpy.py:193: UserWarning: [W008] Evaluating Doc.similarity based on empty vectors.\n",
      "  \"__main__\", mod_spec)\n"
     ]
    },
    {
     "name": "stdout",
     "output_type": "stream",
     "text": [
      "Actual: Jervois Mining Limited, eCobalt Predicted: eCobalt\n",
      "Similarity of Predicted vs. Actual: 0.0\n",
      "Actual: SAVSU Technologies Predicted: BioLife currently does not own in exchange for 1.1 million shares of BioLife common stock\n",
      "Similarity of Predicted vs. Actual: 0.37846853213491016\n",
      "Actual: Berk Bilgen Insurance Ltd. Predicted: Berk Bilgen Insurance Ltd. (org4)\n",
      "Similarity of Predicted vs. Actual: 0.7650093300142845\n",
      "Actual: 3Cinteractive Corp. Predicted: 3Cinteractive to be Acquired by UK-based Cloud Communications Provider IMImobile\n",
      "Similarity of Predicted vs. Actual: 0.15984838618317695\n",
      "Actual: Confirmation Predicted: Confirmation\n",
      "Similarity of Predicted vs. Actual: 1.0\n"
     ]
    },
    {
     "name": "stderr",
     "output_type": "stream",
     "text": [
      "/usr/lib/python3.7/runpy.py:193: UserWarning: [W008] Evaluating Doc.similarity based on empty vectors.\n",
      "  \"__main__\", mod_spec)\n",
      "/usr/lib/python3.7/runpy.py:193: UserWarning: [W008] Evaluating Doc.similarity based on empty vectors.\n",
      "  \"__main__\", mod_spec)\n"
     ]
    },
    {
     "name": "stdout",
     "output_type": "stream",
     "text": [
      "Actual: Progentec Diagnostics, Inc., Karate Health, Inc. Predicted: \n",
      "Similarity of Predicted vs. Actual: 0.0\n"
     ]
    },
    {
     "name": "stderr",
     "output_type": "stream",
     "text": [
      "/usr/lib/python3.7/runpy.py:193: UserWarning: [W008] Evaluating Doc.similarity based on empty vectors.\n",
      "  \"__main__\", mod_spec)\n",
      "/usr/lib/python3.7/runpy.py:193: UserWarning: [W008] Evaluating Doc.similarity based on empty vectors.\n",
      "  \"__main__\", mod_spec)\n"
     ]
    },
    {
     "name": "stdout",
     "output_type": "stream",
     "text": [
      "Actual: Decernis LLC Predicted: Decernis\n",
      "Similarity of Predicted vs. Actual: 0.0\n"
     ]
    },
    {
     "name": "stderr",
     "output_type": "stream",
     "text": [
      "/usr/lib/python3.7/runpy.py:193: UserWarning: [W008] Evaluating Doc.similarity based on empty vectors.\n",
      "  \"__main__\", mod_spec)\n",
      "/usr/lib/python3.7/runpy.py:193: UserWarning: [W008] Evaluating Doc.similarity based on empty vectors.\n",
      "  \"__main__\", mod_spec)\n"
     ]
    },
    {
     "name": "stdout",
     "output_type": "stream",
     "text": [
      "Actual: Ineco Group Predicted: Inenco\n",
      "Similarity of Predicted vs. Actual: 0.0\n"
     ]
    },
    {
     "name": "stderr",
     "output_type": "stream",
     "text": [
      "/usr/lib/python3.7/runpy.py:193: UserWarning: [W008] Evaluating Doc.similarity based on empty vectors.\n",
      "  \"__main__\", mod_spec)\n",
      "/usr/lib/python3.7/runpy.py:193: UserWarning: [W008] Evaluating Doc.similarity based on empty vectors.\n",
      "  \"__main__\", mod_spec)\n"
     ]
    },
    {
     "name": "stdout",
     "output_type": "stream",
     "text": [
      "Actual: ATA National Title Group, LLC, InTitle Agency Predicted: \n",
      "Similarity of Predicted vs. Actual: 0.0\n"
     ]
    },
    {
     "name": "stderr",
     "output_type": "stream",
     "text": [
      "/usr/lib/python3.7/runpy.py:193: UserWarning: [W008] Evaluating Doc.similarity based on empty vectors.\n",
      "  \"__main__\", mod_spec)\n",
      "/usr/lib/python3.7/runpy.py:193: UserWarning: [W008] Evaluating Doc.similarity based on empty vectors.\n",
      "  \"__main__\", mod_spec)\n"
     ]
    },
    {
     "name": "stdout",
     "output_type": "stream",
     "text": [
      "Actual: Water's Edge Dermatology Predicted: \n",
      "Similarity of Predicted vs. Actual: 0.0\n"
     ]
    },
    {
     "name": "stderr",
     "output_type": "stream",
     "text": [
      "/usr/lib/python3.7/runpy.py:193: UserWarning: [W008] Evaluating Doc.similarity based on empty vectors.\n",
      "  \"__main__\", mod_spec)\n",
      "/usr/lib/python3.7/runpy.py:193: UserWarning: [W008] Evaluating Doc.similarity based on empty vectors.\n",
      "  \"__main__\", mod_spec)\n"
     ]
    },
    {
     "name": "stdout",
     "output_type": "stream",
     "text": [
      "Actual: Alabama Controls, Inc Predicted: \n",
      "Similarity of Predicted vs. Actual: 0.0\n",
      "Actual: Vostok project Predicted: Vostok\n",
      "Similarity of Predicted vs. Actual: 0.7891981483794227\n",
      "Actual:  Mawi Learning Predicted: Mawi Learning\n",
      "Similarity of Predicted vs. Actual: 0.9999999798052892\n",
      "Actual:  Eldorado Resorts, Inc Predicted: Eldorado Resorts, Inc. (org3: org4)\n",
      "Similarity of Predicted vs. Actual: 0.7323151195631766\n",
      "Actual: DrillTech Directional Services, Pinnacle Development, BAS Rentals, and A to Z Cable Construction Predicted: four Colorado-based utility service companies\n",
      "Similarity of Predicted vs. Actual: 0.7380559140390657\n",
      "Actual: Kensington International, Inc Predicted: Kensington International, Inc.\n",
      "Similarity of Predicted vs. Actual: 0.9572619682228558\n",
      "Actual: EMD Group Holding II, Inc Predicted: all outstanding shares of common stock of Intermolecular\n",
      "Similarity of Predicted vs. Actual: 0.46470363964656086\n",
      "Actual: ERP Compliant Coke LLC Predicted: ERP Compliant Coke LLC plant\n",
      "Similarity of Predicted vs. Actual: 0.9348173222122234\n"
     ]
    },
    {
     "name": "stderr",
     "output_type": "stream",
     "text": [
      "/usr/lib/python3.7/runpy.py:193: UserWarning: [W008] Evaluating Doc.similarity based on empty vectors.\n",
      "  \"__main__\", mod_spec)\n",
      "/usr/lib/python3.7/runpy.py:193: UserWarning: [W008] Evaluating Doc.similarity based on empty vectors.\n",
      "  \"__main__\", mod_spec)\n"
     ]
    },
    {
     "name": "stdout",
     "output_type": "stream",
     "text": [
      "Actual: Visionworks Predicted: San Antonio, Texas-based Visionworks\n",
      "Similarity of Predicted vs. Actual: 0.0\n",
      "Actual: Print Speak Predicted: U.S. Business Holdings, Inc\n",
      "Similarity of Predicted vs. Actual: 0.3503445511898689\n",
      "Actual: Bombshell Technologies Predicted: Bombshell Technologies\n",
      "Similarity of Predicted vs. Actual: 1.0\n",
      "Actual: LaSalle Capital Predicted: LaSalle Capital has sold Brown &amp\n",
      "Similarity of Predicted vs. Actual: 0.5577036675641468\n",
      "Actual: Golden Arrow Resources Corporation Predicted: Golden Arrow Resources Corporation\n",
      "Similarity of Predicted vs. Actual: 1.0\n",
      "Actual: Pricing Assistant Predicted: eMerchandising Solution Pricing Assistant\n",
      "Similarity of Predicted vs. Actual: 0.8845627223752103\n"
     ]
    },
    {
     "name": "stderr",
     "output_type": "stream",
     "text": [
      "/usr/lib/python3.7/runpy.py:193: UserWarning: [W008] Evaluating Doc.similarity based on empty vectors.\n",
      "  \"__main__\", mod_spec)\n",
      "/usr/lib/python3.7/runpy.py:193: UserWarning: [W008] Evaluating Doc.similarity based on empty vectors.\n",
      "  \"__main__\", mod_spec)\n"
     ]
    },
    {
     "name": "stdout",
     "output_type": "stream",
     "text": [
      "Actual: N/A (not M&A) Predicted: \n",
      "Similarity of Predicted vs. Actual: 0.0\n",
      "Actual: Alliance Data Systems Corporation Predicted: its Epsilon business\n",
      "Similarity of Predicted vs. Actual: 0.5767000322588913\n"
     ]
    },
    {
     "name": "stderr",
     "output_type": "stream",
     "text": [
      "/usr/lib/python3.7/runpy.py:193: UserWarning: [W008] Evaluating Doc.similarity based on empty vectors.\n",
      "  \"__main__\", mod_spec)\n",
      "/usr/lib/python3.7/runpy.py:193: UserWarning: [W008] Evaluating Doc.similarity based on empty vectors.\n",
      "  \"__main__\", mod_spec)\n"
     ]
    },
    {
     "name": "stdout",
     "output_type": "stream",
     "text": [
      "Actual: N/A (not M&A) Predicted: \n",
      "Similarity of Predicted vs. Actual: 0.0\n",
      "Actual: CBM BioPharma, Inc Predicted: CBM BioPharma, Inc.\n",
      "Similarity of Predicted vs. Actual: 0.9186125720535502\n",
      "Actual: Keystone Laboratories, Inc Predicted: Keystone Laboratories, Inc.\n",
      "\n",
      "Similarity of Predicted vs. Actual: 0.9527058637604524\n",
      "Actual: e+CancerCare Predicted: e+CancerCare\n",
      "Similarity of Predicted vs. Actual: 1.0\n",
      "Actual: Cold Chain Technologies Predicted: Aurora Capital Partners Acquires Cold Chain Technologies\n",
      "Similarity of Predicted vs. Actual: 0.8257837647375609\n",
      "Actual: N/A (not M&A) Predicted: 300,000 shares\n",
      "Similarity of Predicted vs. Actual: 0.2036947281296831\n"
     ]
    },
    {
     "name": "stderr",
     "output_type": "stream",
     "text": [
      "/usr/lib/python3.7/runpy.py:193: UserWarning: [W008] Evaluating Doc.similarity based on empty vectors.\n",
      "  \"__main__\", mod_spec)\n",
      "/usr/lib/python3.7/runpy.py:193: UserWarning: [W008] Evaluating Doc.similarity based on empty vectors.\n",
      "  \"__main__\", mod_spec)\n"
     ]
    },
    {
     "name": "stdout",
     "output_type": "stream",
     "text": [
      "Actual: Destiny Biosciences Global Corp Predicted: \n",
      "Similarity of Predicted vs. Actual: 0.0\n",
      "Actual: Cosaint Insurance Partners, LLC  Predicted: org4, org5org6\n",
      "Similarity of Predicted vs. Actual: 0.48549518093660454\n",
      "Actual: ChefSteps Predicted: ChefSteps\n",
      "Similarity of Predicted vs. Actual: 1.0\n"
     ]
    },
    {
     "name": "stderr",
     "output_type": "stream",
     "text": [
      "/usr/lib/python3.7/runpy.py:193: UserWarning: [W008] Evaluating Doc.similarity based on empty vectors.\n",
      "  \"__main__\", mod_spec)\n",
      "/usr/lib/python3.7/runpy.py:193: UserWarning: [W008] Evaluating Doc.similarity based on empty vectors.\n",
      "  \"__main__\", mod_spec)\n"
     ]
    },
    {
     "name": "stdout",
     "output_type": "stream",
     "text": [
      "Actual: Swallowfield Predicted: the Manufacturing business\n",
      "Similarity of Predicted vs. Actual: 0.0\n",
      "Actual: Geraldiscos Predicted: Geraldiscos\n",
      "Similarity of Predicted vs. Actual: 1.0\n",
      "Actual: N/A (not M&A) Predicted: U.S. Dollar-Denominated Global Bonds and Euro-Denominated Global Bonds\n",
      "Similarity of Predicted vs. Actual: 0.3253311145205741\n",
      "Actual: Lattice Engines Predicted: Lattice Engines\n",
      "Similarity of Predicted vs. Actual: 1.0\n",
      "Actual: Global Telecom Holding S.A.E Predicted: 1,997,639,608 shares of Global Telecom Holding S.A.E (\"org9\")\n",
      "Similarity of Predicted vs. Actual: 0.7296290534363553\n"
     ]
    },
    {
     "name": "stderr",
     "output_type": "stream",
     "text": [
      "/usr/lib/python3.7/runpy.py:193: UserWarning: [W008] Evaluating Doc.similarity based on empty vectors.\n",
      "  \"__main__\", mod_spec)\n",
      "/usr/lib/python3.7/runpy.py:193: UserWarning: [W008] Evaluating Doc.similarity based on empty vectors.\n",
      "  \"__main__\", mod_spec)\n"
     ]
    },
    {
     "name": "stdout",
     "output_type": "stream",
     "text": [
      "Actual: Bluetree Predicted: Bluetree Epic Consulting\n",
      "Similarity of Predicted vs. Actual: 0.0\n"
     ]
    },
    {
     "name": "stderr",
     "output_type": "stream",
     "text": [
      "/usr/lib/python3.7/runpy.py:193: UserWarning: [W008] Evaluating Doc.similarity based on empty vectors.\n",
      "  \"__main__\", mod_spec)\n",
      "/usr/lib/python3.7/runpy.py:193: UserWarning: [W008] Evaluating Doc.similarity based on empty vectors.\n",
      "  \"__main__\", mod_spec)\n"
     ]
    },
    {
     "name": "stdout",
     "output_type": "stream",
     "text": [
      "Actual: Three Dots Predicted: \n",
      "Similarity of Predicted vs. Actual: 0.0\n",
      "Actual: Deutsche Beteiligungs AG and Infiana Group GmbH Predicted: Infiana's management\n",
      "Similarity of Predicted vs. Actual: 0.35815949737425457\n"
     ]
    },
    {
     "name": "stderr",
     "output_type": "stream",
     "text": [
      "/usr/lib/python3.7/runpy.py:193: UserWarning: [W008] Evaluating Doc.similarity based on empty vectors.\n",
      "  \"__main__\", mod_spec)\n",
      "/usr/lib/python3.7/runpy.py:193: UserWarning: [W008] Evaluating Doc.similarity based on empty vectors.\n",
      "  \"__main__\", mod_spec)\n"
     ]
    },
    {
     "name": "stdout",
     "output_type": "stream",
     "text": [
      "Actual: BiomX Ltd Predicted: \n",
      "Similarity of Predicted vs. Actual: 0.0\n",
      "Actual: Redx Pharma Predicted: Redx Pharma's (org6) pan-RAF inhibitor program\n",
      "Similarity of Predicted vs. Actual: 0.41039398361023005\n",
      "Actual: Blue Harbour Group Predicted: org6's agreement to be acquired by TDR Capital\n",
      "Similarity of Predicted vs. Actual: 0.4391946690013325\n",
      "Actual: EnterpriseDB Predicted: EnterpriseDB\n",
      "Similarity of Predicted vs. Actual: 1.0\n"
     ]
    },
    {
     "name": "stderr",
     "output_type": "stream",
     "text": [
      "/usr/lib/python3.7/runpy.py:193: UserWarning: [W008] Evaluating Doc.similarity based on empty vectors.\n",
      "  \"__main__\", mod_spec)\n",
      "/usr/lib/python3.7/runpy.py:193: UserWarning: [W008] Evaluating Doc.similarity based on empty vectors.\n",
      "  \"__main__\", mod_spec)\n"
     ]
    },
    {
     "name": "stdout",
     "output_type": "stream",
     "text": [
      "Actual: Archcon Design Build Predicted: \n",
      "Similarity of Predicted vs. Actual: 0.0\n",
      "Actual: Southern Harvest Insurance Predicted: Southern Harvest Insurance\n",
      "Similarity of Predicted vs. Actual: 1.0\n",
      "\n",
      "Total correct: 86 out of 176 ... 48.86%\n"
     ]
    }
   ],
   "source": [
    "train = df[~df['true_seller'].isnull()]\n",
    "\n",
    "correct_count = 0\n",
    "for index, row in train.iterrows():\n",
    "  actual_seller = row['true_seller']\n",
    "  doc1 = nlp(actual_seller)\n",
    "\n",
    "  # questions = ['Who was bought?', 'Who was acquired?', 'Who was sold?']\n",
    "  result = stripped_question(row['text'], 'Who was bought?')\n",
    "  predicted_company = result\n",
    "\n",
    "  similarity = doc1.similarity(nlp(predicted_company))\n",
    "  if similarity > 0.7:\n",
    "    correct_count += 1\n",
    "\n",
    "  print(f'Actual: {actual_seller} Predicted: {predicted_company}')\n",
    "  print(f'Similarity of Predicted vs. Actual: {doc1.similarity(nlp(predicted_company))}')\n",
    "\n",
    "print('')\n",
    "print(f'Total correct: {correct_count} out of {len(train)} ... {round((correct_count / len(train)) * 100, 2)}%')"
   ]
  },
  {
   "cell_type": "markdown",
   "metadata": {
    "id": "bX4vPdj4jqA7"
   },
   "source": [
    "## Ground-truth testing of base prediction (no stripping/replacing of words)\n",
    "- *Who was the seller?*\n",
    "- Total correct: 98 out of 176 ... 55.68%"
   ]
  },
  {
   "cell_type": "code",
   "execution_count": 57,
   "metadata": {
    "colab": {
     "base_uri": "https://localhost:8080/"
    },
    "executionInfo": {
     "elapsed": 364840,
     "status": "ok",
     "timestamp": 1618238826595,
     "user": {
      "displayName": "Jason F Petri",
      "photoUrl": "",
      "userId": "10231400164364138187"
     },
     "user_tz": 240
    },
    "id": "wmBReMGwhlMZ",
    "outputId": "6796c296-200d-4626-83de-5d3950e1a8bc"
   },
   "outputs": [
    {
     "name": "stdout",
     "output_type": "stream",
     "text": [
      "Actual: Rifiniti Predicted: Rifiniti\n",
      "Similarity of Predicted vs. Actual: 1.0\n",
      "Actual: Magnate Worldwide Predicted: Brad Kelley\n",
      "Similarity of Predicted vs. Actual: 0.007825508148802864\n",
      "Actual: Southfield Capital Predicted: HigherGround Managed Services\n",
      "Similarity of Predicted vs. Actual: 0.24360557265550653\n",
      "Actual: Great Wave Tech Predicted: Great Wave Tech\n",
      "Similarity of Predicted vs. Actual: 1.0\n",
      "Actual:  BWise Manufacturing Predicted: BWise Manufacturing\n",
      "Similarity of Predicted vs. Actual: 0.999999965955948\n",
      "Actual: Cox Media Group Predicted: Cox Media Group's broadcast television group\n",
      "Similarity of Predicted vs. Actual: 0.8741246037607355\n",
      "Actual: O'Keefe Elevator Predicted: O'Keefe Elevator Company\n",
      "Similarity of Predicted vs. Actual: 0.8448396298089168\n",
      "Actual: G3 Comms Predicted: G3\n",
      "Similarity of Predicted vs. Actual: 0.7939693455881965\n"
     ]
    },
    {
     "name": "stderr",
     "output_type": "stream",
     "text": [
      "/usr/lib/python3.7/runpy.py:193: UserWarning: [W008] Evaluating Doc.similarity based on empty vectors.\n",
      "  \"__main__\", mod_spec)\n",
      "/usr/lib/python3.7/runpy.py:193: UserWarning: [W008] Evaluating Doc.similarity based on empty vectors.\n",
      "  \"__main__\", mod_spec)\n"
     ]
    },
    {
     "name": "stdout",
     "output_type": "stream",
     "text": [
      "Actual: Covia Predicted: the Calera, Alabama lime business of Covia (NYSE: CVIA)\n",
      "Similarity of Predicted vs. Actual: 0.0\n",
      "Actual: Geezeo Predicted: Geezeo\n",
      "Similarity of Predicted vs. Actual: 1.0\n",
      "Actual: Blue Harbour Group Predicted: GWR's agreement to be acquired by Brookfield Asset Management and GIC\n",
      "Similarity of Predicted vs. Actual: 0.4339169277693587\n",
      "Actual: Pure Multi-Family Predicted: Pure Multi-Family\n",
      "Similarity of Predicted vs. Actual: 1.0\n",
      "Actual: Knight Point Systems Predicted: Knight Point Systems\n",
      "Similarity of Predicted vs. Actual: 1.0\n"
     ]
    },
    {
     "name": "stderr",
     "output_type": "stream",
     "text": [
      "/usr/lib/python3.7/runpy.py:193: UserWarning: [W008] Evaluating Doc.similarity based on empty vectors.\n",
      "  \"__main__\", mod_spec)\n",
      "/usr/lib/python3.7/runpy.py:193: UserWarning: [W008] Evaluating Doc.similarity based on empty vectors.\n",
      "  \"__main__\", mod_spec)\n"
     ]
    },
    {
     "name": "stdout",
     "output_type": "stream",
     "text": [
      "Actual:  Gilliam Insurance Agency Predicted: \n",
      "Similarity of Predicted vs. Actual: 0.0\n",
      "Actual: Twistlock Predicted: Twistlock\n",
      "Similarity of Predicted vs. Actual: 1.0\n",
      "Actual: The Referral Depot Predicted: The Referral Depot (TRD)\n",
      "Similarity of Predicted vs. Actual: 0.712766509474174\n",
      "Actual: Bloom Energy Corporation Predicted: Bloom Energy Corporation (NYSE: BE)\n",
      "Similarity of Predicted vs. Actual: 0.7580520335484621\n",
      "Actual: Global Transport Logistics, Am Trans Expedite Predicted: Global Transport Logistics, Inc.\n",
      "Similarity of Predicted vs. Actual: 0.8686634080546859\n",
      "Actual: ALKOS Group Predicted: ALKOS Group\n",
      "Similarity of Predicted vs. Actual: 1.0\n",
      "Actual: Crius Energy Trust Predicted: Crius Energy Trust\n",
      "Similarity of Predicted vs. Actual: 1.0\n",
      "Actual: MPL Holdings Predicted: MPL Holdings, LLC\n",
      "Similarity of Predicted vs. Actual: 0.8266112524301127\n",
      "Actual: SGS Predicted: Petroleum Service Corporation\n",
      "Similarity of Predicted vs. Actual: 0.05521522075343481\n",
      "Actual: Aerohive Networks Predicted: all outstanding shares of common stock of Aerohive Networks, Inc.\n",
      "Similarity of Predicted vs. Actual: 0.5020058534763636\n",
      "Actual: Intimates Online Predicted: Intimates Online, Inc.\n",
      "Similarity of Predicted vs. Actual: 0.8253176095948186\n",
      "Actual: Connect Media Predicted: Australia's General Counsel Summit\n",
      "Similarity of Predicted vs. Actual: 0.4007866544923215\n",
      "Actual: Bombshell Technologies Predicted: Bombshell Technologies\n",
      "Similarity of Predicted vs. Actual: 1.0\n",
      "Actual: GBST Holdings Limited Predicted: GBST Holdings Limited\n",
      "Similarity of Predicted vs. Actual: 1.0\n",
      "Actual: Pfingsten Partners Predicted: ZSi Foster\n",
      "Similarity of Predicted vs. Actual: 0.44818275502102817\n"
     ]
    },
    {
     "name": "stderr",
     "output_type": "stream",
     "text": [
      "/usr/lib/python3.7/runpy.py:193: UserWarning: [W008] Evaluating Doc.similarity based on empty vectors.\n",
      "  \"__main__\", mod_spec)\n",
      "/usr/lib/python3.7/runpy.py:193: UserWarning: [W008] Evaluating Doc.similarity based on empty vectors.\n",
      "  \"__main__\", mod_spec)\n"
     ]
    },
    {
     "name": "stdout",
     "output_type": "stream",
     "text": [
      "Actual: OpenConnect Predicted: OpenConnect Inc\n",
      "Similarity of Predicted vs. Actual: 0.0\n"
     ]
    },
    {
     "name": "stderr",
     "output_type": "stream",
     "text": [
      "/usr/lib/python3.7/runpy.py:193: UserWarning: [W008] Evaluating Doc.similarity based on empty vectors.\n",
      "  \"__main__\", mod_spec)\n",
      "/usr/lib/python3.7/runpy.py:193: UserWarning: [W008] Evaluating Doc.similarity based on empty vectors.\n",
      "  \"__main__\", mod_spec)\n"
     ]
    },
    {
     "name": "stdout",
     "output_type": "stream",
     "text": [
      "Actual: Twin River Worldwide Holdings Predicted: \n",
      "Similarity of Predicted vs. Actual: 0.0\n"
     ]
    },
    {
     "name": "stderr",
     "output_type": "stream",
     "text": [
      "/usr/lib/python3.7/runpy.py:193: UserWarning: [W008] Evaluating Doc.similarity based on empty vectors.\n",
      "  \"__main__\", mod_spec)\n",
      "/usr/lib/python3.7/runpy.py:193: UserWarning: [W008] Evaluating Doc.similarity based on empty vectors.\n",
      "  \"__main__\", mod_spec)\n"
     ]
    },
    {
     "name": "stdout",
     "output_type": "stream",
     "text": [
      "Actual: KeaLeaf Life Sciences Predicted: \n",
      "Similarity of Predicted vs. Actual: 0.0\n",
      "Actual: Thrive Autism Solutions Predicted: St. Louis, MO based Thrive Autism Solutions (Thrive)\n",
      "Similarity of Predicted vs. Actual: 0.7521846029347627\n",
      "Actual: The Hain Celestial Group Predicted: Hain Pure Protein\n",
      "Similarity of Predicted vs. Actual: 0.5144783964573086\n",
      "Actual: Shan Shan Outlets Predicted: Shan Shan Outlets\n",
      "Similarity of Predicted vs. Actual: 1.0\n",
      "Actual: Alpine Group Predicted: Evergreen Industries Ltd.\n",
      "Similarity of Predicted vs. Actual: 0.3334908492396991\n",
      "Actual: Industrial Property Trust Inc. Predicted: Industrial Property Trust Inc. (IPT)\n",
      "Similarity of Predicted vs. Actual: 0.8281181546519402\n"
     ]
    },
    {
     "name": "stderr",
     "output_type": "stream",
     "text": [
      "/usr/lib/python3.7/runpy.py:193: UserWarning: [W008] Evaluating Doc.similarity based on empty vectors.\n",
      "  \"__main__\", mod_spec)\n",
      "/usr/lib/python3.7/runpy.py:193: UserWarning: [W008] Evaluating Doc.similarity based on empty vectors.\n",
      "  \"__main__\", mod_spec)\n"
     ]
    },
    {
     "name": "stdout",
     "output_type": "stream",
     "text": [
      "Actual: Entuity Predicted: Software Provider Entuity\n",
      "Similarity of Predicted vs. Actual: 0.0\n",
      "Actual: RHA Health Services, LLC Predicted: the parent company of RHA Health Services, LLC\n",
      "Similarity of Predicted vs. Actual: 0.8652620406281429\n",
      "Actual: Magic Steel Sales Predicted: SteelSummit Holdings Expands Footprint with Strategic Acquisition of Magic Steel Sales\n",
      "Similarity of Predicted vs. Actual: 0.7645350006048828\n",
      "Actual: Acuon Capital Predicted: Acuon Capital\n",
      "Similarity of Predicted vs. Actual: 1.0\n",
      "Actual: Keystone Biologicals, Inc Predicted: Keystone Biologicals, Inc.\n",
      "Similarity of Predicted vs. Actual: 0.9479117082714189\n",
      "Actual: The Crichton Group Predicted: Crichton, Brandon, Jackson & Ward, Inc.\n",
      "Similarity of Predicted vs. Actual: 0.3499436196808631\n",
      "Actual: Diginex Limited Predicted: Diginex Limited\n",
      "Similarity of Predicted vs. Actual: 1.0\n",
      "Actual: Confirmation Predicted: Confirmation\n",
      "Similarity of Predicted vs. Actual: 1.0\n"
     ]
    },
    {
     "name": "stderr",
     "output_type": "stream",
     "text": [
      "/usr/lib/python3.7/runpy.py:193: UserWarning: [W008] Evaluating Doc.similarity based on empty vectors.\n",
      "  \"__main__\", mod_spec)\n",
      "/usr/lib/python3.7/runpy.py:193: UserWarning: [W008] Evaluating Doc.similarity based on empty vectors.\n",
      "  \"__main__\", mod_spec)\n"
     ]
    },
    {
     "name": "stdout",
     "output_type": "stream",
     "text": [
      "Actual: American Mortgage Consultants Predicted: \n",
      "Similarity of Predicted vs. Actual: 0.0\n",
      "Actual: Singular Bio, Inc Predicted: Singular Bio, Inc\n",
      "Similarity of Predicted vs. Actual: 1.0\n"
     ]
    },
    {
     "name": "stderr",
     "output_type": "stream",
     "text": [
      "/usr/lib/python3.7/runpy.py:193: UserWarning: [W008] Evaluating Doc.similarity based on empty vectors.\n",
      "  \"__main__\", mod_spec)\n",
      "/usr/lib/python3.7/runpy.py:193: UserWarning: [W008] Evaluating Doc.similarity based on empty vectors.\n",
      "  \"__main__\", mod_spec)\n"
     ]
    },
    {
     "name": "stdout",
     "output_type": "stream",
     "text": [
      "Actual: BB&T Predicted: SunTrust and BB&T Corporation\n",
      "Similarity of Predicted vs. Actual: 0.0\n",
      "Actual: Shopkick Predicted: Shopkick\n",
      "Similarity of Predicted vs. Actual: 1.0\n",
      "Actual: Tectoweld Predicted: Tectoweld\n",
      "Similarity of Predicted vs. Actual: 1.0\n",
      "Actual: Terra Technologies, LLC Predicted: Terra Technologies\n",
      "Similarity of Predicted vs. Actual: 0.8515001631908818\n",
      "Actual: Rayonier Advanced Materials Predicted: the 270,000 tpa Matane high yield hardwood pulp mill\n",
      "Similarity of Predicted vs. Actual: 0.44788220989966776\n",
      "Actual: Competentum Predicted: Competentum\n",
      "Similarity of Predicted vs. Actual: 1.0\n",
      "Actual: Sierra Income Corporation, Medley Capital Corporation, Medley Management Inc Predicted: MDLY and its existing asset management business\n",
      "Similarity of Predicted vs. Actual: 0.6771998625801954\n",
      "Actual: Zoosk, Inc Predicted: Zoosk, Inc.\n",
      "Similarity of Predicted vs. Actual: 0.9329425708892553\n",
      "Actual: L Catterton Predicted: Cracker Barrel\n",
      "Similarity of Predicted vs. Actual: 0.05432995369280777\n"
     ]
    },
    {
     "name": "stderr",
     "output_type": "stream",
     "text": [
      "/usr/lib/python3.7/runpy.py:193: UserWarning: [W008] Evaluating Doc.similarity based on empty vectors.\n",
      "  \"__main__\", mod_spec)\n",
      "/usr/lib/python3.7/runpy.py:193: UserWarning: [W008] Evaluating Doc.similarity based on empty vectors.\n",
      "  \"__main__\", mod_spec)\n"
     ]
    },
    {
     "name": "stdout",
     "output_type": "stream",
     "text": [
      "Actual: Llantrisant Predicted: Llantrisant, Wales-based Adjusting Associates LLP\n",
      "Similarity of Predicted vs. Actual: 0.0\n",
      "Actual: Advantor Systems Corporation Predicted: Advantor Systems Corporation\n",
      "Similarity of Predicted vs. Actual: 1.0\n"
     ]
    },
    {
     "name": "stderr",
     "output_type": "stream",
     "text": [
      "/usr/lib/python3.7/runpy.py:193: UserWarning: [W008] Evaluating Doc.similarity based on empty vectors.\n",
      "  \"__main__\", mod_spec)\n",
      "/usr/lib/python3.7/runpy.py:193: UserWarning: [W008] Evaluating Doc.similarity based on empty vectors.\n",
      "  \"__main__\", mod_spec)\n"
     ]
    },
    {
     "name": "stdout",
     "output_type": "stream",
     "text": [
      "Actual: Perrigo Predicted: PetIQ\n",
      "Similarity of Predicted vs. Actual: 0.0\n",
      "Actual: SevaMed Institute Predicted: SevaMed Institute\n",
      "Similarity of Predicted vs. Actual: 1.0\n",
      "Actual: $475 million Predicted: Senior Secured Second Lien Notes\n",
      "Similarity of Predicted vs. Actual: 0.2876542823132523\n"
     ]
    },
    {
     "name": "stderr",
     "output_type": "stream",
     "text": [
      "/usr/lib/python3.7/runpy.py:193: UserWarning: [W008] Evaluating Doc.similarity based on empty vectors.\n",
      "  \"__main__\", mod_spec)\n",
      "/usr/lib/python3.7/runpy.py:193: UserWarning: [W008] Evaluating Doc.similarity based on empty vectors.\n",
      "  \"__main__\", mod_spec)\n"
     ]
    },
    {
     "name": "stdout",
     "output_type": "stream",
     "text": [
      "Actual: The Solaris Group, LLC Predicted: \n",
      "Similarity of Predicted vs. Actual: 0.0\n",
      "Actual: Kellogg Predicted: Keebler Cookies and Related Businesses to Ferrero\n",
      "Similarity of Predicted vs. Actual: 0.2036417010886733\n"
     ]
    },
    {
     "name": "stderr",
     "output_type": "stream",
     "text": [
      "/usr/lib/python3.7/runpy.py:193: UserWarning: [W008] Evaluating Doc.similarity based on empty vectors.\n",
      "  \"__main__\", mod_spec)\n",
      "/usr/lib/python3.7/runpy.py:193: UserWarning: [W008] Evaluating Doc.similarity based on empty vectors.\n",
      "  \"__main__\", mod_spec)\n"
     ]
    },
    {
     "name": "stdout",
     "output_type": "stream",
     "text": [
      "Actual: Illinois Gastroenterology Group Predicted: \n",
      "Similarity of Predicted vs. Actual: 0.0\n",
      "Actual: Prism Predicted: Prism\n",
      "Similarity of Predicted vs. Actual: 1.0\n"
     ]
    },
    {
     "name": "stderr",
     "output_type": "stream",
     "text": [
      "/usr/lib/python3.7/runpy.py:193: UserWarning: [W008] Evaluating Doc.similarity based on empty vectors.\n",
      "  \"__main__\", mod_spec)\n",
      "/usr/lib/python3.7/runpy.py:193: UserWarning: [W008] Evaluating Doc.similarity based on empty vectors.\n",
      "  \"__main__\", mod_spec)\n"
     ]
    },
    {
     "name": "stdout",
     "output_type": "stream",
     "text": [
      "Actual: WellFence Predicted: WellFence LLC (WellFence)\n",
      "Similarity of Predicted vs. Actual: 0.0\n",
      "Actual: Acreage Predicted: Acreage &amp\n",
      "Similarity of Predicted vs. Actual: 0.5776423457647216\n",
      "Actual: NA Engineering Associates Predicted: NA Engineering Associates\n",
      "Similarity of Predicted vs. Actual: 1.0\n",
      "Actual: Choice Bancorp Predicted: Choice and its wholly-owned banking subsidiary, Choice Bank (\"Choice Bank\")\n",
      "Similarity of Predicted vs. Actual: 0.30596092000674086\n"
     ]
    },
    {
     "name": "stderr",
     "output_type": "stream",
     "text": [
      "/usr/lib/python3.7/runpy.py:193: UserWarning: [W008] Evaluating Doc.similarity based on empty vectors.\n",
      "  \"__main__\", mod_spec)\n",
      "/usr/lib/python3.7/runpy.py:193: UserWarning: [W008] Evaluating Doc.similarity based on empty vectors.\n",
      "  \"__main__\", mod_spec)\n"
     ]
    },
    {
     "name": "stdout",
     "output_type": "stream",
     "text": [
      "Actual: Nabobil Predicted: Norwegian Platform Nabobil\n",
      "Similarity of Predicted vs. Actual: 0.0\n",
      "Actual: Schlicher-Kratz Institute Predicted: Schlicher-Kratz Institute\n",
      "Similarity of Predicted vs. Actual: 1.0\n",
      "Actual: Bain Capital Predicted: a majority equity stake in Waystar\n",
      "Similarity of Predicted vs. Actual: 0.4037177516311974\n"
     ]
    },
    {
     "name": "stderr",
     "output_type": "stream",
     "text": [
      "/usr/lib/python3.7/runpy.py:193: UserWarning: [W008] Evaluating Doc.similarity based on empty vectors.\n",
      "  \"__main__\", mod_spec)\n",
      "/usr/lib/python3.7/runpy.py:193: UserWarning: [W008] Evaluating Doc.similarity based on empty vectors.\n",
      "  \"__main__\", mod_spec)\n"
     ]
    },
    {
     "name": "stdout",
     "output_type": "stream",
     "text": [
      "Actual: Accrofab Predicted: Accrofab Limited (\"Accrofab\")\n",
      "Similarity of Predicted vs. Actual: 0.0\n",
      "Actual: Arena BogotÃ¡ Predicted: Arena\n",
      "Similarity of Predicted vs. Actual: 0.6848480194624706\n",
      "Actual: Blue Water Plastic Transport Predicted: Blue Water Plastic Transport\n",
      "Similarity of Predicted vs. Actual: 1.0\n",
      "Actual: Texas Coin and Commercial Laundry Predicted: Mike and Kellie Blumberg\n",
      "Similarity of Predicted vs. Actual: 0.26442501855222306\n",
      "Actual: BC Partners Predicted: Blackstone\n",
      "Similarity of Predicted vs. Actual: 0.17695102276985178\n",
      "Actual: HBC Predicted: up to 14,836,795 common shares of HBC\n",
      "Similarity of Predicted vs. Actual: 0.13401386083393038\n",
      "Actual: BioHemp Naturals Predicted: BioHemp Naturals\n",
      "Similarity of Predicted vs. Actual: 1.0\n",
      "Actual: RapidILL Predicted: RapidILL\n",
      "Similarity of Predicted vs. Actual: 1.0\n",
      "Actual: Texas Beauty Labs Predicted: Texas Beauty Labs\n",
      "Similarity of Predicted vs. Actual: 1.0\n",
      "Actual: Wintech Testing and Certification Predicted: Wintech Testing and Certification\n",
      "Similarity of Predicted vs. Actual: 1.0\n",
      "Actual: Assured Software Predicted: Assured Software and Pluribus Technologies Inc\n",
      "Similarity of Predicted vs. Actual: 0.7536804361420504\n",
      "Actual: Gateway Bobcat Predicted: Gateway Bobcat, LLC\n",
      "Similarity of Predicted vs. Actual: 0.8334820753068488\n",
      "Actual: Senior Insurance Brokers Predicted: Senior Insurance Brokers\n",
      "Similarity of Predicted vs. Actual: 1.0\n",
      "Actual: AxleTech Predicted: AxleTech\n",
      "Similarity of Predicted vs. Actual: 1.0\n",
      "Actual: Advisor Group Predicted: Advisor Group\n",
      "Similarity of Predicted vs. Actual: 1.0\n",
      "Actual: Mr. Delivery Predicted: Mr. Delivery\n",
      "Similarity of Predicted vs. Actual: 1.0\n",
      "Actual: Physicians Financial Advisors Predicted: Physicians Financial Advisors, Inc. (PFA)\n",
      "Similarity of Predicted vs. Actual: 0.7486697123141721\n"
     ]
    },
    {
     "name": "stderr",
     "output_type": "stream",
     "text": [
      "/usr/lib/python3.7/runpy.py:193: UserWarning: [W008] Evaluating Doc.similarity based on empty vectors.\n",
      "  \"__main__\", mod_spec)\n",
      "/usr/lib/python3.7/runpy.py:193: UserWarning: [W008] Evaluating Doc.similarity based on empty vectors.\n",
      "  \"__main__\", mod_spec)\n"
     ]
    },
    {
     "name": "stdout",
     "output_type": "stream",
     "text": [
      "Actual: Achaogen Predicted: Achaogen Inc. (\"Achaogen\")\n",
      "Similarity of Predicted vs. Actual: 0.0\n",
      "Actual: QxBranch Predicted: QxBranch\n",
      "Similarity of Predicted vs. Actual: 1.0\n",
      "Actual: The Hydroseeding Company LLC dba Epic Manufacturing Predicted: The Hydroseeding Company LLC dba Epic Manufacturing\n",
      "Similarity of Predicted vs. Actual: 1.0\n",
      "Actual: Lake Point Business Center Predicted: Lake Point Business Center\n",
      "Similarity of Predicted vs. Actual: 1.0\n",
      "Actual: Freije-RSC Predicted: Freije-RSC\n",
      "Similarity of Predicted vs. Actual: 1.0\n"
     ]
    },
    {
     "name": "stderr",
     "output_type": "stream",
     "text": [
      "/usr/lib/python3.7/runpy.py:193: UserWarning: [W008] Evaluating Doc.similarity based on empty vectors.\n",
      "  \"__main__\", mod_spec)\n",
      "/usr/lib/python3.7/runpy.py:193: UserWarning: [W008] Evaluating Doc.similarity based on empty vectors.\n",
      "  \"__main__\", mod_spec)\n"
     ]
    },
    {
     "name": "stdout",
     "output_type": "stream",
     "text": [
      "Actual: Paytime Predicted: Paydayta, Inc.\n",
      "Similarity of Predicted vs. Actual: 0.0\n",
      "Actual: Dunn's River  Predicted: Temple Turmeric, Inc. from Dunn's River Brands\n",
      "Similarity of Predicted vs. Actual: 0.7111766671788257\n"
     ]
    },
    {
     "name": "stderr",
     "output_type": "stream",
     "text": [
      "/usr/lib/python3.7/runpy.py:193: UserWarning: [W008] Evaluating Doc.similarity based on empty vectors.\n",
      "  \"__main__\", mod_spec)\n",
      "/usr/lib/python3.7/runpy.py:193: UserWarning: [W008] Evaluating Doc.similarity based on empty vectors.\n",
      "  \"__main__\", mod_spec)\n"
     ]
    },
    {
     "name": "stdout",
     "output_type": "stream",
     "text": [
      "Actual: EverCommerce Predicted: Silver Lake\n",
      "Similarity of Predicted vs. Actual: 0.0\n",
      "Actual: Brunswick Predicted: Brunswick Corporation's Fitness business\n",
      "Similarity of Predicted vs. Actual: 0.478711582010383\n",
      "Actual: Ultima Health Products Predicted: Ultima Health Products, Inc.\n",
      "Similarity of Predicted vs. Actual: 0.9036899910505111\n",
      "Actual: Direct Machinery Corporation Predicted: Direct Machinery Corporation\n",
      "Similarity of Predicted vs. Actual: 1.0\n"
     ]
    },
    {
     "name": "stderr",
     "output_type": "stream",
     "text": [
      "/usr/lib/python3.7/runpy.py:193: UserWarning: [W008] Evaluating Doc.similarity based on empty vectors.\n",
      "  \"__main__\", mod_spec)\n",
      "/usr/lib/python3.7/runpy.py:193: UserWarning: [W008] Evaluating Doc.similarity based on empty vectors.\n",
      "  \"__main__\", mod_spec)\n"
     ]
    },
    {
     "name": "stdout",
     "output_type": "stream",
     "text": [
      "Actual: BB&T, Suntrust Predicted: \n",
      "Similarity of Predicted vs. Actual: 0.0\n",
      "Actual: Employment Technology Fund Predicted: the Employment Technology Fund (ETF)\n",
      "Similarity of Predicted vs. Actual: 0.846258466355582\n"
     ]
    },
    {
     "name": "stderr",
     "output_type": "stream",
     "text": [
      "/usr/lib/python3.7/runpy.py:193: UserWarning: [W008] Evaluating Doc.similarity based on empty vectors.\n",
      "  \"__main__\", mod_spec)\n",
      "/usr/lib/python3.7/runpy.py:193: UserWarning: [W008] Evaluating Doc.similarity based on empty vectors.\n",
      "  \"__main__\", mod_spec)\n"
     ]
    },
    {
     "name": "stdout",
     "output_type": "stream",
     "text": [
      "Actual: ZEFR Predicted: RightsID and ChannelID\n",
      "Similarity of Predicted vs. Actual: 0.0\n",
      "Actual: iKentoo Predicted: iKentoo\n",
      "Similarity of Predicted vs. Actual: 1.0\n",
      "Actual: Whirlpool Predicted: Embraco Business Unit\n",
      "Similarity of Predicted vs. Actual: 0.2113406170945315\n",
      "Actual: Clayton, Dubilier & Rice Predicted: Willis Towers Watson\n",
      "Similarity of Predicted vs. Actual: 0.3394645965734387\n"
     ]
    },
    {
     "name": "stderr",
     "output_type": "stream",
     "text": [
      "/usr/lib/python3.7/runpy.py:193: UserWarning: [W008] Evaluating Doc.similarity based on empty vectors.\n",
      "  \"__main__\", mod_spec)\n",
      "/usr/lib/python3.7/runpy.py:193: UserWarning: [W008] Evaluating Doc.similarity based on empty vectors.\n",
      "  \"__main__\", mod_spec)\n"
     ]
    },
    {
     "name": "stdout",
     "output_type": "stream",
     "text": [
      "Actual: Windward Software Predicted: \n",
      "Similarity of Predicted vs. Actual: 0.0\n",
      "Actual: Apache Supply, Inc. and Coastal Contractor Supply Predicted: Apache Supply, Inc. and Coastal Contractor Supply\n",
      "Similarity of Predicted vs. Actual: 1.0\n",
      "Actual: StaffRehab Predicted: StaffRehab\n",
      "Similarity of Predicted vs. Actual: 1.0\n",
      "Actual: TACVO, Inc. Predicted: TAVCO, Inc.\n",
      "Similarity of Predicted vs. Actual: 1.0000000073401127\n",
      "Actual: Prevalent, Inc. and Axcension, Inc. Predicted: Prevalent, Inc. and Axcension, Inc.\n",
      "Similarity of Predicted vs. Actual: 1.0\n"
     ]
    },
    {
     "name": "stderr",
     "output_type": "stream",
     "text": [
      "/usr/lib/python3.7/runpy.py:193: UserWarning: [W008] Evaluating Doc.similarity based on empty vectors.\n",
      "  \"__main__\", mod_spec)\n",
      "/usr/lib/python3.7/runpy.py:193: UserWarning: [W008] Evaluating Doc.similarity based on empty vectors.\n",
      "  \"__main__\", mod_spec)\n"
     ]
    },
    {
     "name": "stdout",
     "output_type": "stream",
     "text": [
      "Actual: Ranir Global Holdings LLC Predicted: Ranir\n",
      "Similarity of Predicted vs. Actual: 0.0\n"
     ]
    },
    {
     "name": "stderr",
     "output_type": "stream",
     "text": [
      "/usr/lib/python3.7/runpy.py:193: UserWarning: [W008] Evaluating Doc.similarity based on empty vectors.\n",
      "  \"__main__\", mod_spec)\n",
      "/usr/lib/python3.7/runpy.py:193: UserWarning: [W008] Evaluating Doc.similarity based on empty vectors.\n",
      "  \"__main__\", mod_spec)\n"
     ]
    },
    {
     "name": "stdout",
     "output_type": "stream",
     "text": [
      "Actual: Foster Pepper PLLC, Garvey Barer, PC Predicted: \n",
      "Similarity of Predicted vs. Actual: 0.0\n",
      "Actual: 3-Phase Electrical Ltd. Predicted: 3-Phase Electrical Ltd.\n",
      "Similarity of Predicted vs. Actual: 1.0\n",
      "Actual: Acquire Revolution Predicted: Revolution\n",
      "Similarity of Predicted vs. Actual: 0.7553075692687927\n"
     ]
    },
    {
     "name": "stderr",
     "output_type": "stream",
     "text": [
      "/usr/lib/python3.7/runpy.py:193: UserWarning: [W008] Evaluating Doc.similarity based on empty vectors.\n",
      "  \"__main__\", mod_spec)\n",
      "/usr/lib/python3.7/runpy.py:193: UserWarning: [W008] Evaluating Doc.similarity based on empty vectors.\n",
      "  \"__main__\", mod_spec)\n"
     ]
    },
    {
     "name": "stdout",
     "output_type": "stream",
     "text": [
      "Actual: BMW/MINI dealerships Predicted: \n",
      "Similarity of Predicted vs. Actual: 0.0\n",
      "Actual: Stanbury Uniforms Predicted: Stanbury Uniforms\n",
      "Similarity of Predicted vs. Actual: 1.0\n",
      "Actual: Crystal River Anesthesia Associates Predicted: Crystal River Anesthesia Associates, LLC\n",
      "Similarity of Predicted vs. Actual: 0.9335265432619123\n",
      "Actual: Sundin Mezs SIA Predicted: Sundin Mezs SIA\n",
      "Similarity of Predicted vs. Actual: 1.0\n",
      "Actual: Majure Data Predicted: Majure Data\n",
      "Similarity of Predicted vs. Actual: 1.0\n",
      "Actual: Shorenstein Properties LLC Predicted: Shorenstein Sells Rose Orchard Campus\n",
      "Similarity of Predicted vs. Actual: 0.34280070716113153\n",
      "Actual: Jungla Inc. Predicted: Jungla Inc.\n",
      "Similarity of Predicted vs. Actual: 1.0\n",
      "Actual: Carrefour China Predicted: Carrefour China\n",
      "Similarity of Predicted vs. Actual: 1.0\n"
     ]
    },
    {
     "name": "stderr",
     "output_type": "stream",
     "text": [
      "/usr/lib/python3.7/runpy.py:193: UserWarning: [W008] Evaluating Doc.similarity based on empty vectors.\n",
      "  \"__main__\", mod_spec)\n",
      "/usr/lib/python3.7/runpy.py:193: UserWarning: [W008] Evaluating Doc.similarity based on empty vectors.\n",
      "  \"__main__\", mod_spec)\n"
     ]
    },
    {
     "name": "stdout",
     "output_type": "stream",
     "text": [
      "Actual: Treasure Island - TI Hotel & Casino Predicted: \n",
      "Similarity of Predicted vs. Actual: 0.0\n",
      "Actual: Bulldog Solutions Predicted: Bulldog Solutions\n",
      "Similarity of Predicted vs. Actual: 1.0\n",
      "Actual: Amberly Adhesive Labels Ltd Predicted: Amberley Adhesive Labels Ltd\n",
      "Similarity of Predicted vs. Actual: 0.8177834844200905\n"
     ]
    },
    {
     "name": "stderr",
     "output_type": "stream",
     "text": [
      "/usr/lib/python3.7/runpy.py:193: UserWarning: [W008] Evaluating Doc.similarity based on empty vectors.\n",
      "  \"__main__\", mod_spec)\n",
      "/usr/lib/python3.7/runpy.py:193: UserWarning: [W008] Evaluating Doc.similarity based on empty vectors.\n",
      "  \"__main__\", mod_spec)\n"
     ]
    },
    {
     "name": "stdout",
     "output_type": "stream",
     "text": [
      "Actual: Situs Group Holdings Corp., American Mortgage Consultatnts, Inc. Predicted: \n",
      "Similarity of Predicted vs. Actual: 0.0\n",
      "Actual: FREO, Oaktree Capital Management Predicted: Spanish Offices Portfolio\n",
      "Similarity of Predicted vs. Actual: 0.4612464196751623\n"
     ]
    },
    {
     "name": "stderr",
     "output_type": "stream",
     "text": [
      "/usr/lib/python3.7/runpy.py:193: UserWarning: [W008] Evaluating Doc.similarity based on empty vectors.\n",
      "  \"__main__\", mod_spec)\n",
      "/usr/lib/python3.7/runpy.py:193: UserWarning: [W008] Evaluating Doc.similarity based on empty vectors.\n",
      "  \"__main__\", mod_spec)\n"
     ]
    },
    {
     "name": "stdout",
     "output_type": "stream",
     "text": [
      "Actual: Jervois Mining Limited, eCobalt Predicted: eCobalt\n",
      "Similarity of Predicted vs. Actual: 0.0\n",
      "Actual: SAVSU Technologies Predicted: privately held SAVSU Technologies\n",
      "Similarity of Predicted vs. Actual: 0.6924202317397483\n",
      "Actual: Berk Bilgen Insurance Ltd. Predicted: Berk Bilgen Insurance Ltd.\n",
      "Similarity of Predicted vs. Actual: 1.0\n"
     ]
    },
    {
     "name": "stderr",
     "output_type": "stream",
     "text": [
      "/usr/lib/python3.7/runpy.py:193: UserWarning: [W008] Evaluating Doc.similarity based on empty vectors.\n",
      "  \"__main__\", mod_spec)\n",
      "/usr/lib/python3.7/runpy.py:193: UserWarning: [W008] Evaluating Doc.similarity based on empty vectors.\n",
      "  \"__main__\", mod_spec)\n"
     ]
    },
    {
     "name": "stdout",
     "output_type": "stream",
     "text": [
      "Actual: 3Cinteractive Corp. Predicted: 3Cinteractive\n",
      "Similarity of Predicted vs. Actual: 0.0\n",
      "Actual: Confirmation Predicted: Confirmation\n",
      "Similarity of Predicted vs. Actual: 1.0\n"
     ]
    },
    {
     "name": "stderr",
     "output_type": "stream",
     "text": [
      "/usr/lib/python3.7/runpy.py:193: UserWarning: [W008] Evaluating Doc.similarity based on empty vectors.\n",
      "  \"__main__\", mod_spec)\n",
      "/usr/lib/python3.7/runpy.py:193: UserWarning: [W008] Evaluating Doc.similarity based on empty vectors.\n",
      "  \"__main__\", mod_spec)\n"
     ]
    },
    {
     "name": "stdout",
     "output_type": "stream",
     "text": [
      "Actual: Progentec Diagnostics, Inc., Karate Health, Inc. Predicted: \n",
      "Similarity of Predicted vs. Actual: 0.0\n"
     ]
    },
    {
     "name": "stderr",
     "output_type": "stream",
     "text": [
      "/usr/lib/python3.7/runpy.py:193: UserWarning: [W008] Evaluating Doc.similarity based on empty vectors.\n",
      "  \"__main__\", mod_spec)\n",
      "/usr/lib/python3.7/runpy.py:193: UserWarning: [W008] Evaluating Doc.similarity based on empty vectors.\n",
      "  \"__main__\", mod_spec)\n"
     ]
    },
    {
     "name": "stdout",
     "output_type": "stream",
     "text": [
      "Actual: Decernis LLC Predicted: Decernis\n",
      "Similarity of Predicted vs. Actual: 0.0\n"
     ]
    },
    {
     "name": "stderr",
     "output_type": "stream",
     "text": [
      "/usr/lib/python3.7/runpy.py:193: UserWarning: [W008] Evaluating Doc.similarity based on empty vectors.\n",
      "  \"__main__\", mod_spec)\n",
      "/usr/lib/python3.7/runpy.py:193: UserWarning: [W008] Evaluating Doc.similarity based on empty vectors.\n",
      "  \"__main__\", mod_spec)\n"
     ]
    },
    {
     "name": "stdout",
     "output_type": "stream",
     "text": [
      "Actual: Ineco Group Predicted: Inenco\n",
      "Similarity of Predicted vs. Actual: 0.0\n"
     ]
    },
    {
     "name": "stderr",
     "output_type": "stream",
     "text": [
      "/usr/lib/python3.7/runpy.py:193: UserWarning: [W008] Evaluating Doc.similarity based on empty vectors.\n",
      "  \"__main__\", mod_spec)\n",
      "/usr/lib/python3.7/runpy.py:193: UserWarning: [W008] Evaluating Doc.similarity based on empty vectors.\n",
      "  \"__main__\", mod_spec)\n"
     ]
    },
    {
     "name": "stdout",
     "output_type": "stream",
     "text": [
      "Actual: ATA National Title Group, LLC, InTitle Agency Predicted: \n",
      "Similarity of Predicted vs. Actual: 0.0\n",
      "Actual: Water's Edge Dermatology Predicted: Water's Edge Dermatology (\"Water's Edge\")\n",
      "Similarity of Predicted vs. Actual: 0.8446086742391798\n"
     ]
    },
    {
     "name": "stderr",
     "output_type": "stream",
     "text": [
      "/usr/lib/python3.7/runpy.py:193: UserWarning: [W008] Evaluating Doc.similarity based on empty vectors.\n",
      "  \"__main__\", mod_spec)\n",
      "/usr/lib/python3.7/runpy.py:193: UserWarning: [W008] Evaluating Doc.similarity based on empty vectors.\n",
      "  \"__main__\", mod_spec)\n"
     ]
    },
    {
     "name": "stdout",
     "output_type": "stream",
     "text": [
      "Actual: Alabama Controls, Inc Predicted: \n",
      "Similarity of Predicted vs. Actual: 0.0\n",
      "Actual: Vostok project Predicted: Alexander Ivanov\n",
      "Similarity of Predicted vs. Actual: 0.1969423642727107\n",
      "Actual:  Mawi Learning Predicted: Mawi Learning\n",
      "Similarity of Predicted vs. Actual: 0.9999999798052892\n",
      "Actual:  Eldorado Resorts, Inc Predicted: Lady Luck Casino Vicksburg\n",
      "Similarity of Predicted vs. Actual: 0.45278172979024395\n",
      "Actual: DrillTech Directional Services, Pinnacle Development, BAS Rentals, and A to Z Cable Construction Predicted: Four Utility Service Companies\n",
      "Similarity of Predicted vs. Actual: 0.6980551155041429\n",
      "Actual: Kensington International, Inc Predicted: Kensington International, Inc. (\"Kensington\")\n",
      "Similarity of Predicted vs. Actual: 0.7914660397957776\n",
      "Actual: EMD Group Holding II, Inc Predicted: all outstanding shares of common stock of Intermolecular\n",
      "Similarity of Predicted vs. Actual: 0.46470363964656086\n",
      "Actual: ERP Compliant Coke LLC Predicted: ERP Compliant Coke LLC plant\n",
      "Similarity of Predicted vs. Actual: 0.9348173222122234\n"
     ]
    },
    {
     "name": "stderr",
     "output_type": "stream",
     "text": [
      "/usr/lib/python3.7/runpy.py:193: UserWarning: [W008] Evaluating Doc.similarity based on empty vectors.\n",
      "  \"__main__\", mod_spec)\n",
      "/usr/lib/python3.7/runpy.py:193: UserWarning: [W008] Evaluating Doc.similarity based on empty vectors.\n",
      "  \"__main__\", mod_spec)\n"
     ]
    },
    {
     "name": "stdout",
     "output_type": "stream",
     "text": [
      "Actual: Visionworks Predicted: San Antonio, Texas-based Visionworks\n",
      "Similarity of Predicted vs. Actual: 0.0\n",
      "Actual: Print Speak Predicted: Print Speak\n",
      "Similarity of Predicted vs. Actual: 1.0\n",
      "Actual: Bombshell Technologies Predicted: Bombshell Technologies\n",
      "Similarity of Predicted vs. Actual: 1.0\n",
      "Actual: LaSalle Capital Predicted: Brown &amp; Joseph\n",
      "Similarity of Predicted vs. Actual: 0.16017447685363442\n",
      "Actual: Golden Arrow Resources Corporation Predicted: Golden Arrow Resources Corporation\n",
      "Similarity of Predicted vs. Actual: 1.0\n",
      "Actual: Pricing Assistant Predicted: Paris-based Pricing Assistant\n",
      "Similarity of Predicted vs. Actual: 0.7766073328452113\n"
     ]
    },
    {
     "name": "stderr",
     "output_type": "stream",
     "text": [
      "/usr/lib/python3.7/runpy.py:193: UserWarning: [W008] Evaluating Doc.similarity based on empty vectors.\n",
      "  \"__main__\", mod_spec)\n",
      "/usr/lib/python3.7/runpy.py:193: UserWarning: [W008] Evaluating Doc.similarity based on empty vectors.\n",
      "  \"__main__\", mod_spec)\n"
     ]
    },
    {
     "name": "stdout",
     "output_type": "stream",
     "text": [
      "Actual: N/A (not M&A) Predicted: \n",
      "Similarity of Predicted vs. Actual: 0.0\n",
      "Actual: Alliance Data Systems Corporation Predicted: Epsilon\n",
      "Similarity of Predicted vs. Actual: 0.059042793503167657\n"
     ]
    },
    {
     "name": "stderr",
     "output_type": "stream",
     "text": [
      "/usr/lib/python3.7/runpy.py:193: UserWarning: [W008] Evaluating Doc.similarity based on empty vectors.\n",
      "  \"__main__\", mod_spec)\n",
      "/usr/lib/python3.7/runpy.py:193: UserWarning: [W008] Evaluating Doc.similarity based on empty vectors.\n",
      "  \"__main__\", mod_spec)\n"
     ]
    },
    {
     "name": "stdout",
     "output_type": "stream",
     "text": [
      "Actual: N/A (not M&A) Predicted: \n",
      "Similarity of Predicted vs. Actual: 0.0\n",
      "Actual: CBM BioPharma, Inc Predicted: CBM BioPharma, Inc\n",
      "Similarity of Predicted vs. Actual: 1.0\n",
      "Actual: Keystone Laboratories, Inc Predicted: Keystone Laboratories, Inc.\n",
      "Similarity of Predicted vs. Actual: 0.9527058650472457\n",
      "Actual: e+CancerCare Predicted: e+CancerCare\n",
      "Similarity of Predicted vs. Actual: 1.0\n",
      "Actual: Cold Chain Technologies Predicted: Cold Chain Technologies\n",
      "Similarity of Predicted vs. Actual: 1.0\n",
      "Actual: N/A (not M&A) Predicted: its outstanding common stock\n",
      "Similarity of Predicted vs. Actual: 0.4548836912396684\n",
      "Actual: Destiny Biosciences Global Corp Predicted: Destiny Biosciences Global Corp. in a Stock for Stock Transaction Valuing Therapix\n",
      "Similarity of Predicted vs. Actual: 0.6885436170183633\n",
      "Actual: Cosaint Insurance Partners, LLC  Predicted: Cosaint Insurance Partners, LLC (Cosaint Insurance Partners)\n",
      "Similarity of Predicted vs. Actual: 0.9275389884939255\n",
      "Actual: ChefSteps Predicted: ChefSteps\n",
      "Similarity of Predicted vs. Actual: 1.0\n"
     ]
    },
    {
     "name": "stderr",
     "output_type": "stream",
     "text": [
      "/usr/lib/python3.7/runpy.py:193: UserWarning: [W008] Evaluating Doc.similarity based on empty vectors.\n",
      "  \"__main__\", mod_spec)\n",
      "/usr/lib/python3.7/runpy.py:193: UserWarning: [W008] Evaluating Doc.similarity based on empty vectors.\n",
      "  \"__main__\", mod_spec)\n"
     ]
    },
    {
     "name": "stdout",
     "output_type": "stream",
     "text": [
      "Actual: Swallowfield Predicted: Swallowfield plc\n",
      "Similarity of Predicted vs. Actual: 0.0\n",
      "Actual: Geraldiscos Predicted: Geraldiscos\n",
      "Similarity of Predicted vs. Actual: 1.0\n",
      "Actual: N/A (not M&A) Predicted: U.S. Dollar-Denominated Global Bonds and Euro-Denominated Global Bonds\n",
      "Similarity of Predicted vs. Actual: 0.3253311145205741\n",
      "Actual: Lattice Engines Predicted: Lattice Engines\n",
      "Similarity of Predicted vs. Actual: 1.0\n",
      "Actual: Global Telecom Holding S.A.E Predicted: Global Telecom Holding S.A.E (\"GTH\")\n",
      "Similarity of Predicted vs. Actual: 0.6981249128867117\n",
      "Actual: Bluetree Predicted: Bluetree\n",
      "Similarity of Predicted vs. Actual: 1.0\n",
      "Actual: Three Dots Predicted: Three Dots\n",
      "Similarity of Predicted vs. Actual: 1.0\n",
      "Actual: Deutsche Beteiligungs AG and Infiana Group GmbH Predicted: Infiana Group GmbH\n",
      "Similarity of Predicted vs. Actual: 0.8222503202021174\n",
      "Actual: BiomX Ltd Predicted: BiomX Ltd\n",
      "Similarity of Predicted vs. Actual: 1.0\n",
      "Actual: Redx Pharma Predicted: Redx Pharma\n",
      "Similarity of Predicted vs. Actual: 1.0\n",
      "Actual: Blue Harbour Group Predicted: BCA Marketplace\n",
      "Similarity of Predicted vs. Actual: 0.11444513297275614\n"
     ]
    },
    {
     "name": "stderr",
     "output_type": "stream",
     "text": [
      "/usr/lib/python3.7/runpy.py:193: UserWarning: [W008] Evaluating Doc.similarity based on empty vectors.\n",
      "  \"__main__\", mod_spec)\n",
      "/usr/lib/python3.7/runpy.py:193: UserWarning: [W008] Evaluating Doc.similarity based on empty vectors.\n",
      "  \"__main__\", mod_spec)\n"
     ]
    },
    {
     "name": "stdout",
     "output_type": "stream",
     "text": [
      "Actual: EnterpriseDB Predicted: EnterpriseDB Acquired by Great Hill Partners\n",
      "Similarity of Predicted vs. Actual: 0.0\n"
     ]
    },
    {
     "name": "stderr",
     "output_type": "stream",
     "text": [
      "/usr/lib/python3.7/runpy.py:193: UserWarning: [W008] Evaluating Doc.similarity based on empty vectors.\n",
      "  \"__main__\", mod_spec)\n",
      "/usr/lib/python3.7/runpy.py:193: UserWarning: [W008] Evaluating Doc.similarity based on empty vectors.\n",
      "  \"__main__\", mod_spec)\n"
     ]
    },
    {
     "name": "stdout",
     "output_type": "stream",
     "text": [
      "Actual: Archcon Design Build Predicted: \n",
      "Similarity of Predicted vs. Actual: 0.0\n",
      "Actual: Southern Harvest Insurance Predicted: Southern Harvest Insurance\n",
      "Similarity of Predicted vs. Actual: 1.0\n",
      "\n",
      "Total correct: 98 out of 176 ... 55.68%\n"
     ]
    }
   ],
   "source": [
    "train = df[~df['true_seller'].isnull()]\n",
    "\n",
    "correct_count = 0\n",
    "for index, row in train.iterrows():\n",
    "  actual_seller = row['true_seller']\n",
    "  doc1 = nlp(actual_seller)\n",
    "  result = ask_question(row['text'], 'Who was bought?')[0]\n",
    "  predicted_company = result\n",
    "\n",
    "  similarity = doc1.similarity(nlp(predicted_company))\n",
    "  if similarity > 0.7:\n",
    "    correct_count += 1\n",
    "\n",
    "  print(f'Actual: {actual_seller} Predicted: {predicted_company}')\n",
    "  print(f'Similarity of Predicted vs. Actual: {doc1.similarity(nlp(predicted_company))}')\n",
    "\n",
    "print('')\n",
    "print(f'Total correct: {correct_count} out of {len(train)} ... {round((correct_count / len(train)) * 100, 2)}%')"
   ]
  },
  {
   "cell_type": "markdown",
   "metadata": {
    "id": "c3ML8ky9lyl6"
   },
   "source": [
    "# Ground-truth testing, maximizing confidence of multiple questions\n",
    "- *Who was the seller?*\n",
    "- Total correct: 104 out of 176 ... 59.09%"
   ]
  },
  {
   "cell_type": "code",
   "execution_count": 58,
   "metadata": {
    "colab": {
     "base_uri": "https://localhost:8080/"
    },
    "executionInfo": {
     "elapsed": 1067415,
     "status": "ok",
     "timestamp": 1618240561733,
     "user": {
      "displayName": "Jason F Petri",
      "photoUrl": "",
      "userId": "10231400164364138187"
     },
     "user_tz": 240
    },
    "id": "YXR03HKQlJ4v",
    "outputId": "ea37a427-a98d-4a28-b4ab-7d46971e726e"
   },
   "outputs": [
    {
     "name": "stdout",
     "output_type": "stream",
     "text": [
      "Actual: Rifiniti Predicted: Rifiniti\n",
      "Similarity of Predicted vs. Actual: 1.0\n",
      "Actual: Magnate Worldwide Predicted: Brad Kelley\n",
      "Similarity of Predicted vs. Actual: 0.007825508148802864\n",
      "Actual: Southfield Capital Predicted: HigherGround Managed Services (\"HigherGround\")\n",
      "Similarity of Predicted vs. Actual: 0.05973559774219091\n",
      "Actual: Great Wave Tech Predicted: Great Wave Tech\n",
      "Similarity of Predicted vs. Actual: 1.0\n",
      "Actual:  BWise Manufacturing Predicted: BWise Manufacturing\n",
      "Similarity of Predicted vs. Actual: 0.999999965955948\n",
      "Actual: Cox Media Group Predicted: Cox Media Group's broadcast television group\n",
      "Similarity of Predicted vs. Actual: 0.8741246037607355\n",
      "Actual: O'Keefe Elevator Predicted: O'Keefe Elevator Company\n",
      "Similarity of Predicted vs. Actual: 0.8448396298089168\n",
      "Actual: G3 Comms Predicted: Apiary Capital\n",
      "Similarity of Predicted vs. Actual: 0.05267557034116988\n"
     ]
    },
    {
     "name": "stderr",
     "output_type": "stream",
     "text": [
      "/usr/lib/python3.7/runpy.py:193: UserWarning: [W008] Evaluating Doc.similarity based on empty vectors.\n",
      "  \"__main__\", mod_spec)\n",
      "/usr/lib/python3.7/runpy.py:193: UserWarning: [W008] Evaluating Doc.similarity based on empty vectors.\n",
      "  \"__main__\", mod_spec)\n"
     ]
    },
    {
     "name": "stdout",
     "output_type": "stream",
     "text": [
      "Actual: Covia Predicted: the Calera, Alabama lime business of Covia (NYSE: CVIA)\n",
      "Similarity of Predicted vs. Actual: 0.0\n",
      "Actual: Geezeo Predicted: Geezeo\n",
      "Similarity of Predicted vs. Actual: 1.0\n",
      "Actual: Blue Harbour Group Predicted: GWR's agreement to be acquired by Brookfield Asset Management and GIC\n",
      "Similarity of Predicted vs. Actual: 0.4339169277693587\n",
      "Actual: Pure Multi-Family Predicted: Pure Multi-Family\n",
      "Similarity of Predicted vs. Actual: 1.0\n",
      "Actual: Knight Point Systems Predicted: Knight Point Systems\n",
      "Similarity of Predicted vs. Actual: 1.0\n"
     ]
    },
    {
     "name": "stderr",
     "output_type": "stream",
     "text": [
      "/usr/lib/python3.7/runpy.py:193: UserWarning: [W008] Evaluating Doc.similarity based on empty vectors.\n",
      "  \"__main__\", mod_spec)\n",
      "/usr/lib/python3.7/runpy.py:193: UserWarning: [W008] Evaluating Doc.similarity based on empty vectors.\n",
      "  \"__main__\", mod_spec)\n"
     ]
    },
    {
     "name": "stdout",
     "output_type": "stream",
     "text": [
      "Actual:  Gilliam Insurance Agency Predicted: \n",
      "Similarity of Predicted vs. Actual: 0.0\n",
      "Actual: Twistlock Predicted: Twistlock\n",
      "Similarity of Predicted vs. Actual: 1.0\n",
      "Actual: The Referral Depot Predicted: The Referral Depot (TRD)\n",
      "Similarity of Predicted vs. Actual: 0.712766509474174\n",
      "Actual: Bloom Energy Corporation Predicted: Bloom Energy Corporation (NYSE: BE)\n",
      "Similarity of Predicted vs. Actual: 0.7580520335484621\n",
      "Actual: Global Transport Logistics, Am Trans Expedite Predicted: Global Transport Logistics, Inc.\n",
      "Similarity of Predicted vs. Actual: 0.8686634080546859\n",
      "Actual: ALKOS Group Predicted: ALKOS Group\n",
      "Similarity of Predicted vs. Actual: 1.0\n",
      "Actual: Crius Energy Trust Predicted: Crius Energy Trust\n",
      "Similarity of Predicted vs. Actual: 1.0\n",
      "Actual: MPL Holdings Predicted: MPL Holdings, LLC\n",
      "Similarity of Predicted vs. Actual: 0.8266112524301127\n",
      "Actual: SGS Predicted: Petroleum Service Corporation\n",
      "Similarity of Predicted vs. Actual: 0.05521522075343481\n",
      "Actual: Aerohive Networks Predicted: Aerohive Networks, Inc.\n",
      "Similarity of Predicted vs. Actual: 0.7460628117569259\n",
      "Actual: Intimates Online Predicted: Intimates Online, Inc.\n",
      "Similarity of Predicted vs. Actual: 0.8253176095948186\n",
      "Actual: Connect Media Predicted: Australia's General Counsel Summit\n",
      "Similarity of Predicted vs. Actual: 0.4007866544923215\n",
      "Actual: Bombshell Technologies Predicted: Bombshell Technologies\n",
      "Similarity of Predicted vs. Actual: 1.0\n",
      "Actual: GBST Holdings Limited Predicted: GBST Holdings Limited\n",
      "Similarity of Predicted vs. Actual: 1.0\n",
      "Actual: Pfingsten Partners Predicted: ZSi-Foster Acquisition Corporation (\"ZSi-Foster\")\n",
      "Similarity of Predicted vs. Actual: 0.4418079750026578\n"
     ]
    },
    {
     "name": "stderr",
     "output_type": "stream",
     "text": [
      "/usr/lib/python3.7/runpy.py:193: UserWarning: [W008] Evaluating Doc.similarity based on empty vectors.\n",
      "  \"__main__\", mod_spec)\n",
      "/usr/lib/python3.7/runpy.py:193: UserWarning: [W008] Evaluating Doc.similarity based on empty vectors.\n",
      "  \"__main__\", mod_spec)\n"
     ]
    },
    {
     "name": "stdout",
     "output_type": "stream",
     "text": [
      "Actual: OpenConnect Predicted: OpenConnect Inc\n",
      "Similarity of Predicted vs. Actual: 0.0\n"
     ]
    },
    {
     "name": "stderr",
     "output_type": "stream",
     "text": [
      "/usr/lib/python3.7/runpy.py:193: UserWarning: [W008] Evaluating Doc.similarity based on empty vectors.\n",
      "  \"__main__\", mod_spec)\n",
      "/usr/lib/python3.7/runpy.py:193: UserWarning: [W008] Evaluating Doc.similarity based on empty vectors.\n",
      "  \"__main__\", mod_spec)\n"
     ]
    },
    {
     "name": "stdout",
     "output_type": "stream",
     "text": [
      "Actual: Twin River Worldwide Holdings Predicted: \n",
      "Similarity of Predicted vs. Actual: 0.0\n",
      "Actual: KeaLeaf Life Sciences Predicted: Canopy\n",
      "Similarity of Predicted vs. Actual: 0.08335494567980953\n",
      "Actual: Thrive Autism Solutions Predicted: St. Louis, MO based Thrive Autism Solutions (Thrive)\n",
      "Similarity of Predicted vs. Actual: 0.7521846029347627\n",
      "Actual: The Hain Celestial Group Predicted: Hain Pure Protein\n",
      "Similarity of Predicted vs. Actual: 0.5144783964573086\n",
      "Actual: Shan Shan Outlets Predicted: Shan Shan Outlets\n",
      "Similarity of Predicted vs. Actual: 1.0\n",
      "Actual: Alpine Group Predicted: Evergreen Industries Ltd.\n",
      "Similarity of Predicted vs. Actual: 0.3334908492396991\n",
      "Actual: Industrial Property Trust Inc. Predicted: Industrial Property Trust Inc.\n",
      "Similarity of Predicted vs. Actual: 1.0\n"
     ]
    },
    {
     "name": "stderr",
     "output_type": "stream",
     "text": [
      "/usr/lib/python3.7/runpy.py:193: UserWarning: [W008] Evaluating Doc.similarity based on empty vectors.\n",
      "  \"__main__\", mod_spec)\n",
      "/usr/lib/python3.7/runpy.py:193: UserWarning: [W008] Evaluating Doc.similarity based on empty vectors.\n",
      "  \"__main__\", mod_spec)\n"
     ]
    },
    {
     "name": "stdout",
     "output_type": "stream",
     "text": [
      "Actual: Entuity Predicted: Software Provider Entuity\n",
      "Similarity of Predicted vs. Actual: 0.0\n",
      "Actual: RHA Health Services, LLC Predicted: Safanad Sell RHA Health Services\n",
      "Similarity of Predicted vs. Actual: 0.8745471491590732\n",
      "Actual: Magic Steel Sales Predicted: SteelSummit Holdings Expands Footprint with Strategic Acquisition of Magic Steel Sales\n",
      "Similarity of Predicted vs. Actual: 0.7645350006048828\n",
      "Actual: Acuon Capital Predicted: Acuon Capital\n",
      "Similarity of Predicted vs. Actual: 1.0\n",
      "Actual: Keystone Biologicals, Inc Predicted: Keystone Biologicals, Inc.\n",
      "Similarity of Predicted vs. Actual: 0.9479117082714189\n",
      "Actual: The Crichton Group Predicted: Crichton, Brandon, Jackson & Ward, Inc.\n",
      "Similarity of Predicted vs. Actual: 0.3499436196808631\n",
      "Actual: Diginex Limited Predicted: Diginex Limited\n",
      "Similarity of Predicted vs. Actual: 1.0\n",
      "Actual: Confirmation Predicted: Confirmation\n",
      "Similarity of Predicted vs. Actual: 1.0\n"
     ]
    },
    {
     "name": "stderr",
     "output_type": "stream",
     "text": [
      "/usr/lib/python3.7/runpy.py:193: UserWarning: [W008] Evaluating Doc.similarity based on empty vectors.\n",
      "  \"__main__\", mod_spec)\n",
      "/usr/lib/python3.7/runpy.py:193: UserWarning: [W008] Evaluating Doc.similarity based on empty vectors.\n",
      "  \"__main__\", mod_spec)\n"
     ]
    },
    {
     "name": "stdout",
     "output_type": "stream",
     "text": [
      "Actual: American Mortgage Consultants Predicted: \n",
      "Similarity of Predicted vs. Actual: 0.0\n",
      "Actual: Singular Bio, Inc Predicted: Singular Bio, Inc\n",
      "Similarity of Predicted vs. Actual: 1.0\n"
     ]
    },
    {
     "name": "stderr",
     "output_type": "stream",
     "text": [
      "/usr/lib/python3.7/runpy.py:193: UserWarning: [W008] Evaluating Doc.similarity based on empty vectors.\n",
      "  \"__main__\", mod_spec)\n",
      "/usr/lib/python3.7/runpy.py:193: UserWarning: [W008] Evaluating Doc.similarity based on empty vectors.\n",
      "  \"__main__\", mod_spec)\n"
     ]
    },
    {
     "name": "stdout",
     "output_type": "stream",
     "text": [
      "Actual: BB&T Predicted: SunTrust and BB&T Corporation\n",
      "Similarity of Predicted vs. Actual: 0.0\n",
      "Actual: Shopkick Predicted: Shopkick\n",
      "Similarity of Predicted vs. Actual: 1.0\n",
      "Actual: Tectoweld Predicted: Tectoweld\n",
      "Similarity of Predicted vs. Actual: 1.0\n",
      "Actual: Terra Technologies, LLC Predicted: Terra Technologies, LLC\n",
      "Similarity of Predicted vs. Actual: 1.0\n",
      "Actual: Rayonier Advanced Materials Predicted: Matane Mill\n",
      "Similarity of Predicted vs. Actual: 0.2553197396029645\n",
      "Actual: Competentum Predicted: Competentum\n",
      "Similarity of Predicted vs. Actual: 1.0\n",
      "Actual: Sierra Income Corporation, Medley Capital Corporation, Medley Management Inc Predicted: MDLY and its existing asset management business\n",
      "Similarity of Predicted vs. Actual: 0.6771998625801954\n",
      "Actual: Zoosk, Inc Predicted: Zoosk, Inc.\n",
      "Similarity of Predicted vs. Actual: 0.9329425708892553\n",
      "Actual: L Catterton Predicted: Cracker Barrel Old Country Store\n",
      "Similarity of Predicted vs. Actual: 0.13793749490861473\n"
     ]
    },
    {
     "name": "stderr",
     "output_type": "stream",
     "text": [
      "/usr/lib/python3.7/runpy.py:193: UserWarning: [W008] Evaluating Doc.similarity based on empty vectors.\n",
      "  \"__main__\", mod_spec)\n",
      "/usr/lib/python3.7/runpy.py:193: UserWarning: [W008] Evaluating Doc.similarity based on empty vectors.\n",
      "  \"__main__\", mod_spec)\n"
     ]
    },
    {
     "name": "stdout",
     "output_type": "stream",
     "text": [
      "Actual: Llantrisant Predicted: Llantrisant, Wales-based Adjusting Associates LLP\n",
      "Similarity of Predicted vs. Actual: 0.0\n",
      "Actual: Advantor Systems Corporation Predicted: Advantor Systems Corporation\n",
      "Similarity of Predicted vs. Actual: 1.0\n",
      "Actual: Perrigo Predicted: PetIQ (NASDAQ: PETQ)\n",
      "Similarity of Predicted vs. Actual: -0.15919545005022204\n",
      "Actual: SevaMed Institute Predicted: SevaMed Institute\n",
      "Similarity of Predicted vs. Actual: 1.0\n",
      "Actual: $475 million Predicted: Senior Secured Second Lien Notes\n",
      "Similarity of Predicted vs. Actual: 0.2876542823132523\n",
      "Actual: The Solaris Group, LLC Predicted: Klingenstein Fields\n",
      "Similarity of Predicted vs. Actual: 0.3057110968806147\n",
      "Actual: Kellogg Predicted: Ferrero Group\n",
      "Similarity of Predicted vs. Actual: 0.2346758261086919\n",
      "Actual: Illinois Gastroenterology Group Predicted: Illinois Gastroenterology Group (IGG)\n",
      "Similarity of Predicted vs. Actual: 0.7857141692640744\n",
      "Actual: Prism Predicted: Prism\n",
      "Similarity of Predicted vs. Actual: 1.0\n"
     ]
    },
    {
     "name": "stderr",
     "output_type": "stream",
     "text": [
      "/usr/lib/python3.7/runpy.py:193: UserWarning: [W008] Evaluating Doc.similarity based on empty vectors.\n",
      "  \"__main__\", mod_spec)\n",
      "/usr/lib/python3.7/runpy.py:193: UserWarning: [W008] Evaluating Doc.similarity based on empty vectors.\n",
      "  \"__main__\", mod_spec)\n"
     ]
    },
    {
     "name": "stdout",
     "output_type": "stream",
     "text": [
      "Actual: WellFence Predicted: WellFence LLC (WellFence)\n",
      "Similarity of Predicted vs. Actual: 0.0\n",
      "Actual: Acreage Predicted: Acreage &amp\n",
      "Similarity of Predicted vs. Actual: 0.5776423457647216\n",
      "Actual: NA Engineering Associates Predicted: NA Engineering Associates\n",
      "Similarity of Predicted vs. Actual: 1.0\n",
      "Actual: Choice Bancorp Predicted: Choice and its wholly-owned banking subsidiary, Choice Bank (\"Choice Bank\")\n",
      "Similarity of Predicted vs. Actual: 0.30596092000674086\n"
     ]
    },
    {
     "name": "stderr",
     "output_type": "stream",
     "text": [
      "/usr/lib/python3.7/runpy.py:193: UserWarning: [W008] Evaluating Doc.similarity based on empty vectors.\n",
      "  \"__main__\", mod_spec)\n",
      "/usr/lib/python3.7/runpy.py:193: UserWarning: [W008] Evaluating Doc.similarity based on empty vectors.\n",
      "  \"__main__\", mod_spec)\n"
     ]
    },
    {
     "name": "stdout",
     "output_type": "stream",
     "text": [
      "Actual: Nabobil Predicted: Norwegian Platform Nabobil\n",
      "Similarity of Predicted vs. Actual: 0.0\n",
      "Actual: Schlicher-Kratz Institute Predicted: Schlicher-Kratz Institute\n",
      "Similarity of Predicted vs. Actual: 1.0\n",
      "Actual: Bain Capital Predicted: a majority equity stake in Waystar\n",
      "Similarity of Predicted vs. Actual: 0.4037177516311974\n"
     ]
    },
    {
     "name": "stderr",
     "output_type": "stream",
     "text": [
      "/usr/lib/python3.7/runpy.py:193: UserWarning: [W008] Evaluating Doc.similarity based on empty vectors.\n",
      "  \"__main__\", mod_spec)\n",
      "/usr/lib/python3.7/runpy.py:193: UserWarning: [W008] Evaluating Doc.similarity based on empty vectors.\n",
      "  \"__main__\", mod_spec)\n"
     ]
    },
    {
     "name": "stdout",
     "output_type": "stream",
     "text": [
      "Actual: Accrofab Predicted: Accrofab Limited (\"Accrofab\")\n",
      "Similarity of Predicted vs. Actual: 0.0\n",
      "Actual: Arena BogotÃ¡ Predicted: Arena\n",
      "Similarity of Predicted vs. Actual: 0.6848480194624706\n",
      "Actual: Blue Water Plastic Transport Predicted: Blue Water Plastic Transport\n",
      "Similarity of Predicted vs. Actual: 1.0\n",
      "Actual: Texas Coin and Commercial Laundry Predicted: Texas Coin and Commercial Laundry\n",
      "Similarity of Predicted vs. Actual: 1.0\n",
      "Actual: BC Partners Predicted: Blackstone\n",
      "Similarity of Predicted vs. Actual: 0.17695102276985178\n",
      "Actual: HBC Predicted: HBC\n",
      "Similarity of Predicted vs. Actual: 1.0\n",
      "Actual: BioHemp Naturals Predicted: BioHemp Naturals\n",
      "Similarity of Predicted vs. Actual: 1.0\n",
      "Actual: RapidILL Predicted: RapidILL\n",
      "Similarity of Predicted vs. Actual: 1.0\n",
      "Actual: Texas Beauty Labs Predicted: Texas Beauty Labs\n",
      "Similarity of Predicted vs. Actual: 1.0\n",
      "Actual: Wintech Testing and Certification Predicted: Wintech Testing and Certification\n",
      "Similarity of Predicted vs. Actual: 1.0\n",
      "Actual: Assured Software Predicted: Assured Software and Pluribus Technologies Inc\n",
      "Similarity of Predicted vs. Actual: 0.7536804361420504\n",
      "Actual: Gateway Bobcat Predicted: Gateway Bobcat, LLC\n",
      "Similarity of Predicted vs. Actual: 0.8334820753068488\n",
      "Actual: Senior Insurance Brokers Predicted: Senior Insurance Brokers\n",
      "Similarity of Predicted vs. Actual: 1.0\n",
      "Actual: AxleTech Predicted: AxleTech\n",
      "Similarity of Predicted vs. Actual: 1.0\n",
      "Actual: Advisor Group Predicted: Advisor Group, Inc.\n",
      "Similarity of Predicted vs. Actual: 0.8442544361994242\n",
      "Actual: Mr. Delivery Predicted: Mr. Delivery\n",
      "Similarity of Predicted vs. Actual: 1.0\n",
      "Actual: Physicians Financial Advisors Predicted: Physicians Financial Advisors, Inc. (PFA)\n",
      "Similarity of Predicted vs. Actual: 0.7486697123141721\n"
     ]
    },
    {
     "name": "stderr",
     "output_type": "stream",
     "text": [
      "/usr/lib/python3.7/runpy.py:193: UserWarning: [W008] Evaluating Doc.similarity based on empty vectors.\n",
      "  \"__main__\", mod_spec)\n",
      "/usr/lib/python3.7/runpy.py:193: UserWarning: [W008] Evaluating Doc.similarity based on empty vectors.\n",
      "  \"__main__\", mod_spec)\n"
     ]
    },
    {
     "name": "stdout",
     "output_type": "stream",
     "text": [
      "Actual: Achaogen Predicted: Achaogen's assets\n",
      "Similarity of Predicted vs. Actual: 0.0\n",
      "Actual: QxBranch Predicted: QxBranch\n",
      "Similarity of Predicted vs. Actual: 1.0\n",
      "Actual: The Hydroseeding Company LLC dba Epic Manufacturing Predicted: The Hydroseeding Company LLC dba Epic Manufacturing\n",
      "Similarity of Predicted vs. Actual: 1.0\n",
      "Actual: Lake Point Business Center Predicted: Lake Point Business Center\n",
      "Similarity of Predicted vs. Actual: 1.0\n",
      "Actual: Freije-RSC Predicted: Freije-RSC\n",
      "Similarity of Predicted vs. Actual: 1.0\n"
     ]
    },
    {
     "name": "stderr",
     "output_type": "stream",
     "text": [
      "/usr/lib/python3.7/runpy.py:193: UserWarning: [W008] Evaluating Doc.similarity based on empty vectors.\n",
      "  \"__main__\", mod_spec)\n",
      "/usr/lib/python3.7/runpy.py:193: UserWarning: [W008] Evaluating Doc.similarity based on empty vectors.\n",
      "  \"__main__\", mod_spec)\n"
     ]
    },
    {
     "name": "stdout",
     "output_type": "stream",
     "text": [
      "Actual: Paytime Predicted: Paydayta, Inc.\n",
      "Similarity of Predicted vs. Actual: 0.0\n",
      "Actual: Dunn's River  Predicted: Dunn's River Brands\n",
      "Similarity of Predicted vs. Actual: 0.8942495552368582\n"
     ]
    },
    {
     "name": "stderr",
     "output_type": "stream",
     "text": [
      "/usr/lib/python3.7/runpy.py:193: UserWarning: [W008] Evaluating Doc.similarity based on empty vectors.\n",
      "  \"__main__\", mod_spec)\n",
      "/usr/lib/python3.7/runpy.py:193: UserWarning: [W008] Evaluating Doc.similarity based on empty vectors.\n",
      "  \"__main__\", mod_spec)\n"
     ]
    },
    {
     "name": "stdout",
     "output_type": "stream",
     "text": [
      "Actual: EverCommerce Predicted: Silver Lake\n",
      "Similarity of Predicted vs. Actual: 0.0\n",
      "Actual: Brunswick Predicted: Brunswick Corporation's Fitness business\n",
      "Similarity of Predicted vs. Actual: 0.478711582010383\n",
      "Actual: Ultima Health Products Predicted: Ultima Health Products, Inc.\n",
      "Similarity of Predicted vs. Actual: 0.9036899910505111\n",
      "Actual: Direct Machinery Corporation Predicted: Direct Machinery Corporation\n",
      "Similarity of Predicted vs. Actual: 1.0\n"
     ]
    },
    {
     "name": "stderr",
     "output_type": "stream",
     "text": [
      "/usr/lib/python3.7/runpy.py:193: UserWarning: [W008] Evaluating Doc.similarity based on empty vectors.\n",
      "  \"__main__\", mod_spec)\n",
      "/usr/lib/python3.7/runpy.py:193: UserWarning: [W008] Evaluating Doc.similarity based on empty vectors.\n",
      "  \"__main__\", mod_spec)\n"
     ]
    },
    {
     "name": "stdout",
     "output_type": "stream",
     "text": [
      "Actual: BB&T, Suntrust Predicted: \n",
      "Similarity of Predicted vs. Actual: 0.0\n",
      "Actual: Employment Technology Fund Predicted: the Employment Technology Fund (ETF)\n",
      "Similarity of Predicted vs. Actual: 0.846258466355582\n"
     ]
    },
    {
     "name": "stderr",
     "output_type": "stream",
     "text": [
      "/usr/lib/python3.7/runpy.py:193: UserWarning: [W008] Evaluating Doc.similarity based on empty vectors.\n",
      "  \"__main__\", mod_spec)\n",
      "/usr/lib/python3.7/runpy.py:193: UserWarning: [W008] Evaluating Doc.similarity based on empty vectors.\n",
      "  \"__main__\", mod_spec)\n"
     ]
    },
    {
     "name": "stdout",
     "output_type": "stream",
     "text": [
      "Actual: ZEFR Predicted: ZEFR Assets, RightsID and ChannelID\n",
      "Similarity of Predicted vs. Actual: 0.0\n",
      "Actual: iKentoo Predicted: iKentoo\n",
      "Similarity of Predicted vs. Actual: 1.0\n",
      "Actual: Whirlpool Predicted: Embraco Business Unit\n",
      "Similarity of Predicted vs. Actual: 0.2113406170945315\n",
      "Actual: Clayton, Dubilier & Rice Predicted: Willis Towers Watson\n",
      "Similarity of Predicted vs. Actual: 0.3394645965734387\n"
     ]
    },
    {
     "name": "stderr",
     "output_type": "stream",
     "text": [
      "/usr/lib/python3.7/runpy.py:193: UserWarning: [W008] Evaluating Doc.similarity based on empty vectors.\n",
      "  \"__main__\", mod_spec)\n",
      "/usr/lib/python3.7/runpy.py:193: UserWarning: [W008] Evaluating Doc.similarity based on empty vectors.\n",
      "  \"__main__\", mod_spec)\n"
     ]
    },
    {
     "name": "stdout",
     "output_type": "stream",
     "text": [
      "Actual: Windward Software Predicted: \n",
      "Similarity of Predicted vs. Actual: 0.0\n",
      "Actual: Apache Supply, Inc. and Coastal Contractor Supply Predicted: Apache Supply, Inc. and Coastal Contractor Supply\n",
      "Similarity of Predicted vs. Actual: 1.0\n",
      "Actual: StaffRehab Predicted: StaffRehab\n",
      "Similarity of Predicted vs. Actual: 1.0\n",
      "Actual: TACVO, Inc. Predicted: TAVCO, Inc.\n",
      "Similarity of Predicted vs. Actual: 1.0000000073401127\n",
      "Actual: Prevalent, Inc. and Axcension, Inc. Predicted: Prevalent, Inc. and Axcension, Inc.\n",
      "Similarity of Predicted vs. Actual: 1.0\n",
      "Actual: Ranir Global Holdings LLC Predicted: Ranir Global Holdings LLC\n",
      "Similarity of Predicted vs. Actual: 1.0\n",
      "Actual: Foster Pepper PLLC, Garvey Barer, PC Predicted: Foster Pepper and Garvey Schubert Barer\n",
      "Similarity of Predicted vs. Actual: 0.7499331672925544\n",
      "Actual: 3-Phase Electrical Ltd. Predicted: 3-Phase Electrical Ltd.\n",
      "Similarity of Predicted vs. Actual: 1.0\n",
      "Actual: Acquire Revolution Predicted: Revolution\n",
      "Similarity of Predicted vs. Actual: 0.7553075692687927\n",
      "Actual: BMW/MINI dealerships Predicted: BMW/MINI dealerships\n",
      "Similarity of Predicted vs. Actual: 1.0\n",
      "Actual: Stanbury Uniforms Predicted: Stanbury Uniforms\n",
      "Similarity of Predicted vs. Actual: 1.0\n",
      "Actual: Crystal River Anesthesia Associates Predicted: Crystal River Anesthesia Associates, LLC\n",
      "Similarity of Predicted vs. Actual: 0.9335265432619123\n",
      "Actual: Sundin Mezs SIA Predicted: Sundin Mezs SIA\n",
      "Similarity of Predicted vs. Actual: 1.0\n",
      "Actual: Majure Data Predicted: Majure Data\n",
      "Similarity of Predicted vs. Actual: 1.0\n",
      "Actual: Shorenstein Properties LLC Predicted: Shorenstein Sells Rose Orchard Campus\n",
      "Similarity of Predicted vs. Actual: 0.34280070716113153\n",
      "Actual: Jungla Inc. Predicted: Jungla Inc.\n",
      "Similarity of Predicted vs. Actual: 1.0\n",
      "Actual: Carrefour China Predicted: Carrefour China\n",
      "Similarity of Predicted vs. Actual: 1.0\n",
      "Actual: Treasure Island - TI Hotel & Casino Predicted: Radisson\n",
      "Similarity of Predicted vs. Actual: 0.31753890966162424\n",
      "Actual: Bulldog Solutions Predicted: Bulldog Solutions\n",
      "Similarity of Predicted vs. Actual: 1.0\n",
      "Actual: Amberly Adhesive Labels Ltd Predicted: Amberley Adhesive Labels Ltd\n",
      "Similarity of Predicted vs. Actual: 0.8177834844200905\n"
     ]
    },
    {
     "name": "stderr",
     "output_type": "stream",
     "text": [
      "/usr/lib/python3.7/runpy.py:193: UserWarning: [W008] Evaluating Doc.similarity based on empty vectors.\n",
      "  \"__main__\", mod_spec)\n",
      "/usr/lib/python3.7/runpy.py:193: UserWarning: [W008] Evaluating Doc.similarity based on empty vectors.\n",
      "  \"__main__\", mod_spec)\n"
     ]
    },
    {
     "name": "stdout",
     "output_type": "stream",
     "text": [
      "Actual: Situs Group Holdings Corp., American Mortgage Consultatnts, Inc. Predicted: \n",
      "Similarity of Predicted vs. Actual: 0.0\n",
      "Actual: FREO, Oaktree Capital Management Predicted: Spanish Offices Portfolio\n",
      "Similarity of Predicted vs. Actual: 0.4612464196751623\n"
     ]
    },
    {
     "name": "stderr",
     "output_type": "stream",
     "text": [
      "/usr/lib/python3.7/runpy.py:193: UserWarning: [W008] Evaluating Doc.similarity based on empty vectors.\n",
      "  \"__main__\", mod_spec)\n",
      "/usr/lib/python3.7/runpy.py:193: UserWarning: [W008] Evaluating Doc.similarity based on empty vectors.\n",
      "  \"__main__\", mod_spec)\n"
     ]
    },
    {
     "name": "stdout",
     "output_type": "stream",
     "text": [
      "Actual: Jervois Mining Limited, eCobalt Predicted: eCobalt\n",
      "Similarity of Predicted vs. Actual: 0.0\n",
      "Actual: SAVSU Technologies Predicted: privately held SAVSU Technologies\n",
      "Similarity of Predicted vs. Actual: 0.6924202317397483\n",
      "Actual: Berk Bilgen Insurance Ltd. Predicted: Berk Bilgen Insurance Ltd.\n",
      "Similarity of Predicted vs. Actual: 1.0\n"
     ]
    },
    {
     "name": "stderr",
     "output_type": "stream",
     "text": [
      "/usr/lib/python3.7/runpy.py:193: UserWarning: [W008] Evaluating Doc.similarity based on empty vectors.\n",
      "  \"__main__\", mod_spec)\n",
      "/usr/lib/python3.7/runpy.py:193: UserWarning: [W008] Evaluating Doc.similarity based on empty vectors.\n",
      "  \"__main__\", mod_spec)\n"
     ]
    },
    {
     "name": "stdout",
     "output_type": "stream",
     "text": [
      "Actual: 3Cinteractive Corp. Predicted: 3Cinteractive\n",
      "Similarity of Predicted vs. Actual: 0.0\n",
      "Actual: Confirmation Predicted: Confirmation\n",
      "Similarity of Predicted vs. Actual: 1.0\n"
     ]
    },
    {
     "name": "stderr",
     "output_type": "stream",
     "text": [
      "/usr/lib/python3.7/runpy.py:193: UserWarning: [W008] Evaluating Doc.similarity based on empty vectors.\n",
      "  \"__main__\", mod_spec)\n",
      "/usr/lib/python3.7/runpy.py:193: UserWarning: [W008] Evaluating Doc.similarity based on empty vectors.\n",
      "  \"__main__\", mod_spec)\n"
     ]
    },
    {
     "name": "stdout",
     "output_type": "stream",
     "text": [
      "Actual: Progentec Diagnostics, Inc., Karate Health, Inc. Predicted: \n",
      "Similarity of Predicted vs. Actual: 0.0\n",
      "Actual: Decernis LLC Predicted: Decernis LLC\n",
      "Similarity of Predicted vs. Actual: 1.0\n"
     ]
    },
    {
     "name": "stderr",
     "output_type": "stream",
     "text": [
      "/usr/lib/python3.7/runpy.py:193: UserWarning: [W008] Evaluating Doc.similarity based on empty vectors.\n",
      "  \"__main__\", mod_spec)\n",
      "/usr/lib/python3.7/runpy.py:193: UserWarning: [W008] Evaluating Doc.similarity based on empty vectors.\n",
      "  \"__main__\", mod_spec)\n"
     ]
    },
    {
     "name": "stdout",
     "output_type": "stream",
     "text": [
      "Actual: Ineco Group Predicted: Inenco\n",
      "Similarity of Predicted vs. Actual: 0.0\n",
      "Actual: ATA National Title Group, LLC, InTitle Agency Predicted: InTitle Agency Merger\n",
      "Similarity of Predicted vs. Actual: 0.6080657581621499\n",
      "Actual: Water's Edge Dermatology Predicted: Water's Edge Dermatology (\"Water's Edge\")\n",
      "Similarity of Predicted vs. Actual: 0.8446086742391798\n",
      "Actual: Alabama Controls, Inc Predicted: Alabama Controls Corporation Joins Albireo Energy\n",
      "Similarity of Predicted vs. Actual: 0.7374013877229102\n",
      "Actual: Vostok project Predicted: Alexander Ivanov\n",
      "Similarity of Predicted vs. Actual: 0.1969423642727107\n",
      "Actual:  Mawi Learning Predicted: Mawi Learning\n",
      "Similarity of Predicted vs. Actual: 0.9999999798052892\n",
      "Actual:  Eldorado Resorts, Inc Predicted: Lady Luck Casino Vicksburg in Vicksburg, Mississippi (\"Lady Luck Vicksburg\")\n",
      "Similarity of Predicted vs. Actual: 0.4923085775398271\n",
      "Actual: DrillTech Directional Services, Pinnacle Development, BAS Rentals, and A to Z Cable Construction Predicted: Four Utility Service Companies\n",
      "Similarity of Predicted vs. Actual: 0.6980551155041429\n",
      "Actual: Kensington International, Inc Predicted: Kensington International, Inc. (\"Kensington\")\n",
      "Similarity of Predicted vs. Actual: 0.7914660397957776\n",
      "Actual: EMD Group Holding II, Inc Predicted: all outstanding shares of common stock of Intermolecular\n",
      "Similarity of Predicted vs. Actual: 0.46470363964656086\n",
      "Actual: ERP Compliant Coke LLC Predicted: ERP Compliant Coke LLC plant\n",
      "Similarity of Predicted vs. Actual: 0.9348173222122234\n"
     ]
    },
    {
     "name": "stderr",
     "output_type": "stream",
     "text": [
      "/usr/lib/python3.7/runpy.py:193: UserWarning: [W008] Evaluating Doc.similarity based on empty vectors.\n",
      "  \"__main__\", mod_spec)\n",
      "/usr/lib/python3.7/runpy.py:193: UserWarning: [W008] Evaluating Doc.similarity based on empty vectors.\n",
      "  \"__main__\", mod_spec)\n"
     ]
    },
    {
     "name": "stdout",
     "output_type": "stream",
     "text": [
      "Actual: Visionworks Predicted: San Antonio, Texas-based Visionworks\n",
      "Similarity of Predicted vs. Actual: 0.0\n",
      "Actual: Print Speak Predicted: Print Speak\n",
      "Similarity of Predicted vs. Actual: 1.0\n",
      "Actual: Bombshell Technologies Predicted: Bombshell Technologies\n",
      "Similarity of Predicted vs. Actual: 1.0\n",
      "Actual: LaSalle Capital Predicted: LaSalle Capital has sold Brown &amp; Joseph to Incline Equity Partners\n",
      "Similarity of Predicted vs. Actual: 0.5801548724500957\n",
      "Actual: Golden Arrow Resources Corporation Predicted: Golden Arrow Resources Corporation\n",
      "Similarity of Predicted vs. Actual: 1.0\n",
      "Actual: Pricing Assistant Predicted: Paris-based Pricing Assistant\n",
      "Similarity of Predicted vs. Actual: 0.7766073328452113\n"
     ]
    },
    {
     "name": "stderr",
     "output_type": "stream",
     "text": [
      "/usr/lib/python3.7/runpy.py:193: UserWarning: [W008] Evaluating Doc.similarity based on empty vectors.\n",
      "  \"__main__\", mod_spec)\n",
      "/usr/lib/python3.7/runpy.py:193: UserWarning: [W008] Evaluating Doc.similarity based on empty vectors.\n",
      "  \"__main__\", mod_spec)\n"
     ]
    },
    {
     "name": "stdout",
     "output_type": "stream",
     "text": [
      "Actual: N/A (not M&A) Predicted: \n",
      "Similarity of Predicted vs. Actual: 0.0\n",
      "Actual: Alliance Data Systems Corporation Predicted: Publicis Groupe\n",
      "Similarity of Predicted vs. Actual: 0.0015575401883875276\n"
     ]
    },
    {
     "name": "stderr",
     "output_type": "stream",
     "text": [
      "/usr/lib/python3.7/runpy.py:193: UserWarning: [W008] Evaluating Doc.similarity based on empty vectors.\n",
      "  \"__main__\", mod_spec)\n",
      "/usr/lib/python3.7/runpy.py:193: UserWarning: [W008] Evaluating Doc.similarity based on empty vectors.\n",
      "  \"__main__\", mod_spec)\n"
     ]
    },
    {
     "name": "stdout",
     "output_type": "stream",
     "text": [
      "Actual: N/A (not M&A) Predicted: \n",
      "Similarity of Predicted vs. Actual: 0.0\n",
      "Actual: CBM BioPharma, Inc Predicted: CBM BioPharma, Inc. (\"CBM\")\n",
      "Similarity of Predicted vs. Actual: 0.6938430041180741\n",
      "Actual: Keystone Laboratories, Inc Predicted: Keystone Laboratories, Inc.\n",
      "Similarity of Predicted vs. Actual: 0.9527058650472457\n",
      "Actual: e+CancerCare Predicted: e+CancerCare\n",
      "Similarity of Predicted vs. Actual: 1.0\n",
      "Actual: Cold Chain Technologies Predicted: Cold Chain Technologies\n",
      "Similarity of Predicted vs. Actual: 1.0\n"
     ]
    },
    {
     "name": "stderr",
     "output_type": "stream",
     "text": [
      "/usr/lib/python3.7/runpy.py:193: UserWarning: [W008] Evaluating Doc.similarity based on empty vectors.\n",
      "  \"__main__\", mod_spec)\n",
      "/usr/lib/python3.7/runpy.py:193: UserWarning: [W008] Evaluating Doc.similarity based on empty vectors.\n",
      "  \"__main__\", mod_spec)\n"
     ]
    },
    {
     "name": "stdout",
     "output_type": "stream",
     "text": [
      "Actual: N/A (not M&A) Predicted: \n",
      "Similarity of Predicted vs. Actual: 0.0\n",
      "Actual: Destiny Biosciences Global Corp Predicted: Destiny Biosciences Global Corp. in a Stock for Stock Transaction Valuing Therapix\n",
      "Similarity of Predicted vs. Actual: 0.6885436170183633\n",
      "Actual: Cosaint Insurance Partners, LLC  Predicted: Cosaint Insurance Partners, LLC (Cosaint Insurance Partners)\n",
      "Similarity of Predicted vs. Actual: 0.9275389884939255\n",
      "Actual: ChefSteps Predicted: ChefSteps\n",
      "Similarity of Predicted vs. Actual: 1.0\n"
     ]
    },
    {
     "name": "stderr",
     "output_type": "stream",
     "text": [
      "/usr/lib/python3.7/runpy.py:193: UserWarning: [W008] Evaluating Doc.similarity based on empty vectors.\n",
      "  \"__main__\", mod_spec)\n",
      "/usr/lib/python3.7/runpy.py:193: UserWarning: [W008] Evaluating Doc.similarity based on empty vectors.\n",
      "  \"__main__\", mod_spec)\n"
     ]
    },
    {
     "name": "stdout",
     "output_type": "stream",
     "text": [
      "Actual: Swallowfield Predicted: Swallowfield plc\n",
      "Similarity of Predicted vs. Actual: 0.0\n",
      "Actual: Geraldiscos Predicted: Geraldiscos\n",
      "Similarity of Predicted vs. Actual: 1.0\n",
      "Actual: N/A (not M&A) Predicted: U.S. Dollar-Denominated Global Bonds and Euro-Denominated Global Bonds\n",
      "Similarity of Predicted vs. Actual: 0.3253311145205741\n",
      "Actual: Lattice Engines Predicted: Lattice Engines\n",
      "Similarity of Predicted vs. Actual: 1.0\n",
      "Actual: Global Telecom Holding S.A.E Predicted: Global Telecom Holding S.A.E (\"GTH\")\n",
      "Similarity of Predicted vs. Actual: 0.6981249128867117\n",
      "Actual: Bluetree Predicted: Bluetree\n",
      "Similarity of Predicted vs. Actual: 1.0\n",
      "Actual: Three Dots Predicted: Three Dots\n",
      "Similarity of Predicted vs. Actual: 1.0\n",
      "Actual: Deutsche Beteiligungs AG and Infiana Group GmbH Predicted: Infiana Group GmbH\n",
      "Similarity of Predicted vs. Actual: 0.8222503202021174\n"
     ]
    },
    {
     "name": "stderr",
     "output_type": "stream",
     "text": [
      "/usr/lib/python3.7/runpy.py:193: UserWarning: [W008] Evaluating Doc.similarity based on empty vectors.\n",
      "  \"__main__\", mod_spec)\n",
      "/usr/lib/python3.7/runpy.py:193: UserWarning: [W008] Evaluating Doc.similarity based on empty vectors.\n",
      "  \"__main__\", mod_spec)\n"
     ]
    },
    {
     "name": "stdout",
     "output_type": "stream",
     "text": [
      "Actual: BiomX Ltd Predicted: \n",
      "Similarity of Predicted vs. Actual: 0.0\n",
      "Actual: Redx Pharma Predicted: Redx Pharma\n",
      "Similarity of Predicted vs. Actual: 1.0\n",
      "Actual: Blue Harbour Group Predicted: BCA Marketplace Plc\n",
      "Similarity of Predicted vs. Actual: 0.16136499129568405\n"
     ]
    },
    {
     "name": "stderr",
     "output_type": "stream",
     "text": [
      "/usr/lib/python3.7/runpy.py:193: UserWarning: [W008] Evaluating Doc.similarity based on empty vectors.\n",
      "  \"__main__\", mod_spec)\n",
      "/usr/lib/python3.7/runpy.py:193: UserWarning: [W008] Evaluating Doc.similarity based on empty vectors.\n",
      "  \"__main__\", mod_spec)\n"
     ]
    },
    {
     "name": "stdout",
     "output_type": "stream",
     "text": [
      "Actual: EnterpriseDB Predicted: EnterpriseDB Acquired by Great Hill Partners\n",
      "Similarity of Predicted vs. Actual: 0.0\n"
     ]
    },
    {
     "name": "stderr",
     "output_type": "stream",
     "text": [
      "/usr/lib/python3.7/runpy.py:193: UserWarning: [W008] Evaluating Doc.similarity based on empty vectors.\n",
      "  \"__main__\", mod_spec)\n",
      "/usr/lib/python3.7/runpy.py:193: UserWarning: [W008] Evaluating Doc.similarity based on empty vectors.\n",
      "  \"__main__\", mod_spec)\n"
     ]
    },
    {
     "name": "stdout",
     "output_type": "stream",
     "text": [
      "Actual: Archcon Design Build Predicted: \n",
      "Similarity of Predicted vs. Actual: 0.0\n",
      "Actual: Southern Harvest Insurance Predicted: Southern Harvest Insurance\n",
      "Similarity of Predicted vs. Actual: 1.0\n",
      "\n",
      "Total correct: 104 out of 176 ... 59.09%\n"
     ]
    }
   ],
   "source": [
    "train = df[~df['true_seller'].isnull()]\n",
    "\n",
    "correct_count = 0\n",
    "for index, row in train.iterrows():\n",
    "  actual_seller = row['true_seller']\n",
    "  doc1 = nlp(actual_seller)\n",
    "\n",
    "  questions = ['Who was bought?', 'Who was acquired?', 'Who was sold?']\n",
    "  best_result_name = ''\n",
    "  best_result_confidence = 0\n",
    "  for q in questions:\n",
    "    result = ask_question(row['text'], q)\n",
    "    predicted_company = result[0]\n",
    "    predicted_confidence = result[1]\n",
    "\n",
    "    if predicted_confidence > best_result_confidence:\n",
    "      best_result_name = predicted_company\n",
    "      best_result_confidence = predicted_confidence\n",
    "\n",
    "  similarity = doc1.similarity(nlp(best_result_name))\n",
    "  if similarity > 0.7:\n",
    "    correct_count += 1\n",
    "\n",
    "  print(f'Actual: {actual_seller} Predicted: {best_result_name}')\n",
    "  print(f'Similarity of Predicted vs. Actual: {doc1.similarity(nlp(best_result_name))}')\n",
    "\n",
    "print('')\n",
    "print(f'Total correct: {correct_count} out of {len(train)} ... {round((correct_count / len(train)) * 100, 2)}%')"
   ]
  }
 ],
 "metadata": {
  "colab": {
   "authorship_tag": "ABX9TyOQWb/ydriCY3JhHKupo2+J",
   "collapsed_sections": [],
   "name": "Untitled0.ipynb",
   "provenance": []
  },
  "kernelspec": {
   "display_name": "Python 3",
   "language": "python",
   "name": "python3"
  },
  "language_info": {
   "codemirror_mode": {
    "name": "ipython",
    "version": 3
   },
   "file_extension": ".py",
   "mimetype": "text/x-python",
   "name": "python",
   "nbconvert_exporter": "python",
   "pygments_lexer": "ipython3",
   "version": "3.7.6"
  }
 },
 "nbformat": 4,
 "nbformat_minor": 1
}
