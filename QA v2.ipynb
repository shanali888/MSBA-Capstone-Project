{
  "nbformat": 4,
  "nbformat_minor": 0,
  "metadata": {
    "colab": {
      "name": "QA.ipynb",
      "provenance": [],
      "collapsed_sections": []
    },
    "kernelspec": {
      "name": "python3",
      "display_name": "Python 3"
    },
    "language_info": {
      "name": "python"
    }
  },
  "cells": [
    {
      "cell_type": "markdown",
      "metadata": {
        "id": "4Aje4A0GN-ub"
      },
      "source": [
        "# Capstone QA Notebook\n",
        "\n",
        "Shan Ali\n",
        "\n",
        "*Team 2*"
      ]
    },
    {
      "cell_type": "markdown",
      "metadata": {
        "id": "4QBbZPKrONdi"
      },
      "source": [
        "### Initialize/Load Libraires and Data"
      ]
    },
    {
      "cell_type": "code",
      "metadata": {
        "id": "l_4N38FHOIAm"
      },
      "source": [
        "#Installation:\n",
        "!pip install deeppavlov\n",
        "\n",
        "#After deeppavlov is installed, download the BERT config:\n",
        "!python -m deeppavlov install squad_bert"
      ],
      "execution_count": null,
      "outputs": []
    },
    {
      "cell_type": "code",
      "metadata": {
        "id": "jxrqBukYHsnc"
      },
      "source": [
        "import pandas as pd\n",
        "import numpy as np\n",
        "import pickle\n",
        "from deeppavlov import build_model, configs"
      ],
      "execution_count": null,
      "outputs": []
    },
    {
      "cell_type": "code",
      "metadata": {
        "id": "H0zG2dtYtAqG"
      },
      "source": [
        "#!pip install -U -q PyDrive\n",
        "from pydrive.auth import GoogleAuth\n",
        "from pydrive.drive import GoogleDrive\n",
        "from google.colab import auth\n",
        "from oauth2client.client import GoogleCredentials\n",
        "\n",
        "# Authenticate and create the PyDrive client.\n",
        "auth.authenticate_user()\n",
        "gauth = GoogleAuth()\n",
        "gauth.credentials = GoogleCredentials.get_application_default()\n",
        "drive = GoogleDrive(gauth)"
      ],
      "execution_count": null,
      "outputs": []
    },
    {
      "cell_type": "code",
      "metadata": {
        "colab": {
          "base_uri": "https://localhost:8080/"
        },
        "id": "k3zeGg2MtDgS",
        "outputId": "13b8f8d4-6de3-4e62-8a0f-a25857d9ae1c"
      },
      "source": [
        "# download M&A Article Corpus dataset\n",
        "link = 'https://drive.google.com/file/d/18-7kputUOwb-c8na63w-pry1JqDsPiah/view?usp=sharing'\n",
        "id = link.split(\"/\")[-2]\n",
        "\n",
        "downloaded = drive.CreateFile({'id':id})\n",
        "downloaded.GetContentFile('merger_acquisition.csv')\n",
        "madata = pd.read_csv('merger_acquisition.csv')\n",
        "print(madata.shape)"
      ],
      "execution_count": null,
      "outputs": [
        {
          "output_type": "stream",
          "text": [
            "(819, 2)\n"
          ],
          "name": "stdout"
        }
      ]
    },
    {
      "cell_type": "code",
      "metadata": {
        "colab": {
          "base_uri": "https://localhost:8080/"
        },
        "id": "gCSgAVuwvVYH",
        "outputId": "835007cf-3979-41de-cc67-4ed2337b56e5"
      },
      "source": [
        "# download cleaned, first 200 M&A Article Corpus dataset\n",
        "link = 'https://drive.google.com/file/d/1ouk-z5Eg0QWWebcrZmmCWHpYAW9ulicO/view?usp=sharing'\n",
        "id = link.split(\"/\")[-2]\n",
        "\n",
        "downloaded = drive.CreateFile({'id':id})\n",
        "downloaded.GetContentFile('madata-clean.csv')\n",
        "maclean = pd.read_csv('madata-clean.csv')\n",
        "print(maclean.shape)"
      ],
      "execution_count": null,
      "outputs": [
        {
          "output_type": "stream",
          "text": [
            "(200, 3)\n"
          ],
          "name": "stdout"
        }
      ]
    },
    {
      "cell_type": "code",
      "metadata": {
        "colab": {
          "base_uri": "https://localhost:8080/"
        },
        "id": "n5bx51UdNlQE",
        "outputId": "d0060122-9a5f-408f-8ee3-cf1690870dc8"
      },
      "source": [
        "# download Ground Truth dataset\n",
        "link = 'https://drive.google.com/file/d/1gulJyA5Df5fhZcKY-w0IJsUN_UxhMw5H/view?usp=sharing'\n",
        "id = link.split(\"/\")[-2]\n",
        "\n",
        "downloaded = drive.CreateFile({'id':id})\n",
        "downloaded.GetContentFile('groundTruth.csv')\n",
        "truth = pd.read_csv('groundTruth.csv').iloc[:200,]\n",
        "print(truth.shape)"
      ],
      "execution_count": null,
      "outputs": [
        {
          "output_type": "stream",
          "text": [
            "(200, 7)\n"
          ],
          "name": "stdout"
        }
      ]
    },
    {
      "cell_type": "markdown",
      "metadata": {
        "id": "CYDy1wWGOYKF"
      },
      "source": [
        "### Initalize QA Model & Functions"
      ]
    },
    {
      "cell_type": "code",
      "metadata": {
        "id": "TXUNUd7jPpxt"
      },
      "source": [
        "#model = build_model(configs.squad.squad_bert, download=True)   #only run this command once. after initial run, set download to False\n",
        "model = build_model(configs.squad.squad_bert, download=False)\n",
        "\n",
        "Q1 = ['Who was the buyer?']\n",
        "Q2 = ['Who was the seller?']\n",
        "Q3 = ['What was the price?']\n",
        "Q4 = ['What was acquired?']"
      ],
      "execution_count": null,
      "outputs": []
    },
    {
      "cell_type": "code",
      "metadata": {
        "id": "whNKD5bKPp1F"
      },
      "source": [
        "# define M&A question & answer function (MNA QA)\n",
        "def mna_qa(newscollection_data):\n",
        "  # define structures\n",
        "  answers, c = pd.DataFrame(), 1\n",
        "  newscollection = newscollection_data['text'].tolist()\n",
        "  ids = newscollection_data['id'].tolist()\n",
        "  \n",
        "  # loop through news and get answers\n",
        "  for news, id in zip(newscollection, ids):\n",
        "    answ = pd.DataFrame()\n",
        "    answ1 = model([news], Q1)\n",
        "    answ2 = model([news], Q2)      \n",
        "    answ3 = model([news], Q3)\n",
        "    answ4 = model([news], Q4)\n",
        "    \n",
        "    answ = pd.Series([id,answ1[0][0],answ1[2][0],answ2[0][0],answ2[2][0],answ3[0][0],answ3[2][0],answ4[0][0],answ4[2][0],news])\n",
        "    answers = answers.append(answ, ignore_index=True)\n",
        "    print(c)\n",
        "    c += 1\n",
        "\n",
        "  # clean and return answer dataframe\n",
        "  cols = {0:'id',1:'buyer',2:'buyer_confidence',3:'seller',4:'seller_confidence',5:'price',6:'price_confidence',7:'target',8:'target_confidence',9:'news'}\n",
        "  answers = answers.rename(columns=cols)\n",
        "  answers = answers.reset_index(drop=True)\n",
        "  return answers"
      ],
      "execution_count": null,
      "outputs": []
    },
    {
      "cell_type": "markdown",
      "metadata": {
        "id": "X9ZFcGflOfKK"
      },
      "source": [
        "### Run QA for first 200 Articles & Save"
      ]
    },
    {
      "cell_type": "code",
      "metadata": {
        "id": "RzKi-_ZuQEWO"
      },
      "source": [
        "# Loop through news articles to answer M&A questions \n",
        "#answers = mna_qa(madata[:200])\n",
        "clean_answers = mna_qa(maclean)"
      ],
      "execution_count": null,
      "outputs": []
    },
    {
      "cell_type": "code",
      "metadata": {
        "id": "XJmvOZ1PHs6a"
      },
      "source": [
        "# save answer data\n",
        "#!pip install pandas --upgrade\n",
        "from google.colab import drive\n",
        "import pandas as pd\n",
        "drive.mount('drive')"
      ],
      "execution_count": null,
      "outputs": []
    },
    {
      "cell_type": "code",
      "metadata": {
        "id": "vmHFISBmwBQ9"
      },
      "source": [
        "answers.to_csv('answers.csv', index=False)\n",
        "!cp answers.csv \"drive/My Drive/Colab Notebooks\""
      ],
      "execution_count": null,
      "outputs": []
    },
    {
      "cell_type": "code",
      "metadata": {
        "id": "lOIxQS6FwDS0"
      },
      "source": [
        "clean_answers.to_csv('clean_answers.csv', index=False)\n",
        "!cp clean_answers.csv \"drive/My Drive/Colab Notebooks\""
      ],
      "execution_count": null,
      "outputs": []
    },
    {
      "cell_type": "markdown",
      "metadata": {
        "id": "IUIFx0EpOlbZ"
      },
      "source": [
        "### Evaluate Model Performance"
      ]
    },
    {
      "cell_type": "code",
      "metadata": {
        "id": "eCTsupJPHs9Q",
        "colab": {
          "base_uri": "https://localhost:8080/"
        },
        "outputId": "a7e3e1a4-c5ac-43c0-e06a-14dc362fee89"
      },
      "source": [
        "# download answers dataset\n",
        "link = 'https://drive.google.com/file/d/1-APf_Kfhy5uOPLAvj6P16sqGp42giMHS/view?usp=sharing'\n",
        "id = link.split(\"/\")[-2]\n",
        "\n",
        "downloaded = drive.CreateFile({'id':id})\n",
        "downloaded.GetContentFile('answers.csv')\n",
        "answers = pd.read_csv('answers.csv').iloc[:200,]\n",
        "print(answers.shape)"
      ],
      "execution_count": null,
      "outputs": [
        {
          "output_type": "stream",
          "text": [
            "(200, 10)\n"
          ],
          "name": "stdout"
        }
      ]
    },
    {
      "cell_type": "code",
      "metadata": {
        "colab": {
          "base_uri": "https://localhost:8080/"
        },
        "id": "rjMko7-5wKXf",
        "outputId": "6a9659d5-563d-4f6f-e0e5-e49a586d8846"
      },
      "source": [
        "# download clean answers dataset\n",
        "link = 'https://drive.google.com/file/d/1-Lt2A0hpMeLIDZPWY0IsfZq1AwmlGYcW/view?usp=sharing'\n",
        "id = link.split(\"/\")[-2]\n",
        "\n",
        "downloaded = drive.CreateFile({'id':id})\n",
        "downloaded.GetContentFile('clean_answers.csv')\n",
        "clean_answers = pd.read_csv('clean_answers.csv').iloc[:200,]\n",
        "print(clean_answers.shape)"
      ],
      "execution_count": null,
      "outputs": [
        {
          "output_type": "stream",
          "text": [
            "(200, 10)\n"
          ],
          "name": "stdout"
        }
      ]
    },
    {
      "cell_type": "code",
      "metadata": {
        "id": "XUZh8jnEHs_p"
      },
      "source": [
        "# clean for confidence level\n",
        "answ = clean_answers.copy()\n",
        "TRESH = 1\n",
        "answ['buyer'] = np.where(answ['buyer_confidence'] >= TRESH, answ['buyer'], np.nan)\n",
        "answ['seller'] = np.where(answ['seller_confidence'] >= TRESH, answ['seller'], np.nan)\n",
        "answ['price'] = np.where(answ['price_confidence'] >= TRESH, answ['price'], np.nan)\n",
        "answ['target'] = np.where(answ['target_confidence'] >= TRESH, answ['target'], np.nan)\n",
        "\n",
        "# isolate features\n",
        "cols = ['id','buyer','seller','price','target']\n",
        "ground = truth.rename(columns={'true_buyer':'buyer','true_seller':'seller','true_price':'price','true_target':'target'})\n",
        "answ = answ[cols]\n",
        "ground = ground[cols]\n",
        "\n",
        "# get non-nan accuracy \n",
        "acc1 = answ.copy()\n",
        "acc1['buyer'] = np.where(acc1['buyer'] == ground['buyer'],1,0)\n",
        "acc1['seller'] = np.where(acc1['seller'] == ground['seller'],1,0)\n",
        "acc1['price'] = np.where(acc1['price'] == ground['price'],1,0)\n",
        "acc1['target'] = np.where(acc1['target'] == ground['target'],1,0)\n",
        "\n",
        "# replace all nans\n",
        "cols = ['buyer','seller','price','target']\n",
        "answ[cols] = np.where(answ[cols].isna(), ' ', answ[cols])\n",
        "ground[cols] = np.where(ground[cols].isna(), ' ', ground[cols])\n",
        "print(answ.shape, ground.shape)"
      ],
      "execution_count": null,
      "outputs": []
    },
    {
      "cell_type": "code",
      "metadata": {
        "id": "L5j4sfTWHtCJ",
        "colab": {
          "base_uri": "https://localhost:8080/",
          "height": 172
        },
        "outputId": "1b4946a0-71a1-437c-e280-192dade49af4"
      },
      "source": [
        "# get overall accuracy \n",
        "acc = answ.copy()\n",
        "acc['buyer'] = np.where(acc['buyer'] == ground['buyer'],1,0)\n",
        "acc['seller'] = np.where(acc['seller'] == ground['seller'],1,0)\n",
        "acc['price'] = np.where(acc['price'] == ground['price'],1,0)\n",
        "acc['target'] = np.where(acc['target'] == ground['target'],1,0)\n",
        "\n",
        "# organize performance\n",
        "out = pd.DataFrame(acc[cols].apply(np.mean),columns=['ovr_accuracy'])\n",
        "out['n_correct'] = acc[cols].apply(sum)\n",
        "out['n_total'] = 200\n",
        "out['n_answered'] = answ[cols].apply(lambda x: (x != ' ').sum())\n",
        "out['n_truth'] = ground[cols].apply(lambda x: (x != ' ').sum())\n",
        "out['answered_truth_ratio'] = out['n_answered']/out['n_truth']\n",
        "out['n_answered_correct'] = acc1[cols].apply(sum)\n",
        "out['truth_accuracy'] = out['n_correct']/out['n_truth']\n",
        "out['answer_accuracy'] = out['n_correct']/out['n_answered']\n",
        "out"
      ],
      "execution_count": null,
      "outputs": [
        {
          "output_type": "execute_result",
          "data": {
            "text/html": [
              "<div>\n",
              "<style scoped>\n",
              "    .dataframe tbody tr th:only-of-type {\n",
              "        vertical-align: middle;\n",
              "    }\n",
              "\n",
              "    .dataframe tbody tr th {\n",
              "        vertical-align: top;\n",
              "    }\n",
              "\n",
              "    .dataframe thead th {\n",
              "        text-align: right;\n",
              "    }\n",
              "</style>\n",
              "<table border=\"1\" class=\"dataframe\">\n",
              "  <thead>\n",
              "    <tr style=\"text-align: right;\">\n",
              "      <th></th>\n",
              "      <th>ovr_accuracy</th>\n",
              "      <th>n_correct</th>\n",
              "      <th>n_total</th>\n",
              "      <th>n_answered</th>\n",
              "      <th>n_truth</th>\n",
              "      <th>answered_truth_ratio</th>\n",
              "      <th>n_answered_correct</th>\n",
              "      <th>truth_accuracy</th>\n",
              "      <th>answer_accuracy</th>\n",
              "    </tr>\n",
              "  </thead>\n",
              "  <tbody>\n",
              "    <tr>\n",
              "      <th>buyer</th>\n",
              "      <td>0.150</td>\n",
              "      <td>30</td>\n",
              "      <td>200</td>\n",
              "      <td>97</td>\n",
              "      <td>176</td>\n",
              "      <td>0.551136</td>\n",
              "      <td>14</td>\n",
              "      <td>0.170455</td>\n",
              "      <td>0.309278</td>\n",
              "    </tr>\n",
              "    <tr>\n",
              "      <th>seller</th>\n",
              "      <td>0.170</td>\n",
              "      <td>34</td>\n",
              "      <td>200</td>\n",
              "      <td>120</td>\n",
              "      <td>172</td>\n",
              "      <td>0.697674</td>\n",
              "      <td>17</td>\n",
              "      <td>0.197674</td>\n",
              "      <td>0.283333</td>\n",
              "    </tr>\n",
              "    <tr>\n",
              "      <th>price</th>\n",
              "      <td>0.760</td>\n",
              "      <td>152</td>\n",
              "      <td>200</td>\n",
              "      <td>54</td>\n",
              "      <td>21</td>\n",
              "      <td>2.571429</td>\n",
              "      <td>8</td>\n",
              "      <td>7.238095</td>\n",
              "      <td>2.814815</td>\n",
              "    </tr>\n",
              "    <tr>\n",
              "      <th>target</th>\n",
              "      <td>0.255</td>\n",
              "      <td>51</td>\n",
              "      <td>200</td>\n",
              "      <td>197</td>\n",
              "      <td>171</td>\n",
              "      <td>1.152047</td>\n",
              "      <td>51</td>\n",
              "      <td>0.298246</td>\n",
              "      <td>0.258883</td>\n",
              "    </tr>\n",
              "  </tbody>\n",
              "</table>\n",
              "</div>"
            ],
            "text/plain": [
              "        ovr_accuracy  n_correct  ...  truth_accuracy  answer_accuracy\n",
              "buyer          0.150         30  ...        0.170455         0.309278\n",
              "seller         0.170         34  ...        0.197674         0.283333\n",
              "price          0.760        152  ...        7.238095         2.814815\n",
              "target         0.255         51  ...        0.298246         0.258883\n",
              "\n",
              "[4 rows x 9 columns]"
            ]
          },
          "metadata": {
            "tags": []
          },
          "execution_count": 24
        }
      ]
    },
    {
      "cell_type": "code",
      "metadata": {
        "colab": {
          "base_uri": "https://localhost:8080/",
          "height": 167
        },
        "id": "3XJXzn3upO5Z",
        "outputId": "97e3e3cd-2c44-4a9d-c78a-d9824770ba76"
      },
      "source": [
        "out"
      ],
      "execution_count": null,
      "outputs": [
        {
          "output_type": "error",
          "ename": "NameError",
          "evalue": "ignored",
          "traceback": [
            "\u001b[0;31m---------------------------------------------------------------------------\u001b[0m",
            "\u001b[0;31mNameError\u001b[0m                                 Traceback (most recent call last)",
            "\u001b[0;32m<ipython-input-18-9bc27bdc8279>\u001b[0m in \u001b[0;36m<module>\u001b[0;34m()\u001b[0m\n\u001b[0;32m----> 1\u001b[0;31m \u001b[0mout\u001b[0m\u001b[0;34m\u001b[0m\u001b[0;34m\u001b[0m\u001b[0m\n\u001b[0m",
            "\u001b[0;31mNameError\u001b[0m: name 'out' is not defined"
          ]
        }
      ]
    },
    {
      "cell_type": "code",
      "metadata": {
        "id": "oSci3UOFQioC"
      },
      "source": [
        "ground"
      ],
      "execution_count": null,
      "outputs": []
    },
    {
      "cell_type": "code",
      "metadata": {
        "id": "Ffgv2WtyUSG-"
      },
      "source": [
        "answ"
      ],
      "execution_count": null,
      "outputs": []
    },
    {
      "cell_type": "code",
      "metadata": {
        "id": "iXD4FyquguT3"
      },
      "source": [
        ""
      ],
      "execution_count": null,
      "outputs": []
    }
  ]
}