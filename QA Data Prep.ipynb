{
 "cells": [
  {
   "cell_type": "markdown",
   "metadata": {},
   "source": [
    "# QA Text Processing"
   ]
  },
  {
   "cell_type": "code",
   "execution_count": 40,
   "metadata": {},
   "outputs": [],
   "source": [
    "# load libraries\n",
    "#!python -m spacy download en_core_web_lg\n",
    "import pandas as pd\n",
    "import numpy as np\n",
    "import spacy\n",
    "from spacy import displacy\n",
    "import en_core_web_lg\n",
    "nlp = spacy.load(\"en_core_web_lg\")"
   ]
  },
  {
   "cell_type": "code",
   "execution_count": 113,
   "metadata": {},
   "outputs": [],
   "source": [
    "madata = pd.read_csv('merger_acquisition.csv')\n",
    "duns = pd.read_csv('mna_duns.csv')\n",
    "\n",
    "madata['text'] = madata['text'].replace('\\'','', regex=True)\n",
    "madata['text'] = madata['text'].replace(':',' ', regex=True)"
   ]
  },
  {
   "cell_type": "code",
   "execution_count": 124,
   "metadata": {},
   "outputs": [
    {
     "data": {
      "text/html": [
       "<div>\n",
       "<style scoped>\n",
       "    .dataframe tbody tr th:only-of-type {\n",
       "        vertical-align: middle;\n",
       "    }\n",
       "\n",
       "    .dataframe tbody tr th {\n",
       "        vertical-align: top;\n",
       "    }\n",
       "\n",
       "    .dataframe thead th {\n",
       "        text-align: right;\n",
       "    }\n",
       "</style>\n",
       "<table border=\"1\" class=\"dataframe\">\n",
       "  <thead>\n",
       "    <tr style=\"text-align: right;\">\n",
       "      <th></th>\n",
       "      <th>DUNS</th>\n",
       "      <th>short_entity_name</th>\n",
       "      <th>alt_name_list</th>\n",
       "    </tr>\n",
       "  </thead>\n",
       "  <tbody>\n",
       "    <tr>\n",
       "      <th>0</th>\n",
       "      <td>0</td>\n",
       "      <td>RALEIGH NC</td>\n",
       "      <td>NaN</td>\n",
       "    </tr>\n",
       "    <tr>\n",
       "      <th>1</th>\n",
       "      <td>1</td>\n",
       "      <td>Rifiniti</td>\n",
       "      <td>NaN</td>\n",
       "    </tr>\n",
       "    <tr>\n",
       "      <th>2</th>\n",
       "      <td>2</td>\n",
       "      <td>Premium Transportation Logistics</td>\n",
       "      <td>NaN</td>\n",
       "    </tr>\n",
       "    <tr>\n",
       "      <th>3</th>\n",
       "      <td>3</td>\n",
       "      <td>Senior Management Team</td>\n",
       "      <td>NaN</td>\n",
       "    </tr>\n",
       "    <tr>\n",
       "      <th>4</th>\n",
       "      <td>4</td>\n",
       "      <td>PTL</td>\n",
       "      <td>NaN</td>\n",
       "    </tr>\n",
       "    <tr>\n",
       "      <th>...</th>\n",
       "      <td>...</td>\n",
       "      <td>...</td>\n",
       "      <td>...</td>\n",
       "    </tr>\n",
       "    <tr>\n",
       "      <th>607</th>\n",
       "      <td>607</td>\n",
       "      <td>Sierra MCC</td>\n",
       "      <td>['Sierra Income Corporation', 'Sierra MCC']</td>\n",
       "    </tr>\n",
       "    <tr>\n",
       "      <th>608</th>\n",
       "      <td>608</td>\n",
       "      <td>Spark Power Corp</td>\n",
       "      <td>['Spark Power Group Inc', 'Spark Power Corp']</td>\n",
       "    </tr>\n",
       "    <tr>\n",
       "      <th>609</th>\n",
       "      <td>609</td>\n",
       "      <td>VEON Holdings</td>\n",
       "      <td>['VEON Holdings BV', 'VEON Holdings']</td>\n",
       "    </tr>\n",
       "    <tr>\n",
       "      <th>610</th>\n",
       "      <td>610</td>\n",
       "      <td>Wacoal America Inc</td>\n",
       "      <td>['Wacoal International Corporation', 'Wacoal A...</td>\n",
       "    </tr>\n",
       "    <tr>\n",
       "      <th>611</th>\n",
       "      <td>611</td>\n",
       "      <td>the Bonos Soberanos</td>\n",
       "      <td>['the \"Bonos Soberanos\"', 'the Bonos Soberanos']</td>\n",
       "    </tr>\n",
       "  </tbody>\n",
       "</table>\n",
       "<p>612 rows × 3 columns</p>\n",
       "</div>"
      ],
      "text/plain": [
       "     DUNS                 short_entity_name  \\\n",
       "0       0                        RALEIGH NC   \n",
       "1       1                          Rifiniti   \n",
       "2       2  Premium Transportation Logistics   \n",
       "3       3            Senior Management Team   \n",
       "4       4                               PTL   \n",
       "..    ...                               ...   \n",
       "607   607                        Sierra MCC   \n",
       "608   608                  Spark Power Corp   \n",
       "609   609                     VEON Holdings   \n",
       "610   610                Wacoal America Inc   \n",
       "611   611               the Bonos Soberanos   \n",
       "\n",
       "                                         alt_name_list  \n",
       "0                                                  NaN  \n",
       "1                                                  NaN  \n",
       "2                                                  NaN  \n",
       "3                                                  NaN  \n",
       "4                                                  NaN  \n",
       "..                                                 ...  \n",
       "607        ['Sierra Income Corporation', 'Sierra MCC']  \n",
       "608      ['Spark Power Group Inc', 'Spark Power Corp']  \n",
       "609              ['VEON Holdings BV', 'VEON Holdings']  \n",
       "610  ['Wacoal International Corporation', 'Wacoal A...  \n",
       "611   ['the \"Bonos Soberanos\"', 'the Bonos Soberanos']  \n",
       "\n",
       "[612 rows x 3 columns]"
      ]
     },
     "execution_count": 124,
     "metadata": {},
     "output_type": "execute_result"
    }
   ],
   "source": [
    "duns"
   ]
  },
  {
   "cell_type": "code",
   "execution_count": 156,
   "metadata": {},
   "outputs": [
    {
     "name": "stdout",
     "output_type": "stream",
     "text": [
      "1 Rifiniti Acquisition\n",
      "1 Match Rifiniti Acquisition Enterprises Acquisition Corp\n",
      "2 FM Systems\n",
      "2 No Match FM Systems\n",
      "3 Rifiniti\n",
      "3 Match Rifiniti Rifiniti\n"
     ]
    },
    {
     "name": "stderr",
     "output_type": "stream",
     "text": [
      "C:\\Users\\shanc\\Anaconda3\\lib\\site-packages\\ipykernel_launcher.py:38: UserWarning: [W008] Evaluating Doc.similarity based on empty vectors.\n",
      "C:\\Users\\shanc\\Anaconda3\\lib\\site-packages\\ipykernel_launcher.py:52: DeprecationWarning: The default dtype for empty Series will be 'object' instead of 'float64' in a future version. Specify a dtype explicitly to silence this warning.\n",
      "C:\\Users\\shanc\\Anaconda3\\lib\\site-packages\\ipykernel_launcher.py:64: SettingWithCopyWarning: \n",
      "A value is trying to be set on a copy of a slice from a DataFrame\n",
      "\n",
      "See the caveats in the documentation: https://pandas.pydata.org/pandas-docs/stable/user_guide/indexing.html#returning-a-view-versus-a-copy\n"
     ]
    }
   ],
   "source": [
    "# replace large company names with DUNS shortened entity\n",
    "short_entities = duns['short_entity_name'].tolist()\n",
    "duns_list = duns['DUNS'].tolist()\n",
    "alt_name_lists = duns['alt_name_list']\n",
    "alt_name_lists = np.where(alt_name_lists.isna(), [''], alt_name_lists).tolist()\n",
    "short_entities_nlp = duns['short_entity_name'].apply(nlp).tolist()\n",
    "\n",
    "# entity standardization function\n",
    "def duns_process(text):\n",
    "\n",
    "    # extract identified organizational entities & persons\n",
    "    news_nlp = nlp(text)\n",
    "    recognized_org, recognized_people = [], []\n",
    "    for entity in news_nlp.ents:\n",
    "        label = entity.label_\n",
    "        if label == 'ORG': recognized_org.append(entity.text)\n",
    "        elif label == 'PERSON': recognized_people.append(entity.text)\n",
    "        else: continue\n",
    "\n",
    "    # initalize replacement loop\n",
    "    text = text.lower()\n",
    "    recognized_org = pd.Series(recognized_org).unique()\n",
    "    i, TRESH = 1, 0.7\n",
    "    duns_new, d = [], duns_list[-1]\n",
    "    \n",
    "    # replace entities to shortened form\n",
    "    for org in recognized_org:\n",
    "        print(i, org)\n",
    "        text = text.replace(org.lower(), org)\n",
    "        paired, nlp_org = False, nlp(org)\n",
    "        pack = zip(short_entities, alt_name_lists, duns_list, short_entities_nlp)\n",
    "        for short_entity, alt_name_list, dun, entity_nlp in pack:\n",
    "            if (org == short_entity) | (org in alt_name_list):\n",
    "                print(i, 'Match', org, short_entity)\n",
    "                entity = 'Org' + str(dun) #+ ' Company'\n",
    "                text = text.replace(org, entity)\n",
    "                paired = True\n",
    "            elif nlp_org.similarity(entity_nlp) > TRESH:\n",
    "                print(i, 'Match', org, short_entity)\n",
    "                entity = 'Org' + str(dun) #+ ' Company'\n",
    "                text = text.replace(org, entity)\n",
    "                paired = True\n",
    "        if paired == False:\n",
    "            print(i, 'No Match', org)\n",
    "            d += 1\n",
    "            duns_new = duns_new.append([d, org, np.nan])\n",
    "            entity = 'Org' + str(d) #+ ' Company'\n",
    "            text = text.replace(org, entity)\n",
    "        i += 1\n",
    "                \n",
    "    # replace people entities to 'person'\n",
    "    recognized_people = pd.Series(recognized_people).unique()\n",
    "    for prsn in recognized_people:\n",
    "        text = text.replace(prsn, 'person')\n",
    "        \n",
    "    # append new duns values to dataset\n",
    "    #duns = duns.append(duns_new)\n",
    "                \n",
    "    return text\n",
    "\n",
    "# process text for DUNS entities\n",
    "madata2 = madata.copy()\n",
    "end = 1\n",
    "madata2['text'][:end] = madata2['text'][:end].map(duns_process)\n",
    "#madata2['text'][:end] = madata2['text'][:end].map(duns_process)"
   ]
  },
  {
   "cell_type": "code",
   "execution_count": 157,
   "metadata": {},
   "outputs": [
    {
     "data": {
      "text/plain": [
       "'Org612 gains advanced workspace analytics through Org182. raleigh, n.c., july 10, 2019 /prnewswire/ -- Org612, a leader in facility management technology that enables facility and real estate professionals to identify, plan and deliver the ideal workplace for every employee, announced today its acquisition of  Org1, a provider of advanced analytics for workspace optimization. the companys sophisticated data science and machine learning algorithms propel Org612 towards its goal of providing clients with key insights that empower them to make critical business decisions based on highly accurate space utilization trends. with as much as 50% underutilized space in workplaces today, the actionable insights from this advanced technology helps visualize trends, significantly reducing real estate costs by rebalancing and consolidating workspaces while enabling better workspace design and workforce collaboration.\\n'"
      ]
     },
     "execution_count": 157,
     "metadata": {},
     "output_type": "execute_result"
    }
   ],
   "source": [
    "madata2.iloc[0,1]"
   ]
  },
  {
   "cell_type": "code",
   "execution_count": 104,
   "metadata": {},
   "outputs": [],
   "source": [
    "madata2[:end].to_csv('madata-clean-duns.csv')"
   ]
  },
  {
   "cell_type": "markdown",
   "metadata": {},
   "source": [
    "### Evaluate Accuracy"
   ]
  },
  {
   "cell_type": "code",
   "execution_count": 3,
   "metadata": {},
   "outputs": [],
   "source": [
    "truth = pd.read_csv('groundTruth.csv').iloc[:200,]\n",
    "clean_answers = pd.read_csv('clean_answers.csv').iloc[:200,]"
   ]
  },
  {
   "cell_type": "code",
   "execution_count": 8,
   "metadata": {},
   "outputs": [],
   "source": [
    "# clean for confidence level\n",
    "answ = clean_answers.copy()\n",
    "TRESH = 1\n",
    "answ['buyer'] = np.where(answ['buyer_confidence'] >= TRESH, answ['buyer'], np.nan)\n",
    "answ['seller'] = np.where(answ['seller_confidence'] >= TRESH, answ['seller'], np.nan)\n",
    "answ['price'] = np.where(answ['price_confidence'] >= TRESH, answ['price'], np.nan)\n",
    "answ['target'] = np.where(answ['target_confidence'] >= TRESH, answ['target'], np.nan)\n",
    "\n",
    "# isolate features\n",
    "cols = ['id','buyer','seller','price','target']\n",
    "ground = truth.rename(columns={'true_buyer':'buyer','true_seller':'seller','true_price':'price','true_target':'target'})\n",
    "answ = answ[cols]\n",
    "ground = ground[cols]"
   ]
  },
  {
   "cell_type": "code",
   "execution_count": 39,
   "metadata": {},
   "outputs": [
    {
     "name": "stderr",
     "output_type": "stream",
     "text": [
      "C:\\Users\\shanc\\Anaconda3\\lib\\site-packages\\ipykernel_launcher.py:6: UserWarning: [W008] Evaluating Doc.similarity based on empty vectors.\n",
      "  \n"
     ]
    },
    {
     "name": "stdout",
     "output_type": "stream",
     "text": [
      "(200, 5) (200, 5)\n"
     ]
    }
   ],
   "source": [
    "# define text to nlp function\n",
    "def get_accuracy(col):\n",
    "    truth = ground[col.name]\n",
    "    TRESH = 0.7\n",
    "    for i in range(col.shape[0]):\n",
    "        try: col[i] = nlp(col[i]).similarity(nlp(truth[i])) > TRESH\n",
    "        except: col[i] = np.nan\n",
    "    return col\n",
    "\n",
    "# get non-nan accuracy \n",
    "acc1 = answ.copy()\n",
    "cols = ['buyer','seller','price','target']\n",
    "acc1[cols] = acc1[cols].apply(get_accuracy)\n",
    "\n",
    "# replace all nans\n",
    "answ[cols] = np.where(answ[cols].isna(), ' ', answ[cols])\n",
    "ground[cols] = np.where(ground[cols].isna(), ' ', ground[cols])\n",
    "\n",
    "# get overall accuracy \n",
    "acc = answ.copy()\n",
    "acc[cols] = acc[cols].apply(get_accuracy)\n",
    "print(answ.shape, ground.shape)"
   ]
  },
  {
   "cell_type": "code",
   "execution_count": 33,
   "metadata": {},
   "outputs": [
    {
     "data": {
      "text/html": [
       "<div>\n",
       "<style scoped>\n",
       "    .dataframe tbody tr th:only-of-type {\n",
       "        vertical-align: middle;\n",
       "    }\n",
       "\n",
       "    .dataframe tbody tr th {\n",
       "        vertical-align: top;\n",
       "    }\n",
       "\n",
       "    .dataframe thead th {\n",
       "        text-align: right;\n",
       "    }\n",
       "</style>\n",
       "<table border=\"1\" class=\"dataframe\">\n",
       "  <thead>\n",
       "    <tr style=\"text-align: right;\">\n",
       "      <th></th>\n",
       "      <th>ovr_accuracy</th>\n",
       "      <th>n_correct</th>\n",
       "      <th>n_total</th>\n",
       "      <th>n_answered</th>\n",
       "      <th>n_truth</th>\n",
       "      <th>answered_truth_ratio</th>\n",
       "      <th>accuracy</th>\n",
       "    </tr>\n",
       "  </thead>\n",
       "  <tbody>\n",
       "    <tr>\n",
       "      <th>buyer</th>\n",
       "      <td>NaN</td>\n",
       "      <td>NaN</td>\n",
       "      <td>200</td>\n",
       "      <td>97</td>\n",
       "      <td>176</td>\n",
       "      <td>0.551136</td>\n",
       "      <td>NaN</td>\n",
       "    </tr>\n",
       "    <tr>\n",
       "      <th>seller</th>\n",
       "      <td>0.005</td>\n",
       "      <td>53.0</td>\n",
       "      <td>200</td>\n",
       "      <td>120</td>\n",
       "      <td>172</td>\n",
       "      <td>0.697674</td>\n",
       "      <td>0.265</td>\n",
       "    </tr>\n",
       "    <tr>\n",
       "      <th>price</th>\n",
       "      <td>0.815</td>\n",
       "      <td>163.0</td>\n",
       "      <td>200</td>\n",
       "      <td>50</td>\n",
       "      <td>21</td>\n",
       "      <td>2.380952</td>\n",
       "      <td>0.815</td>\n",
       "    </tr>\n",
       "    <tr>\n",
       "      <th>target</th>\n",
       "      <td>0.005</td>\n",
       "      <td>109.0</td>\n",
       "      <td>200</td>\n",
       "      <td>174</td>\n",
       "      <td>171</td>\n",
       "      <td>1.017544</td>\n",
       "      <td>0.545</td>\n",
       "    </tr>\n",
       "  </tbody>\n",
       "</table>\n",
       "</div>"
      ],
      "text/plain": [
       "        ovr_accuracy  n_correct  n_total  n_answered  n_truth  \\\n",
       "buyer            NaN        NaN      200          97      176   \n",
       "seller         0.005       53.0      200         120      172   \n",
       "price          0.815      163.0      200          50       21   \n",
       "target         0.005      109.0      200         174      171   \n",
       "\n",
       "        answered_truth_ratio  accuracy  \n",
       "buyer               0.551136       NaN  \n",
       "seller              0.697674     0.265  \n",
       "price               2.380952     0.815  \n",
       "target              1.017544     0.545  "
      ]
     },
     "execution_count": 33,
     "metadata": {},
     "output_type": "execute_result"
    }
   ],
   "source": [
    "# organize performance\n",
    "out = pd.DataFrame(acc[cols].apply(np.mean),columns=['ovr_accuracy'])\n",
    "out['n_correct'] = acc[cols].apply(sum)\n",
    "out['n_total'] = 200\n",
    "out['n_answered'] = answ[cols].apply(lambda x: (x != ' ').sum())\n",
    "out['n_truth'] = ground[cols].apply(lambda x: (x != ' ').sum())\n",
    "out['answered_truth_ratio'] = out['n_answered']/out['n_truth']\n",
    "#out['n_answered_correct'] = acc1[cols].apply(sum)\n",
    "out['accuracy'] = out['n_correct']/out['n_total']\n",
    "#out['truth_accuracy'] = out['n_correct']/out['n_truth']\n",
    "#out['answer_accuracy'] = out['n_correct']/out['n_answered']\n",
    "out"
   ]
  },
  {
   "cell_type": "code",
   "execution_count": null,
   "metadata": {},
   "outputs": [],
   "source": []
  },
  {
   "cell_type": "code",
   "execution_count": null,
   "metadata": {},
   "outputs": [],
   "source": []
  },
  {
   "cell_type": "code",
   "execution_count": null,
   "metadata": {},
   "outputs": [],
   "source": []
  }
 ],
 "metadata": {
  "kernelspec": {
   "display_name": "Python 3",
   "language": "python",
   "name": "python3"
  },
  "language_info": {
   "codemirror_mode": {
    "name": "ipython",
    "version": 3
   },
   "file_extension": ".py",
   "mimetype": "text/x-python",
   "name": "python",
   "nbconvert_exporter": "python",
   "pygments_lexer": "ipython3",
   "version": "3.7.6"
  }
 },
 "nbformat": 4,
 "nbformat_minor": 4
}
